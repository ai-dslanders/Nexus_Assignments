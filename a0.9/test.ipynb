{
  "nbformat": 4,
  "nbformat_minor": 0,
  "metadata": {
    "colab": {
      "provenance": []
    },
    "kernelspec": {
      "name": "python3",
      "display_name": "Python 3"
    },
    "language_info": {
      "name": "python"
    }
  },
  "cells": [
    {
      "cell_type": "markdown",
      "source": [
        "# 1️⃣ Class and Object Creation\n",
        "Task:\n",
        "\n",
        "Define a class Car with attributes brand and year.\n",
        "\n",
        "Create an object car1 of class Car with values (\"Toyota\", 2020) and print them."
      ],
      "metadata": {
        "id": "jXeFx3ouAeuu"
      }
    },
    {
      "cell_type": "code",
      "execution_count": 19,
      "metadata": {
        "colab": {
          "base_uri": "https://localhost:8080/"
        },
        "id": "q6ZZJvAlwvOR",
        "outputId": "0cab0f68-9d31-4473-9e39-52ee9baa7f32"
      },
      "outputs": [
        {
          "output_type": "stream",
          "name": "stdout",
          "text": [
            "Toyota 2020\n"
          ]
        }
      ],
      "source": [
        "# Example snippet\n",
        "class Car:\n",
        "    def __init__(self, brand, year):\n",
        "        self.brand = brand\n",
        "        self.year = year\n",
        "\n",
        "car1 = Car(\"Toyota\", 2020)\n",
        "print(car1.brand, car1.year)\n"
      ]
    },
    {
      "cell_type": "code",
      "source": [
        "car2 = Car(\"Tesla\" , 2023)\n",
        "print(car2.brand , car2.year)"
      ],
      "metadata": {
        "id": "Zgp2JBoeyfKk",
        "colab": {
          "base_uri": "https://localhost:8080/"
        },
        "outputId": "958c2ca8-dc2c-4b91-c812-bdb2f155a7ec"
      },
      "execution_count": 20,
      "outputs": [
        {
          "output_type": "stream",
          "name": "stdout",
          "text": [
            "Tesla 2023\n"
          ]
        }
      ]
    },
    {
      "cell_type": "markdown",
      "source": [
        "# 2️⃣ Add Methods 🛠\n",
        "Task: Add a method info() to Car that prints \"Brand: , Year: \"."
      ],
      "metadata": {
        "id": "97_yM2QFB9SK"
      }
    },
    {
      "cell_type": "code",
      "source": [
        "# Example snippet\n",
        "class Car:\n",
        "    def __init__(self, brand, year):\n",
        "        self.brand = brand\n",
        "        self.year = year\n",
        "\n",
        "    def info(self):\n",
        "        print(f\"Brand: {self.brand}, Year: {self.year}\")\n",
        "\n",
        "car1 = Car(\"Toyota\", 2020)\n",
        "car1.info()\n"
      ],
      "metadata": {
        "colab": {
          "base_uri": "https://localhost:8080/"
        },
        "id": "m8xhvbmxCAAU",
        "outputId": "93247157-601d-459c-a016-6cda0541f221"
      },
      "execution_count": 21,
      "outputs": [
        {
          "output_type": "stream",
          "name": "stdout",
          "text": [
            "Brand: Toyota, Year: 2020\n"
          ]
        }
      ]
    },
    {
      "cell_type": "code",
      "source": [
        "car2 = Car(\"Tesla\" , 2023)\n",
        "car2.info()"
      ],
      "metadata": {
        "colab": {
          "base_uri": "https://localhost:8080/"
        },
        "id": "H7dPpb_7NcqO",
        "outputId": "f7b8bbe4-36e4-4259-8f15-5b894003aa3f"
      },
      "execution_count": 22,
      "outputs": [
        {
          "output_type": "stream",
          "name": "stdout",
          "text": [
            "Brand: Tesla, Year: 2023\n"
          ]
        }
      ]
    },
    {
      "cell_type": "markdown",
      "source": [
        "# 3️⃣ Class vs Instance Attributes 📦\n",
        "Task:\n",
        "\n",
        "Add a class attribute wheels = 4 to Car.\n",
        "\n",
        "Print car1.wheels and car2.wheels."
      ],
      "metadata": {
        "id": "g8bOyO2ZNnSa"
      }
    },
    {
      "cell_type": "code",
      "source": [
        "class Car:\n",
        "    def __init__(self, brand, year , wheels=4):\n",
        "        self.brand = brand\n",
        "        self.year = year\n",
        "        self.wheels = wheels"
      ],
      "metadata": {
        "id": "225NeqDWNsj8"
      },
      "execution_count": 24,
      "outputs": []
    },
    {
      "cell_type": "code",
      "source": [
        "car1 = Car(\"Toyota\" , 2020)\n",
        "car2 = Car(\"Tesla\" , 2023)\n",
        "print(f\"Car 1 wheels : {car1.wheels}\")\n",
        "print(f\"Car 2 wheels : {car2.wheels}\")\n"
      ],
      "metadata": {
        "colab": {
          "base_uri": "https://localhost:8080/"
        },
        "id": "gJBPBp_PN8lG",
        "outputId": "6057831d-1a57-4b3d-9d0f-4f3c43cd8b48"
      },
      "execution_count": 26,
      "outputs": [
        {
          "output_type": "stream",
          "name": "stdout",
          "text": [
            "Car 1 wheels : 4\n",
            "Car 2 wheels : 4\n"
          ]
        }
      ]
    },
    {
      "cell_type": "markdown",
      "source": [
        "# 4️⃣ Inheritance 👑\n",
        "Task:\n",
        "\n",
        "Create a subclass ElectricCar inheriting from Car.\n",
        "Add a new attribute battery (e.g., \"80 kWh\") and a method battery_info() that prints \"Battery: \"."
      ],
      "metadata": {
        "id": "R4vl_QW0OZ_c"
      }
    },
    {
      "cell_type": "code",
      "source": [
        "# Example snippet\n",
        "\n",
        "class Car:\n",
        "    def __init__(self , brand , year , wheels=4):\n",
        "      self.brand = brand\n",
        "      self.year = year\n",
        "      self.wheels = wheels\n",
        "\n",
        "    def info(self):\n",
        "      print(f\"Brand: {self.brand}, Year: {self.year}, Wheels: {self.wheels}\")\n",
        "\n",
        "\n",
        "class ElectricCar(Car):\n",
        "    def __init__(self, brand, year, battery):\n",
        "        super().__init__(brand, year)\n",
        "        self.battery = battery\n",
        "\n",
        "    def battery_info(self):\n",
        "        print(f\"Battery: {self.battery}\")\n",
        "\n",
        "e_car = ElectricCar(\"Tesla\", 2023, \"80 kWh\")\n",
        "e_car.info()\n",
        "e_car.battery_info()\n"
      ],
      "metadata": {
        "colab": {
          "base_uri": "https://localhost:8080/"
        },
        "id": "oqi-7UsoOciP",
        "outputId": "8fbbf38e-7161-4c69-ee22-7268b0b89f7f"
      },
      "execution_count": 29,
      "outputs": [
        {
          "output_type": "stream",
          "name": "stdout",
          "text": [
            "Brand: Tesla, Year: 2023, Wheels: 4\n",
            "Battery: 80 kWh\n"
          ]
        }
      ]
    },
    {
      "cell_type": "markdown",
      "source": [
        "# 5️⃣ Bonus ⚡\n",
        "Add a str method to Car to return a string like: \"Car(brand=Toyota, year=2020)\"."
      ],
      "metadata": {
        "id": "pjerthQYZF1c"
      }
    },
    {
      "cell_type": "code",
      "source": [
        "class Car:\n",
        "  def __init__(self , brand , year , wheels=4):\n",
        "    self.brand = brand\n",
        "    self.year = year\n",
        "    self.wheels = wheels\n",
        "  def __str__(self):\n",
        "    return f\"Car(brand={self.brand}, year={self.year})\"\n",
        "\n",
        "c1 = Car(\"Toyota\" , 2020)\n",
        "c1.__str__()"
      ],
      "metadata": {
        "colab": {
          "base_uri": "https://localhost:8080/",
          "height": 36
        },
        "id": "KVGLJjZ6ZRT2",
        "outputId": "2d2abe0d-1e91-4cc5-e2aa-83895023ed38"
      },
      "execution_count": 33,
      "outputs": [
        {
          "output_type": "execute_result",
          "data": {
            "text/plain": [
              "'Car(brand=Toyota, year=2020)'"
            ],
            "application/vnd.google.colaboratory.intrinsic+json": {
              "type": "string"
            }
          },
          "metadata": {},
          "execution_count": 33
        }
      ]
    }
  ]
}