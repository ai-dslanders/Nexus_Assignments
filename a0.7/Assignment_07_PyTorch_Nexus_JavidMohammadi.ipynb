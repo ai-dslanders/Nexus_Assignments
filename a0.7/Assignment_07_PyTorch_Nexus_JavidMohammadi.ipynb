{
  "nbformat": 4,
  "nbformat_minor": 0,
  "metadata": {
    "colab": {
      "provenance": []
    },
    "kernelspec": {
      "name": "python3",
      "display_name": "Python 3"
    },
    "language_info": {
      "name": "python"
    }
  },
  "cells": [
    {
      "cell_type": "markdown",
      "source": [
        "# 🔥 Assignment: Exploring PyTorch\n"
      ],
      "metadata": {
        "id": "dbICYwLGo5Av"
      }
    },
    {
      "cell_type": "markdown",
      "source": [
        "## 🎯 Goal\n",
        "This assignment evaluates your basic skills in using PyTorch, focusing on tensors, autograd, and a small training loop.\n",
        "\n"
      ],
      "metadata": {
        "id": "b8h5DExTo6K5"
      }
    },
    {
      "cell_type": "markdown",
      "source": [
        "### 1️⃣ Setup and Basics\n",
        "**Task:**\n",
        "\n",
        "* Install PyTorch and check its version.\n",
        "\n",
        "* Create a 2D tensor and print it."
      ],
      "metadata": {
        "id": "euolCT3oo8dR"
      }
    },
    {
      "cell_type": "code",
      "execution_count": 82,
      "metadata": {
        "id": "9AADPzP6o1iY",
        "colab": {
          "base_uri": "https://localhost:8080/"
        },
        "outputId": "a3255ba7-1011-4e64-b67d-59332e5e0c2a"
      },
      "outputs": [
        {
          "output_type": "stream",
          "name": "stdout",
          "text": [
            "PyTorch version: 2.6.0+cu124\n",
            "Tensor x:\n",
            " tensor([[1., 2.],\n",
            "        [3., 4.]])\n"
          ]
        }
      ],
      "source": [
        "import torch\n",
        "\n",
        "print(\"PyTorch version:\", torch.__version__)\n",
        "x = torch.tensor([[1., 2.], [3., 4.]])\n",
        "print(\"Tensor x:\\n\", x)\n",
        "#x.dtype, x.size()"
      ]
    },
    {
      "cell_type": "code",
      "source": [
        "# Your turn:\n",
        "# Create another tensor y of the same shape with values [[5, 6], [7, 8]].\n",
        "y = torch.arange(5, 9, dtype = torch.float32).view(2, 2)\n",
        "print(\"Tensor y:\\n\", y)"
      ],
      "metadata": {
        "id": "T5mCQMYFpBJm",
        "colab": {
          "base_uri": "https://localhost:8080/"
        },
        "outputId": "dc300d16-d0e1-4467-e5f0-fcb222efb98e"
      },
      "execution_count": 83,
      "outputs": [
        {
          "output_type": "stream",
          "name": "stdout",
          "text": [
            "Tensor y:\n",
            " tensor([[5., 6.],\n",
            "        [7., 8.]])\n"
          ]
        }
      ]
    },
    {
      "cell_type": "markdown",
      "source": [
        "### 2️⃣ Tensor Operations 🧮\n",
        "**Task:** Perform addition and matrix multiplication."
      ],
      "metadata": {
        "id": "7yRBms7npEUe"
      }
    },
    {
      "cell_type": "code",
      "source": [
        "z = x + y\n",
        "print(\"Addition:\\n\", z)\n",
        "\n",
        "mat_mul = x @ y\n",
        "print(\"Matrix Multiplication:\\n\", mat_mul)\n"
      ],
      "metadata": {
        "id": "nGRNryC4pDv2",
        "colab": {
          "base_uri": "https://localhost:8080/"
        },
        "outputId": "7edfa743-f0c9-43f9-8e97-2de0994f35da"
      },
      "execution_count": 84,
      "outputs": [
        {
          "output_type": "stream",
          "name": "stdout",
          "text": [
            "Addition:\n",
            " tensor([[ 6.,  8.],\n",
            "        [10., 12.]])\n",
            "Matrix Multiplication:\n",
            " tensor([[19., 22.],\n",
            "        [43., 50.]])\n"
          ]
        }
      ]
    },
    {
      "cell_type": "code",
      "source": [
        "# Your turn:\n",
        "# Perform element-wise multiplication (x * y) and print the result.\n",
        "print(\"Element-wise multiplication:\\n\", x * y)\n",
        "\n",
        "\n",
        "\n"
      ],
      "metadata": {
        "id": "tf64nP2dpIod",
        "colab": {
          "base_uri": "https://localhost:8080/"
        },
        "outputId": "ceb8642a-5d6b-4e32-8b65-5d072fb19ab4"
      },
      "execution_count": 85,
      "outputs": [
        {
          "output_type": "stream",
          "name": "stdout",
          "text": [
            "Element-wise multiplication:\n",
            " tensor([[ 5., 12.],\n",
            "        [21., 32.]])\n"
          ]
        }
      ]
    },
    {
      "cell_type": "markdown",
      "source": [
        "### 3️⃣ Autograd and Gradients ⚙️\n",
        "**Task:** Enable gradient tracking and compute derivatives."
      ],
      "metadata": {
        "id": "h3dABundpMYU"
      }
    },
    {
      "cell_type": "code",
      "source": [
        "a = torch.tensor(3.0, requires_grad=True)\n",
        "b = (a ** 2) + 2 * a + 1\n",
        "b.backward()\n",
        "print(\"Gradient of b wrt a:\", a.grad)\n"
      ],
      "metadata": {
        "id": "igtPKY90pLGt",
        "colab": {
          "base_uri": "https://localhost:8080/"
        },
        "outputId": "ad9379e9-a75d-4a79-fae6-87ba427eef0b"
      },
      "execution_count": 86,
      "outputs": [
        {
          "output_type": "stream",
          "name": "stdout",
          "text": [
            "Gradient of b wrt a: tensor(8.)\n"
          ]
        }
      ]
    },
    {
      "cell_type": "code",
      "source": [
        "# Your turn:\n",
        "# Create a tensor p with value 2.0 (requires_grad=True) and compute the gradient of q = p^3 + 4p.\n",
        "p = torch.tensor(2.0, requires_grad=True)\n",
        "q = p**3 + 4 * p\n",
        "q.backward() #backpropagation\n",
        "print(\"Gradient of q with respect to p:\", p.grad)\n"
      ],
      "metadata": {
        "id": "bLceqHHvpOwt",
        "colab": {
          "base_uri": "https://localhost:8080/"
        },
        "outputId": "ff35b248-27d3-4e2c-e023-e914b17501f6"
      },
      "execution_count": 87,
      "outputs": [
        {
          "output_type": "stream",
          "name": "stdout",
          "text": [
            "Gradient of q with respect to p: tensor(16.)\n"
          ]
        }
      ]
    },
    {
      "cell_type": "markdown",
      "source": [
        "### 4️⃣ Random Tensors 🎲\n",
        "**Task:** Generate a random tensor of shape (2, 3) and find its max and min."
      ],
      "metadata": {
        "id": "jytRN17EpVbM"
      }
    },
    {
      "cell_type": "code",
      "source": [
        "rand_tensor = torch.rand((2, 3))\n",
        "print(\"Random Tensor:\\n\", rand_tensor)\n",
        "print(\"Max:\", torch.max(rand_tensor))\n",
        "print(\"Min:\", torch.min(rand_tensor))\n"
      ],
      "metadata": {
        "id": "fb7fv-E_pS6e",
        "colab": {
          "base_uri": "https://localhost:8080/"
        },
        "outputId": "77c97ec7-c762-497c-d531-4bdda8e67c6b"
      },
      "execution_count": 88,
      "outputs": [
        {
          "output_type": "stream",
          "name": "stdout",
          "text": [
            "Random Tensor:\n",
            " tensor([[0.6563, 0.8597, 0.1073],\n",
            "        [0.2714, 0.3323, 0.0801]])\n",
            "Max: tensor(0.8597)\n",
            "Min: tensor(0.0801)\n"
          ]
        }
      ]
    },
    {
      "cell_type": "markdown",
      "source": [
        "### 5️⃣ Mini Training Loop 🤖\n",
        "**Task:** Train a simple linear model y = wx + b using gradient descent."
      ],
      "metadata": {
        "id": "bhSClXespjvT"
      }
    },
    {
      "cell_type": "code",
      "source": [
        "# Data\n",
        "x_train = torch.tensor([[1.0], [2.0], [3.0]])\n",
        "y_train = torch.tensor([[2.0], [4.0], [6.0]])\n",
        "\n",
        "# Model\n",
        "w = torch.randn(1, requires_grad=True)\n",
        "b = torch.randn(1, requires_grad=True)\n",
        "\n",
        "# Training\n",
        "learning_rate = 0.01\n",
        "for epoch in range(100):\n",
        "    y_pred = w * x_train + b\n",
        "    loss = torch.mean((y_pred - y_train) ** 2)\n",
        "    loss.backward()\n",
        "\n",
        "    # Update\n",
        "    with torch.no_grad():\n",
        "        w -= learning_rate * w.grad\n",
        "        b -= learning_rate * b.grad\n",
        "        w.grad.zero_()\n",
        "        b.grad.zero_()\n",
        "\n",
        "print(\"Trained weight:\", w.item())\n",
        "print(\"Trained bias:\", b.item())\n"
      ],
      "metadata": {
        "id": "o7s2KMJVpZ5M",
        "colab": {
          "base_uri": "https://localhost:8080/"
        },
        "outputId": "85fc1e55-272c-4151-cb6f-ce611228b96e"
      },
      "execution_count": 89,
      "outputs": [
        {
          "output_type": "stream",
          "name": "stdout",
          "text": [
            "Trained weight: 1.8261533975601196\n",
            "Trained bias: 0.39514806866645813\n"
          ]
        }
      ]
    },
    {
      "cell_type": "markdown",
      "source": [
        "### 6️⃣ Bonus ⚡\n",
        "* Convert a PyTorch tensor to a NumPy array.\n",
        "\n",
        "* Convert it back to a PyTorch tensor."
      ],
      "metadata": {
        "id": "rGhFqtrVpv8_"
      }
    },
    {
      "cell_type": "code",
      "source": [
        "# To do\n",
        "tensor = torch.tensor([[2, 3, 4, 7], [1, 0, 1, 0]])\n",
        "numpy_array = tensor.numpy()\n",
        "\n",
        "tensor_new = torch.from_numpy(numpy_array)\n",
        "\n",
        "assert torch.equal(tensor, tensor_new)"
      ],
      "metadata": {
        "id": "AF4t92eDpq0j"
      },
      "execution_count": 90,
      "outputs": []
    }
  ]
}