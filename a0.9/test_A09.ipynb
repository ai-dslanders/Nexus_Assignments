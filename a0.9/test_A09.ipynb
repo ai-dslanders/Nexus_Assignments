{
  "nbformat": 4,
  "nbformat_minor": 0,
  "metadata": {
    "colab": {
      "provenance": []
    },
    "kernelspec": {
      "name": "python3",
      "display_name": "Python 3"
    },
    "language_info": {
      "name": "python"
    }
  },
  "cells": [
    {
      "cell_type": "markdown",
      "source": [
        "# 🏗 Assignment: Object-Oriented Programming Basics\n",
        "\n"
      ],
      "metadata": {
        "id": "pmXWXQskqQf7"
      }
    },
    {
      "cell_type": "markdown",
      "source": [
        "## 🎯 Goal\n",
        "This assignment checks your understanding of classes, objects, attributes, and methods using Python."
      ],
      "metadata": {
        "id": "mYX-Yr0YqWTv"
      }
    },
    {
      "cell_type": "markdown",
      "source": [
        "### 1️⃣ Class and Object Creation\n",
        "**Task:**\n",
        "\n",
        "* Define a class Car with attributes brand and year.\n",
        "\n",
        "* Create an object car1 of class Car with values (\"Toyota\", 2020) and print them."
      ],
      "metadata": {
        "id": "uxnkvADeqX6P"
      }
    },
    {
      "cell_type": "code",
      "execution_count": 36,
      "metadata": {
        "id": "HF7h_UxJqNLb",
        "colab": {
          "base_uri": "https://localhost:8080/"
        },
        "outputId": "e9723e0b-80f9-4609-c44c-2e446f3f7569"
      },
      "outputs": [
        {
          "output_type": "stream",
          "name": "stdout",
          "text": [
            "Toyota 2020\n"
          ]
        }
      ],
      "source": [
        "# Example snippet\n",
        "class Car:\n",
        "    def __init__(self, brand, year):\n",
        "        self.brand = brand\n",
        "        self.year = year\n",
        "\n",
        "car1 = Car(\"Toyota\", 2020)\n",
        "print(car1.brand, car1.year)\n"
      ]
    },
    {
      "cell_type": "code",
      "source": [
        "#Your turn:\n",
        "# Create another object car2 with brand \"Tesla\" and year 2023.\n",
        "\n",
        "car2 = Car(\"Tesla\", 2023)\n",
        "print(car2.brand, car2.year)\n",
        "\n",
        "\n"
      ],
      "metadata": {
        "id": "5frI0xqrqcz2",
        "colab": {
          "base_uri": "https://localhost:8080/"
        },
        "outputId": "10ac8d19-92cd-4e7b-a15b-218a5bc64cdf"
      },
      "execution_count": 37,
      "outputs": [
        {
          "output_type": "stream",
          "name": "stdout",
          "text": [
            "Tesla 2023\n"
          ]
        }
      ]
    },
    {
      "cell_type": "markdown",
      "source": [
        "### 2️⃣ Add Methods 🛠\n",
        "**Task:**\n",
        "Add a method info() to Car that prints \"Brand: <brand>, Year: <year>\"."
      ],
      "metadata": {
        "id": "1WvafJpAqgkt"
      }
    },
    {
      "cell_type": "code",
      "source": [
        "# Example snippet\n",
        "class Car:\n",
        "    def __init__(self, brand, year):\n",
        "        self.brand = brand\n",
        "        self.year = year\n",
        "\n",
        "    def info(self):\n",
        "        print(f\"Brand: {self.brand}, Year: {self.year}\")\n",
        "\n",
        "car1 = Car(\"Toyota\", 2020)\n",
        "car1.info()\n"
      ],
      "metadata": {
        "id": "AJM4pVrzqfJP",
        "colab": {
          "base_uri": "https://localhost:8080/"
        },
        "outputId": "cc866bdb-40d7-4c42-bc33-7d2a4ac6040a"
      },
      "execution_count": 38,
      "outputs": [
        {
          "output_type": "stream",
          "name": "stdout",
          "text": [
            "Brand: Toyota, Year: 2020\n"
          ]
        }
      ]
    },
    {
      "cell_type": "code",
      "source": [
        "# Your turn:\n",
        "# Call info() for car2.\n",
        "car2 = Car(\"Tesla\", 2023)\n",
        "car2.info()\n",
        "\n",
        "\n"
      ],
      "metadata": {
        "id": "qwuFw0CiqkM8",
        "colab": {
          "base_uri": "https://localhost:8080/"
        },
        "outputId": "f48e67ea-7096-4d6c-d0ea-280323662a2a"
      },
      "execution_count": 39,
      "outputs": [
        {
          "output_type": "stream",
          "name": "stdout",
          "text": [
            "Brand: Tesla, Year: 2023\n"
          ]
        }
      ]
    },
    {
      "cell_type": "markdown",
      "source": [
        "### 3️⃣ Class vs Instance Attributes 📦\n",
        "**Task:**\n",
        "\n",
        "* Add a class attribute wheels = 4 to Car.\n",
        "\n",
        "* Print car1.wheels and car2.wheels."
      ],
      "metadata": {
        "id": "AOwBtvr0qosK"
      }
    },
    {
      "cell_type": "code",
      "source": [
        "# To do\n",
        "\n",
        "class Car:\n",
        "    wheels = 4\n",
        "    def __init__(self, brand, year):\n",
        "        self.brand = brand\n",
        "        self.year = year\n",
        "\n",
        "car1 = Car(\"Toyota\", 2020)\n",
        "car2 = Car(\"Tesla\", 2023)\n",
        "\n",
        "print(car1.wheels)\n",
        "\n",
        "\n"
      ],
      "metadata": {
        "id": "rPXvKwtsqm0C",
        "colab": {
          "base_uri": "https://localhost:8080/"
        },
        "outputId": "9e039088-6b75-46f9-daf2-f217af590be6"
      },
      "execution_count": 40,
      "outputs": [
        {
          "output_type": "stream",
          "name": "stdout",
          "text": [
            "4\n"
          ]
        }
      ]
    },
    {
      "cell_type": "markdown",
      "source": [
        "### 4️⃣ Inheritance 👑\n",
        "**Task:**\n",
        "\n",
        "* Create a subclass ElectricCar inheriting from Car.\n",
        "* Add a new attribute battery (e.g., \"80 kWh\") and a method battery_info() that prints \"Battery: <battery>\"."
      ],
      "metadata": {
        "id": "NLoiaaeuquwg"
      }
    },
    {
      "cell_type": "code",
      "source": [
        "# Example snippet\n",
        "\n",
        "class Car:\n",
        "    def __init__(self, brand, year):\n",
        "        self.brand = brand\n",
        "        self.year = year\n",
        "\n",
        "    def info(self):\n",
        "        print(f\"Brand: {self.brand}, Year: {self.year}\")\n",
        "\n",
        "\n",
        "\n",
        "class ElectricCar(Car):\n",
        "    def __init__(self, brand, year, battery):\n",
        "        super().__init__(brand, year)\n",
        "        self.battery = battery\n",
        "\n",
        "    def battery_info(self):\n",
        "        print(f\"Battery: {self.battery}\")\n",
        "\n",
        "e_car = ElectricCar(\"Tesla\", 2023, \"80 kWh\")\n",
        "e_car.info()\n",
        "e_car.battery_info()\n"
      ],
      "metadata": {
        "id": "e_sS1YdIqtk_",
        "colab": {
          "base_uri": "https://localhost:8080/"
        },
        "outputId": "10facab8-66b5-400c-8f7d-834797979aec"
      },
      "execution_count": 45,
      "outputs": [
        {
          "output_type": "stream",
          "name": "stdout",
          "text": [
            "Brand: Tesla, Year: 2023\n",
            "Battery: 80 kWh\n"
          ]
        }
      ]
    },
    {
      "cell_type": "markdown",
      "source": [
        "### 5️⃣ Bonus ⚡\n",
        "* Add a __str__ method to Car to return a string like: \"Car(brand=Toyota, year=2020)\"."
      ],
      "metadata": {
        "id": "wC0OIrRMq7jv"
      }
    },
    {
      "cell_type": "code",
      "source": [
        "# To do\n",
        "class Car:\n",
        "    def __init__(self, brand, year):\n",
        "        self.brand = brand\n",
        "        self.year = year\n",
        "\n",
        "    def __str__(self):\n",
        "        return f\"Car(brand={self.brand}, year={self.year})\"\n",
        "\n",
        "car1=Car(\"Toyota\", 2020)\n",
        "print(car1)\n"
      ],
      "metadata": {
        "id": "cAfBWxrlrA2t",
        "colab": {
          "base_uri": "https://localhost:8080/"
        },
        "outputId": "ca7afc42-2957-445f-aa46-a4f18df3e2d5"
      },
      "execution_count": 47,
      "outputs": [
        {
          "output_type": "stream",
          "name": "stdout",
          "text": [
            "Car(brand=Toyota, year=2020)\n"
          ]
        }
      ]
    }
  ]
}