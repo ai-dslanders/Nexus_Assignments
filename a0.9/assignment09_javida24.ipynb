{
  "nbformat": 4,
  "nbformat_minor": 0,
  "metadata": {
    "colab": {
      "provenance": []
    },
    "kernelspec": {
      "name": "python3",
      "display_name": "Python 3"
    },
    "language_info": {
      "name": "python"
    }
  },
  "cells": [
    {
      "cell_type": "markdown",
      "source": [
        "# 🏗 Assignment: Object-Oriented Programming Basics\n",
        "\n",
        "\n",
        "<p align=\"center\">📢⚠️📂  </p>\n",
        "\n",
        "<p align=\"center\"> Please name your file using the format: <code>assignmentName_nickname.py</code> (e.g., <code>project1_ali.py</code>) and push it to GitHub with a clear commit message.</p>\n",
        "\n",
        "<p align=\"center\"> 🚨📝🧠 </p>\n",
        "\n",
        "------------------------------------------------\n"
      ],
      "metadata": {
        "id": "pmXWXQskqQf7"
      }
    },
    {
      "cell_type": "markdown",
      "source": [
        "## 🎯 Goal\n",
        "This assignment checks your understanding of classes, objects, attributes, and methods using Python."
      ],
      "metadata": {
        "id": "mYX-Yr0YqWTv"
      }
    },
    {
      "cell_type": "markdown",
      "source": [
        "### 1️⃣ Class and Object Creation\n",
        "**Task:**\n",
        "\n",
        "* Define a class Car with attributes brand and year.\n",
        "\n",
        "* Create an object car1 of class Car with values (\"Toyota\", 2020) and print them."
      ],
      "metadata": {
        "id": "uxnkvADeqX6P"
      }
    },
    {
      "cell_type": "code",
      "execution_count": null,
      "metadata": {
        "id": "HF7h_UxJqNLb",
        "colab": {
          "base_uri": "https://localhost:8080/"
        },
        "outputId": "ac461f09-1746-4ab3-e982-a28e8c96b2d1"
      },
      "outputs": [
        {
          "output_type": "stream",
          "name": "stdout",
          "text": [
            "Toyota 2020\n"
          ]
        }
      ],
      "source": [
        "# Example snippet\n",
        "class Car:\n",
        "    def __init__(self, brand, year):\n",
        "        self.brand = brand\n",
        "        self.year = year\n",
        "\n",
        "car1 = Car(\"Toyota\", 2020)\n",
        "print(car1.brand, car1.year)\n"
      ]
    },
    {
      "cell_type": "code",
      "source": [
        "#Your turn:\n",
        "# Create another object car2 with brand \"Tesla\" and year 2023.\n",
        "car2 = Car('Tesla', 2023)\n",
        "print(car2.brand, car2.year)\n",
        "\n",
        "\n",
        "\n"
      ],
      "metadata": {
        "id": "5frI0xqrqcz2",
        "colab": {
          "base_uri": "https://localhost:8080/"
        },
        "outputId": "c3611dd9-a9d8-45cb-fd4e-2ef441b4b254"
      },
      "execution_count": null,
      "outputs": [
        {
          "output_type": "stream",
          "name": "stdout",
          "text": [
            "Tesla 2023\n"
          ]
        }
      ]
    },
    {
      "cell_type": "markdown",
      "source": [
        "### 2️⃣ Add Methods 🛠\n",
        "**Task:**\n",
        "Add a method info() to Car that prints \"Brand: <brand>, Year: <year>\"."
      ],
      "metadata": {
        "id": "1WvafJpAqgkt"
      }
    },
    {
      "cell_type": "code",
      "source": [
        "# Example snippet\n",
        "class Car:\n",
        "    def __init__(self, brand, year):\n",
        "        self.brand = brand\n",
        "        self.year = year\n",
        "\n",
        "    def info(self):\n",
        "        print(f\"Brand: {self.brand}, Year: {self.year}\")\n",
        "\n",
        "car1 = Car(\"Toyota\", 2020)\n",
        "car1.info()\n"
      ],
      "metadata": {
        "id": "AJM4pVrzqfJP",
        "colab": {
          "base_uri": "https://localhost:8080/"
        },
        "outputId": "e2afb38a-07b6-4095-fd7e-e73f719ce99d"
      },
      "execution_count": null,
      "outputs": [
        {
          "output_type": "stream",
          "name": "stdout",
          "text": [
            "Brand: Toyota, Year: 2020\n"
          ]
        }
      ]
    },
    {
      "cell_type": "code",
      "source": [
        "# Your turn:\n",
        "# Call info() for car2.\n",
        "car2 = Car('Tesla', 2023)\n",
        "car2.info()\n",
        "\n",
        "\n"
      ],
      "metadata": {
        "id": "qwuFw0CiqkM8",
        "colab": {
          "base_uri": "https://localhost:8080/"
        },
        "outputId": "62b1a755-d53c-40f8-e366-d0a98f1a66b7"
      },
      "execution_count": null,
      "outputs": [
        {
          "output_type": "stream",
          "name": "stdout",
          "text": [
            "Brand: Tesla, Year: 2023\n"
          ]
        }
      ]
    },
    {
      "cell_type": "markdown",
      "source": [
        "### 3️⃣ Class vs Instance Attributes 📦\n",
        "**Task:**\n",
        "\n",
        "* Add a class attribute wheels = 4 to Car.\n",
        "\n",
        "* Print car1.wheels and car2.wheels."
      ],
      "metadata": {
        "id": "AOwBtvr0qosK"
      }
    },
    {
      "cell_type": "code",
      "source": [
        "# To do\n",
        "class Car:\n",
        "    def __init__(self, brand, year):\n",
        "        self.brand = brand\n",
        "        self.year = year\n",
        "        self.wheels = 4 # initialize directly because all cars have 4 wheels.\n",
        "\n",
        "    def info(self):\n",
        "        print(f\"Brand: {self.brand}, Year: {self.year}\")\n",
        "\n",
        "car1, car2 = Car(\"Toyota\", 2020), Car('Tesla', 2023)\n",
        "print(car1.wheels, car2.wheels)\n"
      ],
      "metadata": {
        "id": "rPXvKwtsqm0C",
        "colab": {
          "base_uri": "https://localhost:8080/"
        },
        "outputId": "d1484524-fbd3-4f8e-f314-c3b21ed3424e"
      },
      "execution_count": null,
      "outputs": [
        {
          "output_type": "stream",
          "name": "stdout",
          "text": [
            "4 4\n"
          ]
        }
      ]
    },
    {
      "cell_type": "markdown",
      "source": [
        "### 4️⃣ Inheritance 👑\n",
        "**Task:**\n",
        "\n",
        "* Create a subclass ElectricCar inheriting from Car.\n",
        "* Add a new attribute battery (e.g., \"80 kWh\") and a method battery_info() that prints \"Battery: <battery>\"."
      ],
      "metadata": {
        "id": "NLoiaaeuquwg"
      }
    },
    {
      "cell_type": "code",
      "source": [
        "# Example snippet\n",
        "class ElectricCar(Car):\n",
        "    def __init__(self, brand, year, battery):\n",
        "        super().__init__(brand, year)\n",
        "        self.battery = battery\n",
        "\n",
        "    def battery_info(self):\n",
        "        print(f\"Battery: {self.battery}\")\n",
        "\n",
        "e_car = ElectricCar(\"Tesla\", 2023, \"80 kWh\")\n",
        "e_car.info()\n",
        "e_car.battery_info()\n"
      ],
      "metadata": {
        "id": "e_sS1YdIqtk_",
        "colab": {
          "base_uri": "https://localhost:8080/"
        },
        "outputId": "2f88a5c7-af58-4dbb-a3fd-3fca4d3f29cf"
      },
      "execution_count": null,
      "outputs": [
        {
          "output_type": "stream",
          "name": "stdout",
          "text": [
            "Brand: Tesla, Year: 2023\n",
            "Battery: 80 kWh\n"
          ]
        }
      ]
    },
    {
      "cell_type": "markdown",
      "source": [
        "### 5️⃣ Bonus ⚡\n",
        "* Add a __str__ method to Car to return a string like: \"Car(brand=Toyota, year=2020)\"."
      ],
      "metadata": {
        "id": "wC0OIrRMq7jv"
      }
    },
    {
      "cell_type": "code",
      "source": [
        "# To do\n",
        "class Car:\n",
        "    def __init__(self, brand, year):\n",
        "        self.brand = brand\n",
        "        self.year = year\n",
        "        self.wheels = 4 # initialize directly because all cars have 4 wheels.\n",
        "\n",
        "    def info(self):\n",
        "        print(f\"Brand: {self.brand}, Year: {self.year}\")\n",
        "\n",
        "    def __str__(self):\n",
        "      return f\"Car(brand={self.brand}, year={self.year})\"\n",
        "\n"
      ],
      "metadata": {
        "id": "cAfBWxrlrA2t"
      },
      "execution_count": null,
      "outputs": []
    },
    {
      "cell_type": "code",
      "source": [
        "car1, car2 = Car(\"Toyota\", 2020), Car('Tesla', 2023)\n",
        "print(car1)\n",
        "print(car2)"
      ],
      "metadata": {
        "colab": {
          "base_uri": "https://localhost:8080/"
        },
        "id": "q4Kl3WtO8i39",
        "outputId": "a1687c34-2c86-406b-99dd-e3619d0a4355"
      },
      "execution_count": null,
      "outputs": [
        {
          "output_type": "stream",
          "name": "stdout",
          "text": [
            "Car(brand=Toyota, year=2020)\n",
            "Car(brand=Tesla, year=2023)\n"
          ]
        }
      ]
    }
  ]
}