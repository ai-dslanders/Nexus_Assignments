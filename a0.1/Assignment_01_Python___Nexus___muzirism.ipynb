{
  "nbformat": 4,
  "nbformat_minor": 0,
  "metadata": {
    "colab": {
      "provenance": []
    },
    "kernelspec": {
      "name": "python3",
      "display_name": "Python 3"
    },
    "language_info": {
      "name": "python"
    }
  },
  "cells": [
    {
      "cell_type": "markdown",
      "source": [
        "# 📚 Assignment 1 — Python Fundamentals\n",
        "Welcome to your first hands-on practice! This set of four mini-projects walks you through the basics every Python (and ML) developer leans on daily:\n",
        "\n",
        "1. Variable types\n",
        "\n",
        "2. Core containers\n",
        "\n",
        "3. Functions\n",
        "\n",
        "4. Classes\n",
        "\n",
        "Each part begins with quick pointers, then gives you two bite-sized tasks to code. Replace every # TODO with working Python and run your script or notebook to check the result. Happy hacking! 😊"
      ],
      "metadata": {
        "id": "ZS5lje_18xC2"
      }
    },
    {
      "cell_type": "markdown",
      "source": [
        "## 1. Variable Types 🧮\n",
        "**Quick-start notes**\n",
        "\n",
        "* Primitive types: `int`, `float`, `str`, `bool`\n",
        "\n",
        "* Use `type(obj)` to inspect an object’s type.\n",
        "\n",
        "* Casting ↔ converting: `int(\"3\")`, `str(3.14)`, `bool(0)`, etc."
      ],
      "metadata": {
        "id": "u5vvtK-6840I"
      }
    },
    {
      "cell_type": "markdown",
      "source": [
        "### Task 1 — Celsius → Fahrenheit\n",
        "\n"
      ],
      "metadata": {
        "id": "UyNHtkGm9OgH"
      }
    },
    {
      "cell_type": "code",
      "execution_count": 3,
      "metadata": {
        "id": "lmaiboJe8E15",
        "colab": {
          "base_uri": "https://localhost:8080/"
        },
        "outputId": "63e69054-2a46-4e0e-9108-62dc2dc38c0c"
      },
      "outputs": [
        {
          "output_type": "stream",
          "name": "stdout",
          "text": [
            "Temprature in Celcius is 48.0 Which is 118.4 Fahrenheit\n"
          ]
        }
      ],
      "source": [
        "# 👉 a Celsius temperature (as text), convert it to float,\n",
        "#    compute Fahrenheit (°F = °C * 9/5 + 32) and print a nicely formatted line.\n",
        "# TODO: your code here\n",
        "temp_in_cel = \"48\"\n",
        "temp_in_cel_float = float(temp_in_cel)\n",
        "temp_in_fahr = temp_in_cel_float * 9/5 + 32\n",
        "print(f\"Temprature in Celcius is {temp_in_cel_float} Which is {temp_in_fahr} Fahrenheit\")\n",
        "\n"
      ]
    },
    {
      "cell_type": "markdown",
      "source": [
        "### Task 2 — Tiny Calculator\n"
      ],
      "metadata": {
        "id": "BtsB8QKM9Xs_"
      }
    },
    {
      "cell_type": "code",
      "source": [
        "# 👉 Store two numbers of **different types** (one int, one float),\n",
        "#    then print their sum, difference, product, true division, and floor division.\n",
        "# TODO: your code here\n",
        "num_1=12\n",
        "num_2=8.25\n",
        "print(f\"First Number is {num_1} and Second Number is {num_2} : Sum= {num_1+num_2} difference= {num_1-num_2} product={num_1*num_2} true division={num_1/num_2} floor division={num_1//num_2}\")"
      ],
      "metadata": {
        "id": "DSR8aS-F9Z10",
        "colab": {
          "base_uri": "https://localhost:8080/"
        },
        "outputId": "7b7e654d-47da-4795-a7e6-555a334f63c0"
      },
      "execution_count": 8,
      "outputs": [
        {
          "output_type": "stream",
          "name": "stdout",
          "text": [
            "First Number is 12 and Second Number is 8.25 : Sum= 20.25 difference= 3.75 product=99.0 true division=1.4545454545454546 floor division=1.0\n"
          ]
        }
      ]
    },
    {
      "cell_type": "markdown",
      "source": [
        "## 2. Containers 📦 (list, tuple, set, dict)\n",
        "**Quick-start notes**\n",
        "\n",
        "| Container | Mutable? | Ordered?                      | Typical use                       |\n",
        "| --------- | -------- | ----------------------------- | --------------------------------- |\n",
        "| `list`    | ✔        | ✔                             | Growth, indexing, slicing         |\n",
        "| `tuple`   | ✖        | ✔                             | Fixed-size records, hashable keys |\n",
        "| `set`     | ✔        | ✖                             | Deduplication, membership tests   |\n",
        "| `dict`    | ✔        | ✖ (3.7 + preserves insertion) | Key → value look-ups              |\n"
      ],
      "metadata": {
        "id": "8JjHX4wy9dPz"
      }
    },
    {
      "cell_type": "markdown",
      "source": [
        "### Task 1 — Grocery Basket\n",
        "\n"
      ],
      "metadata": {
        "id": "wRyJyhbt9uUr"
      }
    },
    {
      "cell_type": "code",
      "source": [
        "# Start with an empty shopping list (list).\n",
        "# 1. Append at least 4 items supplied in one line of user input (comma-separated).\n",
        "# 2. Convert the list to a *tuple* called immutable_basket.\n",
        "# 3. Print the third item using tuple indexing.\n",
        "# TODO: your code here\n",
        "shopping_list=[]\n",
        "shopping_items = \"apple,banana,lemon,carrot\"\n",
        "shopping_list.extend(shopping_items.split(\",\"))\n",
        "immutable_basket = tuple(shopping_list)\n",
        "print(immutable_basket[2])"
      ],
      "metadata": {
        "id": "1J4jcLct9yVO",
        "colab": {
          "base_uri": "https://localhost:8080/"
        },
        "outputId": "5e43b729-5344-40b5-d47c-916ec6c9a0e2"
      },
      "execution_count": 30,
      "outputs": [
        {
          "output_type": "stream",
          "name": "stdout",
          "text": [
            "lemon\n"
          ]
        }
      ]
    },
    {
      "cell_type": "markdown",
      "source": [
        "### Task 2 — Word Stats"
      ],
      "metadata": {
        "id": "byKd8SFK9w2y"
      }
    },
    {
      "cell_type": "code",
      "source": [
        "sample = \"to be or not to be that is the question\"\n",
        "\n",
        "# 1. Build a set `unique_words` containing every distinct word.\n",
        "# 2. Build a dict `word_counts` mapping each word to the number of times it appears.\n",
        "#    (Hint: .split() + a simple loop)\n",
        "# 3. Print the two structures and explain (in a comment) their main difference.\n",
        "# TODO: your code here\n",
        "sample_list = sample.split()\n",
        "unique_words= set(sample_list)\n",
        "word_counts={}\n",
        "for words in unique_words :\n",
        "  word_counts[words]= sample_list.count(words)\n",
        "\n",
        "print(f\"The Set Structure: {unique_words} \\nThe Dictionary Structure: {word_counts} \")\n",
        "#The main difference between set and dictionary in python is the way they store and organize data, set store unique value only but dictionary store key-value pairs\n"
      ],
      "metadata": {
        "id": "4rLrxkPj90p3",
        "colab": {
          "base_uri": "https://localhost:8080/"
        },
        "outputId": "ea0bab76-26c0-4366-d3ec-f3410b76cf9d"
      },
      "execution_count": 41,
      "outputs": [
        {
          "output_type": "stream",
          "name": "stdout",
          "text": [
            "The Set Structure: {'to', 'not', 'or', 'that', 'question', 'the', 'is', 'be'} \n",
            "The Dictionary Structure: {'to': 2, 'not': 1, 'or': 1, 'that': 1, 'question': 1, 'the': 1, 'is': 1, 'be': 2} \n"
          ]
        }
      ]
    },
    {
      "cell_type": "markdown",
      "source": [
        "## 3. Functions 🔧\n",
        "**Quick-start notes**\n",
        "\n",
        "* Define with `def`, return with `return`.\n",
        "\n",
        "* Parameters can have default values.\n",
        "\n",
        "* Docstrings (`\"\"\" … \"\"\"`) document behaviour."
      ],
      "metadata": {
        "id": "gbGMbtLf94M4"
      }
    },
    {
      "cell_type": "markdown",
      "source": [
        "### Task 1 — Prime Tester"
      ],
      "metadata": {
        "id": "QOsToPh2-AnZ"
      }
    },
    {
      "cell_type": "code",
      "source": [
        "def is_prime(n: int) -> bool:\n",
        "    \"\"\"\n",
        "    Return True if n is a prime number, else False.\n",
        "    0 and 1 are *not* prime.\n",
        "    \"\"\"\n",
        "    # TODO: replace pass with your implementation\n",
        "    if n<2 :\n",
        "      return False\n",
        "\n",
        "    for i in range(2,int(n**0.5)+1):\n",
        "      if (n%i==0):\n",
        "       return False\n",
        "    else:\n",
        "      return True\n",
        "\n",
        "\n",
        "\n",
        "\n",
        "# Quick self-check\n",
        "print([x for x in range(10) if is_prime(x)])   # Expected: [2, 3, 5, 7]\n"
      ],
      "metadata": {
        "id": "_pCU2mIH-DAi",
        "colab": {
          "base_uri": "https://localhost:8080/"
        },
        "outputId": "72d95786-2501-48e8-c9b9-71d1d1a9a7fd"
      },
      "execution_count": 64,
      "outputs": [
        {
          "output_type": "stream",
          "name": "stdout",
          "text": [
            "[2, 3, 5, 7]\n"
          ]
        }
      ]
    },
    {
      "cell_type": "markdown",
      "source": [
        "### Task 2 — Repeater Greeter"
      ],
      "metadata": {
        "id": "TBGXIzVV-E5u"
      }
    },
    {
      "cell_type": "code",
      "source": [
        "def greet(name: str, times: int = 1) -> None:\n",
        "    \"\"\"Print `name`, capitalised, exactly `times` times on one line.\"\"\"\n",
        "    # TODO: your code here\n",
        "    cap_name= name.capitalize()\n",
        "    print ((cap_name+\" \")*times)\n",
        "    #print(f\"{for i in range(times) name.capitalize()}\")\n",
        "\n",
        "\n",
        "\n",
        "\n",
        "greet(\"alice\")          # Alice\n",
        "greet(\"bob\", times=3)   # Bob Bob Bob\n"
      ],
      "metadata": {
        "id": "ycvsNyqh-GRM",
        "colab": {
          "base_uri": "https://localhost:8080/"
        },
        "outputId": "1160a8ce-ba9d-4cb2-a355-8184a5410be4"
      },
      "execution_count": 83,
      "outputs": [
        {
          "output_type": "stream",
          "name": "stdout",
          "text": [
            "Alice \n",
            "Bob Bob Bob \n"
          ]
        }
      ]
    },
    {
      "cell_type": "markdown",
      "source": [
        "## 4. Classes 🏗️\n",
        "**Quick-start notes**\n",
        "\n",
        "* Create with class Name:\n",
        "\n",
        "* Special method __init__ runs on construction.\n",
        "\n",
        "* self refers to the instance; attributes live on self."
      ],
      "metadata": {
        "id": "y7K-GaBC-ImE"
      }
    },
    {
      "cell_type": "markdown",
      "source": [
        "### Task 1 — Simple Counter"
      ],
      "metadata": {
        "id": "NgKjsy8A-N3l"
      }
    },
    {
      "cell_type": "code",
      "source": [
        "class Counter:\n",
        "    \"\"\"Counts how many times `increment` is called.\"\"\"\n",
        "    # TODO:\n",
        "    # 1. In __init__, store an internal count variable starting at 0.\n",
        "    # 2. Method increment(step: int = 1) adds `step` to the count.\n",
        "    # 3. Method value() returns the current count.\n",
        "    def __init__(self) :\n",
        "       self.count= 0\n",
        "\n",
        "    def increment(self):\n",
        "       self.count+=1\n",
        "\n",
        "    def value(self):\n",
        "       return self.count\n",
        "\n",
        "\n",
        "c = Counter()\n",
        "for _ in range(5):\n",
        "    c.increment()\n",
        "print(c.value())   # Expected: 5\n"
      ],
      "metadata": {
        "id": "dPFvr_fe-OPR",
        "colab": {
          "base_uri": "https://localhost:8080/"
        },
        "outputId": "57ba21ff-84e3-4db8-a89e-af8f99782361"
      },
      "execution_count": 91,
      "outputs": [
        {
          "output_type": "stream",
          "name": "stdout",
          "text": [
            "5\n"
          ]
        }
      ]
    },
    {
      "cell_type": "markdown",
      "source": [
        "### Task 2 — 2-D Point with Distance"
      ],
      "metadata": {
        "id": "U99aupan-Q8u"
      }
    },
    {
      "cell_type": "code",
      "source": [
        "import math\n",
        "\n",
        "class Point:\n",
        "    \"\"\"\n",
        "    A 2-D point supporting distance calculation.\n",
        "    Usage:\n",
        "        p = Point(3, 4)\n",
        "        q = Point(0, 0)\n",
        "        print(p.distance_to(q))  # 5.0\n",
        "    \"\"\"\n",
        "    # TODO:\n",
        "    # 1. Store x and y as attributes.\n",
        "    # 2. Implement distance_to(other) using the Euclidean formula.\n",
        "    def __init__(self,x,y):\n",
        "      self.x= x\n",
        "      self.y= y\n",
        "\n",
        "    def distance_to(self,other):\n",
        "      dx = self.x - other.x\n",
        "      dy= self.y - other.y\n",
        "      return math.sqrt(dx**2 + dy**2)\n",
        "\n",
        "\n",
        "\n",
        "# Smoke test\n",
        "p, q = Point(3, 4), Point(0, 0)\n",
        "assert round(p.distance_to(q), 1) == 5.0\n",
        "\n"
      ],
      "metadata": {
        "id": "OVh3GEzH-T0w",
        "colab": {
          "base_uri": "https://localhost:8080/"
        },
        "outputId": "1f89c816-ca71-4fad-fd78-ba63160584ca"
      },
      "execution_count": 98,
      "outputs": [
        {
          "output_type": "stream",
          "name": "stdout",
          "text": [
            "5.0\n"
          ]
        }
      ]
    }
  ]
}