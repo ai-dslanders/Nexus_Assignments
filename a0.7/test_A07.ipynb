{
  "nbformat": 4,
  "nbformat_minor": 0,
  "metadata": {
    "colab": {
      "provenance": []
    },
    "kernelspec": {
      "name": "python3",
      "display_name": "Python 3"
    },
    "language_info": {
      "name": "python"
    }
  },
  "cells": [
    {
      "cell_type": "markdown",
      "source": [
        "# 🔥 Assignment: Exploring PyTorch\n"
      ],
      "metadata": {
        "id": "dbICYwLGo5Av"
      }
    },
    {
      "cell_type": "markdown",
      "source": [
        "## 🎯 Goal\n",
        "This assignment evaluates your basic skills in using PyTorch, focusing on tensors, autograd, and a small training loop.\n",
        "\n"
      ],
      "metadata": {
        "id": "b8h5DExTo6K5"
      }
    },
    {
      "cell_type": "markdown",
      "source": [
        "### 1️⃣ Setup and Basics\n",
        "**Task:**\n",
        "\n",
        "* Install PyTorch and check its version.\n",
        "\n",
        "* Create a 2D tensor and print it."
      ],
      "metadata": {
        "id": "euolCT3oo8dR"
      }
    },
    {
      "cell_type": "code",
      "execution_count": 1,
      "metadata": {
        "id": "9AADPzP6o1iY",
        "colab": {
          "base_uri": "https://localhost:8080/"
        },
        "outputId": "ee45715f-ee3e-4b76-b4f9-e1daebce0a16"
      },
      "outputs": [
        {
          "output_type": "stream",
          "name": "stdout",
          "text": [
            "PyTorch version: 2.6.0+cu124\n",
            "Tensor x:\n",
            " tensor([[1., 2.],\n",
            "        [3., 4.]])\n"
          ]
        }
      ],
      "source": [
        "import torch\n",
        "\n",
        "print(\"PyTorch version:\", torch.__version__)\n",
        "x = torch.tensor([[1., 2.], [3., 4.]])\n",
        "print(\"Tensor x:\\n\", x)\n"
      ]
    },
    {
      "cell_type": "code",
      "source": [
        "# Your turn:\n",
        "# Create another tensor y of the same shape with values [[5, 6], [7, 8]].\n",
        "y=torch.tensor([[5, 6], [7, 8]])\n",
        "\n",
        "\n",
        "\n"
      ],
      "metadata": {
        "id": "T5mCQMYFpBJm"
      },
      "execution_count": 2,
      "outputs": []
    },
    {
      "cell_type": "markdown",
      "source": [
        "### 2️⃣ Tensor Operations 🧮\n",
        "**Task:** Perform addition and matrix multiplication."
      ],
      "metadata": {
        "id": "7yRBms7npEUe"
      }
    },
    {
      "cell_type": "code",
      "source": [
        "z = x + y\n",
        "print(\"Addition:\\n\", z)\n",
        "\n",
        "# Convert y to float to match x's dtype for matrix multiplication\n",
        "y_float = y.float()\n",
        "mat_mul = x @ y_float\n",
        "print(\"Matrix Multiplication:\\n\", mat_mul)\n",
        "\n",
        "# Perform element-wise multiplication\n",
        "element_wise_mul = x * y_float\n",
        "print(\"Element-wise Multiplication:\\n\", element_wise_mul)"
      ],
      "metadata": {
        "id": "nGRNryC4pDv2",
        "colab": {
          "base_uri": "https://localhost:8080/",
          "height": 245
        },
        "outputId": "d248a8fe-20b4-4ed6-f846-611fbbd6ffc1"
      },
      "execution_count": 4,
      "outputs": [
        {
          "output_type": "stream",
          "name": "stdout",
          "text": [
            "Addition:\n",
            " tensor([[ 6.,  8.],\n",
            "        [10., 12.]])\n"
          ]
        },
        {
          "output_type": "error",
          "ename": "RuntimeError",
          "evalue": "expected m1 and m2 to have the same dtype, but got: float != long int",
          "traceback": [
            "\u001b[0;31m---------------------------------------------------------------------------\u001b[0m",
            "\u001b[0;31mRuntimeError\u001b[0m                              Traceback (most recent call last)",
            "\u001b[0;32m/tmp/ipython-input-2310298963.py\u001b[0m in \u001b[0;36m<cell line: 0>\u001b[0;34m()\u001b[0m\n\u001b[1;32m      2\u001b[0m \u001b[0mprint\u001b[0m\u001b[0;34m(\u001b[0m\u001b[0;34m\"Addition:\\n\"\u001b[0m\u001b[0;34m,\u001b[0m \u001b[0mz\u001b[0m\u001b[0;34m)\u001b[0m\u001b[0;34m\u001b[0m\u001b[0;34m\u001b[0m\u001b[0m\n\u001b[1;32m      3\u001b[0m \u001b[0;34m\u001b[0m\u001b[0m\n\u001b[0;32m----> 4\u001b[0;31m \u001b[0mmat_mul\u001b[0m \u001b[0;34m=\u001b[0m \u001b[0mx\u001b[0m \u001b[0;34m@\u001b[0m \u001b[0my\u001b[0m\u001b[0;34m\u001b[0m\u001b[0;34m\u001b[0m\u001b[0m\n\u001b[0m\u001b[1;32m      5\u001b[0m \u001b[0mprint\u001b[0m\u001b[0;34m(\u001b[0m\u001b[0;34m\"Matrix Multiplication:\\n\"\u001b[0m\u001b[0;34m,\u001b[0m \u001b[0mmat_mul\u001b[0m\u001b[0;34m)\u001b[0m\u001b[0;34m\u001b[0m\u001b[0;34m\u001b[0m\u001b[0m\n",
            "\u001b[0;31mRuntimeError\u001b[0m: expected m1 and m2 to have the same dtype, but got: float != long int"
          ]
        }
      ]
    },
    {
      "cell_type": "code",
      "source": [
        "# Your turn:\n",
        "# Perform element-wise multiplication (x * y) and print the result.\n",
        "result=x*y\n",
        "print(\"Element-wise Multiplication:\\n\", result)\n",
        "\n",
        "\n",
        "\n"
      ],
      "metadata": {
        "id": "tf64nP2dpIod",
        "colab": {
          "base_uri": "https://localhost:8080/"
        },
        "outputId": "668de396-ee58-4dfa-abcb-eb8ce7a92bb7"
      },
      "execution_count": 5,
      "outputs": [
        {
          "output_type": "stream",
          "name": "stdout",
          "text": [
            "Element-wise Multiplication:\n",
            " tensor([[ 5., 12.],\n",
            "        [21., 32.]])\n"
          ]
        }
      ]
    },
    {
      "cell_type": "markdown",
      "source": [
        "### 3️⃣ Autograd and Gradients ⚙️\n",
        "**Task:** Enable gradient tracking and compute derivatives."
      ],
      "metadata": {
        "id": "h3dABundpMYU"
      }
    },
    {
      "cell_type": "code",
      "source": [
        "a = torch.tensor(3.0, requires_grad=True)\n",
        "b = (a ** 2) + 2 * a + 1\n",
        "b.backward()\n",
        "print(\"Gradient of b wrt a:\", a.grad)\n"
      ],
      "metadata": {
        "id": "igtPKY90pLGt",
        "colab": {
          "base_uri": "https://localhost:8080/"
        },
        "outputId": "c7e2881c-bfcc-4372-a7e9-b666f2547088"
      },
      "execution_count": 14,
      "outputs": [
        {
          "output_type": "stream",
          "name": "stdout",
          "text": [
            "Gradient of b wrt a: tensor(8.)\n"
          ]
        }
      ]
    },
    {
      "cell_type": "code",
      "source": [
        "# Your turn:\n",
        "# Create a tensor p with value 2.0 (requires_grad=True) and compute the gradient of q = p^3 + 4p.\n",
        "p=torch.tensor(2.0, requires_grad=True)\n",
        "q=p**3+4*p\n",
        "q.backward()\n",
        "print(\"Gradient of q wrt p:\", p.grad)\n",
        "\n",
        "\n"
      ],
      "metadata": {
        "id": "bLceqHHvpOwt",
        "colab": {
          "base_uri": "https://localhost:8080/"
        },
        "outputId": "63955438-0a4c-4942-ec8f-9b54d1c6e34e"
      },
      "execution_count": 16,
      "outputs": [
        {
          "output_type": "execute_result",
          "data": {
            "text/plain": [
              "tensor(16., grad_fn=<AddBackward0>)"
            ]
          },
          "metadata": {},
          "execution_count": 16
        }
      ]
    },
    {
      "cell_type": "markdown",
      "source": [
        "### 4️⃣ Random Tensors 🎲\n",
        "**Task:** Generate a random tensor of shape (2, 3) and find its max and min."
      ],
      "metadata": {
        "id": "jytRN17EpVbM"
      }
    },
    {
      "cell_type": "code",
      "source": [
        "rand_tensor = torch.rand((2, 3))\n",
        "print(\"Random Tensor:\\n\", rand_tensor)\n",
        "print(\"Max:\", torch.max(rand_tensor))\n",
        "print(\"Min:\", torch.min(rand_tensor))\n"
      ],
      "metadata": {
        "id": "fb7fv-E_pS6e",
        "colab": {
          "base_uri": "https://localhost:8080/"
        },
        "outputId": "bccdb483-95c9-45d7-8552-f4f7e98d12cb"
      },
      "execution_count": 19,
      "outputs": [
        {
          "output_type": "stream",
          "name": "stdout",
          "text": [
            "Random Tensor:\n",
            " tensor([[0.4823, 0.5779, 0.3458],\n",
            "        [0.5859, 0.4225, 0.0038]])\n",
            "Max: tensor(0.5859)\n",
            "Min: tensor(0.0038)\n"
          ]
        }
      ]
    },
    {
      "cell_type": "markdown",
      "source": [
        "### 5️⃣ Mini Training Loop 🤖\n",
        "**Task:** Train a simple linear model y = wx + b using gradient descent."
      ],
      "metadata": {
        "id": "bhSClXespjvT"
      }
    },
    {
      "cell_type": "code",
      "source": [
        "# Data\n",
        "x_train = torch.tensor([[1.0], [2.0], [3.0]])\n",
        "y_train = torch.tensor([[2.0], [4.0], [6.0]])\n",
        "\n",
        "# Model\n",
        "w = torch.randn(1, requires_grad=True)\n",
        "b = torch.randn(1, requires_grad=True)\n",
        "\n",
        "# Training\n",
        "learning_rate = 0.01\n",
        "for epoch in range(100):\n",
        "    y_pred = w * x_train + b\n",
        "    loss = torch.mean((y_pred - y_train) ** 2)\n",
        "    loss.backward()\n",
        "\n",
        "    # Update\n",
        "    with torch.no_grad():\n",
        "        w -= learning_rate * w.grad\n",
        "        b -= learning_rate * b.grad\n",
        "        w.grad.zero_()\n",
        "        b.grad.zero_()\n",
        "\n",
        "print(\"Trained weight:\", w.item())\n",
        "print(\"Trained bias:\", b.item())\n"
      ],
      "metadata": {
        "id": "o7s2KMJVpZ5M",
        "colab": {
          "base_uri": "https://localhost:8080/"
        },
        "outputId": "9b34e6a6-da26-4142-eed3-eb53305eb68b"
      },
      "execution_count": 21,
      "outputs": [
        {
          "output_type": "stream",
          "name": "stdout",
          "text": [
            "Trained weight: 1.5857030153274536\n",
            "Trained bias: 0.9417575597763062\n"
          ]
        }
      ]
    },
    {
      "cell_type": "markdown",
      "source": [
        "### 6️⃣ Bonus ⚡\n",
        "* Convert a PyTorch tensor to a NumPy array.\n",
        "\n",
        "* Convert it back to a PyTorch tensor."
      ],
      "metadata": {
        "id": "rGhFqtrVpv8_"
      }
    },
    {
      "cell_type": "code",
      "source": [
        "# To do\n",
        "x=torch.tensor([[1., 2.], [3., 4.]])\n",
        "y=x.numpy()\n",
        "print(y)\n",
        "z=torch.from_numpy(y)\n",
        "print(z)\n",
        "\n",
        "\n",
        "\n"
      ],
      "metadata": {
        "id": "AF4t92eDpq0j",
        "colab": {
          "base_uri": "https://localhost:8080/"
        },
        "outputId": "2e9a8472-6457-4a2d-9395-6c179133276a"
      },
      "execution_count": 22,
      "outputs": [
        {
          "output_type": "stream",
          "name": "stdout",
          "text": [
            "[[1. 2.]\n",
            " [3. 4.]]\n",
            "tensor([[1., 2.],\n",
            "        [3., 4.]])\n"
          ]
        }
      ]
    }
  ]
}