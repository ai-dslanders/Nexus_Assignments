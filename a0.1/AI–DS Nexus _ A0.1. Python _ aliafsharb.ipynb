{
 "cells": [
  {
   "cell_type": "markdown",
   "metadata": {
    "id": "ZS5lje_18xC2"
   },
   "source": [
    "# 📚 Assignment 1 — Python Fundamentals\n",
    "Welcome to your first hands-on practice! This set of four mini-projects walks you through the basics every Python (and ML) developer leans on daily:\n",
    "\n",
    "1. Variable types\n",
    "\n",
    "2. Core containers\n",
    "\n",
    "3. Functions\n",
    "\n",
    "4. Classes\n",
    "\n",
    "Each part begins with quick pointers, then gives you two bite-sized tasks to code. Replace every # TODO with working Python and run your script or notebook to check the result. Happy hacking! 😊"
   ]
  },
  {
   "cell_type": "markdown",
   "metadata": {
    "id": "u5vvtK-6840I"
   },
   "source": [
    "## 1. Variable Types 🧮\n",
    "**Quick-start notes**\n",
    "\n",
    "* Primitive types: `int`, `float`, `str`, `bool`\n",
    "\n",
    "* Use `type(obj)` to inspect an object’s type.\n",
    "\n",
    "* Casting ↔ converting: `int(\"3\")`, `str(3.14)`, `bool(0)`, etc."
   ]
  },
  {
   "cell_type": "markdown",
   "metadata": {
    "id": "UyNHtkGm9OgH"
   },
   "source": [
    "### Task 1 — Celsius → Fahrenheit\n",
    "\n"
   ]
  },
  {
   "cell_type": "code",
   "execution_count": null,
   "metadata": {
    "id": "lmaiboJe8E15"
   },
   "outputs": [],
   "source": [
    "# 👉 a Celsius temperature (as text), convert it to float,\n",
    "#    compute Fahrenheit (°F = °C * 9/5 + 32) and print a nicely formatted line.\n",
    "# TODO:\n",
    " # گرفتن دما از کاربر به صورت رشته\n",
    "celsius_text = input(\"Enter temperature in Celsius: \")\n",
    "\n",
    "# تبدیل رشته به عدد اعشاری\n",
    "celsius = float(celsius_text)\n",
    "\n",
    "# محاسبه دمای فارنهایت\n",
    "fahrenheit = celsius * 9/5 + 32\n",
    "\n",
    "# چاپ خروجی خوش‌فرمت\n",
    "print(f\"{celsius}°C is {fahrenheit}°F\")\n",
    "\n"
   ]
  },
  {
   "cell_type": "markdown",
   "metadata": {
    "id": "BtsB8QKM9Xs_"
   },
   "source": [
    "### Task 2 — Tiny Calculator\n"
   ]
  },
  {
   "cell_type": "code",
   "execution_count": null,
   "metadata": {
    "id": "DSR8aS-F9Z10"
   },
   "outputs": [],
   "source": [
    "# 👉 Store two numbers of **different types** (one int, one float),\n",
    "#    then print their sum, difference, product, true division, and floor division.\n",
    "# TODO: \n",
    "num1 = 10       # عدد صحیح (int)\n",
    "num2 = 3.5      # عدد اعشاری (float)\n",
    "\n",
    "# انجام عملیات و چاپ نتایج\n",
    "print(\"جمع:\", num1 + num2)\n",
    "print(\"تفریق:\", num1 - num2)\n",
    "print(\"ضرب:\", num1 * num2)\n",
    "print(\"تقسیم حقیقی:\", num1 / num2)\n",
    "print(\"تقسیم صحیح:\", num1 // num2)\n"
   ]
  },
  {
   "cell_type": "markdown",
   "metadata": {
    "id": "8JjHX4wy9dPz"
   },
   "source": [
    "## 2. Containers 📦 (list, tuple, set, dict)\n",
    "**Quick-start notes**\n",
    "\n",
    "| Container | Mutable? | Ordered?                      | Typical use                       |\n",
    "| --------- | -------- | ----------------------------- | --------------------------------- |\n",
    "| `list`    | ✔        | ✔                             | Growth, indexing, slicing         |\n",
    "| `tuple`   | ✖        | ✔                             | Fixed-size records, hashable keys |\n",
    "| `set`     | ✔        | ✖                             | Deduplication, membership tests   |\n",
    "| `dict`    | ✔        | ✖ (3.7 + preserves insertion) | Key → value look-ups              |\n"
   ]
  },
  {
   "cell_type": "markdown",
   "metadata": {
    "id": "wRyJyhbt9uUr"
   },
   "source": [
    "### Task 1 — Grocery Basket\n",
    "\n"
   ]
  },
  {
   "cell_type": "code",
   "execution_count": null,
   "metadata": {
    "id": "1J4jcLct9yVO"
   },
   "outputs": [],
   "source": [
    "# Start with an empty shopping list (list).\n",
    "# 1. Append at least 4 items supplied in one line of user input (comma-separated).\n",
    "# 2. Convert the list to a *tuple* called immutable_basket.\n",
    "# 3. Print the third item using tuple indexing.\n",
    "# TODO: \n",
    "# مرحله 1: ایجاد لیست خرید خالی\n",
    "shopping_list = []\n",
    "\n",
    "# مرحله 2: گرفتن ورودی از کاربر و اضافه کردن حداقل ۴ آیتم\n",
    "user_input = input(\"لطفاً حداقل ۴ مورد خرید را با کاما جدا وارد کن: \")\n",
    "\n",
    "# تبدیل ورودی کاربر به لیست و حذف فاصله‌های اضافی\n",
    "shopping_list = [item.strip() for item in user_input.split(',')]\n",
    "\n",
    "# مرحله 3: تبدیل لیست به تاپل\n",
    "immutable_basket = tuple(shopping_list)\n",
    "\n",
    "# مرحله 4: چاپ آیتم سوم با استفاده از اندیس‌گذاری\n",
    "print(\"آیتم سوم در سبد خرید شما:\", immutable_basket[2])\n"
   ]
  },
  {
   "cell_type": "markdown",
   "metadata": {
    "id": "byKd8SFK9w2y"
   },
   "source": [
    "### Task 2 — Word Stats"
   ]
  },
  {
   "cell_type": "code",
   "execution_count": null,
   "metadata": {
    "id": "4rLrxkPj90p3"
   },
   "outputs": [],
   "source": [
    "sample = \"to be or not to be that is the question\"\n",
    "\n",
    "# 1. Build a set `unique_words` containing every distinct word.\n",
    "# 2. Build a dict `word_counts` mapping each word to the number of times it appears.\n",
    "#    (Hint: .split() + a simple loop)\n",
    "# 3. Print the two structures and explain (in a comment) their main difference.\n",
    "# TODO: \n",
    "\n",
    "# مرحله 1: ساخت مجموعه‌ای از کلمات یکتا (set)\n",
    "unique_words = set(text.split())\n",
    "\n",
    "# مرحله 2: ساخت دیکشنری برای شمارش تعداد تکرار هر کلمه\n",
    "word_counts = {}\n",
    "for word in text.split():\n",
    "    if word in word_counts:\n",
    "        word_counts[word] += 1\n",
    "    else:\n",
    "        word_counts[word] = 1\n",
    "\n",
    "# مرحله 3: چاپ هر دو ساختار\n",
    "print(\"کلمات یکتا (مجموعه):\", unique_words)\n",
    "print(\"تعداد تکرار هر کلمه (دیکشنری):\", word_counts)\n",
    "\n"
   ]
  },
  {
   "cell_type": "markdown",
   "metadata": {
    "id": "gbGMbtLf94M4"
   },
   "source": [
    "## 3. Functions 🔧\n",
    "**Quick-start notes**\n",
    "\n",
    "* Define with `def`, return with `return`.\n",
    "\n",
    "* Parameters can have default values.\n",
    "\n",
    "* Docstrings (`\"\"\" … \"\"\"`) document behaviour."
   ]
  },
  {
   "cell_type": "markdown",
   "metadata": {
    "id": "QOsToPh2-AnZ"
   },
   "source": [
    "### Task 1 — Prime Tester"
   ]
  },
  {
   "cell_type": "code",
   "execution_count": null,
   "metadata": {
    "id": "_pCU2mIH-DAi"
   },
   "outputs": [],
   "source": [
    "def is_prime(n: int) -> bool:\n",
    "    \"\"\"\n",
    "    Return True if n is a prime number, else False.\n",
    "    0 and 1 are *not* prime.\n",
    "    \"\"\"\n",
    "    # TODO: \n",
    "    def is_prime(n: int) -> bool:\n",
    "    \"\"\"\n",
    "    اگر n عدد اول باشد مقدار True برمی‌گرداند، در غیر این صورت False.\n",
    "    \"\"\"\n",
    "    if n < 2:\n",
    "        return False  # چون 0 و 1 اول نیستند\n",
    "\n",
    "    for i in range(2, int(n ** 0.5) + 1):\n",
    "        if n % i == 0:\n",
    "            return False  # اگر بخش‌پذیر باشد، عدد اول نیست\n",
    "\n",
    "    return True\n",
    "   \n",
    "\n",
    "\n",
    "# Quick self-check\n",
    "print([x for x in range(10) if is_prime(x)])   # Expected: [2, 3, 5, 7]\n"
   ]
  },
  {
   "cell_type": "markdown",
   "metadata": {
    "id": "TBGXIzVV-E5u"
   },
   "source": [
    "### Task 2 — Repeater Greeter"
   ]
  },
  {
   "cell_type": "code",
   "execution_count": null,
   "metadata": {
    "id": "ycvsNyqh-GRM"
   },
   "outputs": [],
   "source": [
    "def greet(name: str, times: int = 1) -> None:\n",
    "    \"\"\"Print `name`, capitalised, exactly `times` times on one line.\"\"\"\n",
    "    # TODO: def greet(name: str, times: int = 1) -> None:\n",
    "    \"\"\"Print `name`, capitalised, exactly `times` times on one line.\"\"\"\n",
    "    print((name.capitalize() + ' ') * times, end='')\n",
    "\n",
    "\n",
    "greet(\"alice\")          # Alice\n",
    "greet(\"bob\", times=3)   # Bob Bob Bob\n"
   ]
  },
  {
   "cell_type": "markdown",
   "metadata": {
    "id": "y7K-GaBC-ImE"
   },
   "source": [
    "## 4. Classes 🏗️\n",
    "**Quick-start notes**\n",
    "\n",
    "* Create with class Name:\n",
    "\n",
    "* Special method __init__ runs on construction.\n",
    "\n",
    "* self refers to the instance; attributes live on self."
   ]
  },
  {
   "cell_type": "markdown",
   "metadata": {
    "id": "NgKjsy8A-N3l"
   },
   "source": [
    "### Task 1 — Simple Counter"
   ]
  },
  {
   "cell_type": "code",
   "execution_count": null,
   "metadata": {
    "id": "dPFvr_fe-OPR"
   },
   "outputs": [],
   "source": [
    "class Counter:\n",
    "    \"\"\"Counts how many times `increment` is called.\"\"\"\n",
    "    # TODO:\n",
    "    # 1. In __init__, store an internal count variable starting at 0.\n",
    "    # 2. Method increment(step: int = 1) adds `step` to the count.\n",
    "    # 3. Method value() returns the current count.\n",
    "    def __init__(self):\n",
    "        self._count = 0\n",
    "\n",
    "    def increment(self, step: int = 1):\n",
    "        self._count += step\n",
    "\n",
    "    def value(self):\n",
    "        return self._count\n",
    "\n",
    "\n",
    "c = Counter()\n",
    "for _ in range(5):\n",
    "    c.increment()\n",
    "print(c.value())   # Expected: 5\n"
   ]
  },
  {
   "cell_type": "markdown",
   "metadata": {
    "id": "U99aupan-Q8u"
   },
   "source": [
    "### Task 2 — 2-D Point with Distance"
   ]
  },
  {
   "cell_type": "code",
   "execution_count": null,
   "metadata": {
    "id": "OVh3GEzH-T0w"
   },
   "outputs": [],
   "source": [
    "import math\n",
    "\n",
    "class Point:\n",
    "    \"\"\"\n",
    "    A 2-D point supporting distance calculation.\n",
    "    Usage:\n",
    "        p = Point(3, 4)\n",
    "        q = Point(0, 0)\n",
    "        print(p.distance_to(q))  # 5.0\n",
    "    \"\"\"\n",
    "    # TODO:\n",
    "    # 1. Store x and y as attributes.\n",
    "    # 2. Implement distance_to(other) using the Euclidean formula.\n",
    "    def __init__(self, x, y):\n",
    "        self.x = x\n",
    "        self.y = y\n",
    "\n",
    "    def distance_to(self, other):\n",
    "        return math.sqrt((self.x - other.x) ** 2 + (self.y - other.y) ** 2)\n",
    "\n",
    "\n",
    "# Smoke test\n",
    "p, q = Point(3, 4), Point(0, 0)\n",
    "assert round(p.distance_to(q), 1) == 5.0\n"
   ]
  }
 ],
 "metadata": {
  "colab": {
   "provenance": [
    {
     "file_id": "1PHW5WZ1eMJVDuFL2QTtMEkdiZAaF4xQL",
     "timestamp": 1752482243039
    }
   ]
  },
  "kernelspec": {
   "display_name": "Python 3",
   "name": "python3"
  },
  "language_info": {
   "name": "python"
  }
 },
 "nbformat": 4,
 "nbformat_minor": 0
}
