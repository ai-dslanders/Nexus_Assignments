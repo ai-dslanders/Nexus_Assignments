{
  "nbformat": 4,
  "nbformat_minor": 0,
  "metadata": {
    "colab": {
      "provenance": []
    },
    "kernelspec": {
      "name": "python3",
      "display_name": "Python 3"
    },
    "language_info": {
      "name": "python"
    }
  },
  "cells": [
    {
      "cell_type": "markdown",
      "source": [
        "# 📚 Assignment 2 — NumPy, pandas & Matplotlib Essentials\n",
        "Welcome to your first data-science sprint! In this three-part mini-project you’ll touch the libraries every ML practitioner leans on daily:\n",
        "\n",
        "1. NumPy — fast n-dimensional arrays\n",
        "\n",
        "2. pandas — tabular data wrangling\n",
        "\n",
        "3. Matplotlib — quick, customizable plots\n",
        "\n",
        "Each part starts with “Quick-start notes”, then gives you two bite-sized tasks. Replace every # TODO with working Python in a notebook or script, run it, and check your results. Happy hacking! 😊\n"
      ],
      "metadata": {
        "id": "ZS5lje_18xC2"
      }
    },
    {
      "cell_type": "markdown",
      "source": [
        "## 1 · NumPy 🧮\n",
        "Quick-start notes\n",
        "Core object: ndarray (n-dimensional array)\n",
        "\n",
        "Create data: np.array, np.arange, np.random.*\n",
        "\n",
        "Summaries: mean, std, sum, max, …\n",
        "\n",
        "Vectorised math beats Python loops for speed\n",
        "\n"
      ],
      "metadata": {
        "id": "u5vvtK-6840I"
      }
    },
    {
      "cell_type": "markdown",
      "source": [
        "### Task 1 — Mock temperatures\n",
        "\n"
      ],
      "metadata": {
        "id": "UyNHtkGm9OgH"
      }
    },
    {
      "cell_type": "code",
      "execution_count": 61,
      "metadata": {
        "id": "lmaiboJe8E15"
      },
      "outputs": [],
      "source": [
        "# 👉 # TODO: import numpy and create an array of 365\n",
        "# normally-distributed °C values (µ=20, σ=5) called temps\n",
        "import numpy as np\n",
        "mean = 20\n",
        "std = 5\n",
        "temps = np.random.normal(loc=mean, scale=std, size=365)\n",
        "#temps.shape"
      ]
    },
    {
      "cell_type": "markdown",
      "source": [
        "### Task 2 — Average temperature\n"
      ],
      "metadata": {
        "id": "BtsB8QKM9Xs_"
      }
    },
    {
      "cell_type": "code",
      "source": [
        "# 👉 # TODO: print the mean of temps\n",
        "print(np.mean(temps))"
      ],
      "metadata": {
        "id": "DSR8aS-F9Z10",
        "colab": {
          "base_uri": "https://localhost:8080/"
        },
        "outputId": "aa447a9a-0963-407c-e84e-8c023d7b2924"
      },
      "execution_count": 62,
      "outputs": [
        {
          "output_type": "stream",
          "name": "stdout",
          "text": [
            "20.186113405910568\n"
          ]
        }
      ]
    },
    {
      "cell_type": "markdown",
      "source": [
        "## 2 · pandas 📊\n",
        "Quick-start notes\n",
        "Main structures: DataFrame, Series\n",
        "\n",
        "Read data: pd.read_csv, pd.read_excel, …\n",
        "\n",
        "Selection: .loc[label], .iloc[pos]\n",
        "\n",
        "Group & summarise: .groupby(...).agg(...)\n",
        "\n"
      ],
      "metadata": {
        "id": "8JjHX4wy9dPz"
      }
    },
    {
      "cell_type": "markdown",
      "source": [
        "### Task 3 — Load ride log\n"
      ],
      "metadata": {
        "id": "wRyJyhbt9uUr"
      }
    },
    {
      "cell_type": "markdown",
      "source": [
        "####Create a sample 'rides.csv' \"EXTRA\""
      ],
      "metadata": {
        "id": "dTCqJ8EAA-CY"
      }
    },
    {
      "cell_type": "markdown",
      "source": [
        "######Generating random dates:"
      ],
      "metadata": {
        "id": "wldZnTXaBony"
      }
    },
    {
      "cell_type": "code",
      "source": [
        "import numpy as np\n",
        "\n",
        "def format_date(year, month, day):\n",
        "  return f\"{year:04d}-{month:02d}-{day:02d}\"\n",
        "\n",
        "max_size = 100\n",
        "day = np.random.randint(1, 29, max_size)\n",
        "month = np.random.randint(1, 13, max_size)\n",
        "year = np.random.randint(1998, 2026, max_size)"
      ],
      "metadata": {
        "id": "8j4-P8QK7Dih"
      },
      "execution_count": 4,
      "outputs": []
    },
    {
      "cell_type": "code",
      "source": [
        "date = []\n",
        "for i in range(max_size):\n",
        "  date.append(format_date(year[i], month[i], day[i]))\n",
        "date_final = np.array(date)"
      ],
      "metadata": {
        "id": "QVKua_no8WKz"
      },
      "execution_count": 5,
      "outputs": []
    },
    {
      "cell_type": "markdown",
      "source": [
        "######Generating random temprature:"
      ],
      "metadata": {
        "id": "16CrRUdpBujH"
      }
    },
    {
      "cell_type": "code",
      "source": [
        "temp = np.random.normal(loc=20, scale=5, size=max_size)\n",
        "temp_final = np.round(temp, 1)"
      ],
      "metadata": {
        "id": "79hwOgBx_kPy"
      },
      "execution_count": 6,
      "outputs": []
    },
    {
      "cell_type": "markdown",
      "source": [
        "######Generating random rides:"
      ],
      "metadata": {
        "id": "2G71MEqcBzfK"
      }
    },
    {
      "cell_type": "code",
      "source": [
        "ride_final = np.random.randint(100, 300, max_size)"
      ],
      "metadata": {
        "id": "7QBBMBSBB3B0"
      },
      "execution_count": 7,
      "outputs": []
    },
    {
      "cell_type": "markdown",
      "source": [
        "######Generating random weekday:"
      ],
      "metadata": {
        "id": "Y9_lqD5BB3lA"
      }
    },
    {
      "cell_type": "code",
      "source": [
        "weekday = ['Sunday', 'Monday', 'Tuesday', 'Wednesday', 'Thursday', 'Friday', 'Saturday']\n",
        "weekday_ls = []\n",
        "\n",
        "index = np.random.randint(0, 7, max_size)\n",
        "for i in index:\n",
        "  weekday_ls.append(weekday[i])\n",
        "\n",
        "weekday_final = np.array(weekday_ls)"
      ],
      "metadata": {
        "id": "9kRiDomR_z7L"
      },
      "execution_count": 8,
      "outputs": []
    },
    {
      "cell_type": "markdown",
      "source": [
        "###### Creating csv:"
      ],
      "metadata": {
        "id": "QFJUmAFoENzV"
      }
    },
    {
      "cell_type": "code",
      "source": [
        "import pandas as pd\n",
        "df = pd.DataFrame()\n",
        "\n",
        "df['date'] = date_final\n",
        "df['temp'] = temp_final\n",
        "df['rides'] = ride_final\n",
        "df['weekday'] = weekday_final"
      ],
      "metadata": {
        "id": "tED86gwAEVMs"
      },
      "execution_count": 9,
      "outputs": []
    },
    {
      "cell_type": "code",
      "source": [
        "df.to_csv('rides.csv', index = False)"
      ],
      "metadata": {
        "id": "xzA2EvaOF_iQ"
      },
      "execution_count": 10,
      "outputs": []
    },
    {
      "cell_type": "markdown",
      "source": [
        "####TODO exercise"
      ],
      "metadata": {
        "id": "OYE5ILBRBGC6"
      }
    },
    {
      "cell_type": "code",
      "source": [
        "# 👉 # TODO: read \"rides.csv\" into df\n",
        "# (columns: date,temp,rides,weekday)\n",
        "import pandas as pd\n",
        "df = pd.read_csv(\"rides.csv\")\n",
        "df.columns"
      ],
      "metadata": {
        "id": "1J4jcLct9yVO",
        "colab": {
          "base_uri": "https://localhost:8080/"
        },
        "outputId": "ef16a650-47e1-4585-ea5a-a22e4cc03110"
      },
      "execution_count": 32,
      "outputs": [
        {
          "output_type": "execute_result",
          "data": {
            "text/plain": [
              "Index(['date', 'temp', 'rides', 'weekday'], dtype='object')"
            ]
          },
          "metadata": {},
          "execution_count": 32
        }
      ]
    },
    {
      "cell_type": "code",
      "source": [
        "df.head()"
      ],
      "metadata": {
        "id": "AMC-EFVMKQKD",
        "outputId": "598b8d64-cc2a-4576-ca12-d17c70645e07",
        "colab": {
          "base_uri": "https://localhost:8080/",
          "height": 206
        }
      },
      "execution_count": 33,
      "outputs": [
        {
          "output_type": "execute_result",
          "data": {
            "text/plain": [
              "         date  temp  rides   weekday\n",
              "0  2016-08-04  23.0    292    Friday\n",
              "1  2021-06-11  24.2    278    Sunday\n",
              "2  2003-10-16  15.2    233   Tuesday\n",
              "3  2014-07-28  14.7    291  Saturday\n",
              "4  2021-12-26  23.8    200  Saturday"
            ],
            "text/html": [
              "\n",
              "  <div id=\"df-61c91204-b65f-48fe-8c93-86cf7f7e3d9e\" class=\"colab-df-container\">\n",
              "    <div>\n",
              "<style scoped>\n",
              "    .dataframe tbody tr th:only-of-type {\n",
              "        vertical-align: middle;\n",
              "    }\n",
              "\n",
              "    .dataframe tbody tr th {\n",
              "        vertical-align: top;\n",
              "    }\n",
              "\n",
              "    .dataframe thead th {\n",
              "        text-align: right;\n",
              "    }\n",
              "</style>\n",
              "<table border=\"1\" class=\"dataframe\">\n",
              "  <thead>\n",
              "    <tr style=\"text-align: right;\">\n",
              "      <th></th>\n",
              "      <th>date</th>\n",
              "      <th>temp</th>\n",
              "      <th>rides</th>\n",
              "      <th>weekday</th>\n",
              "    </tr>\n",
              "  </thead>\n",
              "  <tbody>\n",
              "    <tr>\n",
              "      <th>0</th>\n",
              "      <td>2016-08-04</td>\n",
              "      <td>23.0</td>\n",
              "      <td>292</td>\n",
              "      <td>Friday</td>\n",
              "    </tr>\n",
              "    <tr>\n",
              "      <th>1</th>\n",
              "      <td>2021-06-11</td>\n",
              "      <td>24.2</td>\n",
              "      <td>278</td>\n",
              "      <td>Sunday</td>\n",
              "    </tr>\n",
              "    <tr>\n",
              "      <th>2</th>\n",
              "      <td>2003-10-16</td>\n",
              "      <td>15.2</td>\n",
              "      <td>233</td>\n",
              "      <td>Tuesday</td>\n",
              "    </tr>\n",
              "    <tr>\n",
              "      <th>3</th>\n",
              "      <td>2014-07-28</td>\n",
              "      <td>14.7</td>\n",
              "      <td>291</td>\n",
              "      <td>Saturday</td>\n",
              "    </tr>\n",
              "    <tr>\n",
              "      <th>4</th>\n",
              "      <td>2021-12-26</td>\n",
              "      <td>23.8</td>\n",
              "      <td>200</td>\n",
              "      <td>Saturday</td>\n",
              "    </tr>\n",
              "  </tbody>\n",
              "</table>\n",
              "</div>\n",
              "    <div class=\"colab-df-buttons\">\n",
              "\n",
              "  <div class=\"colab-df-container\">\n",
              "    <button class=\"colab-df-convert\" onclick=\"convertToInteractive('df-61c91204-b65f-48fe-8c93-86cf7f7e3d9e')\"\n",
              "            title=\"Convert this dataframe to an interactive table.\"\n",
              "            style=\"display:none;\">\n",
              "\n",
              "  <svg xmlns=\"http://www.w3.org/2000/svg\" height=\"24px\" viewBox=\"0 -960 960 960\">\n",
              "    <path d=\"M120-120v-720h720v720H120Zm60-500h600v-160H180v160Zm220 220h160v-160H400v160Zm0 220h160v-160H400v160ZM180-400h160v-160H180v160Zm440 0h160v-160H620v160ZM180-180h160v-160H180v160Zm440 0h160v-160H620v160Z\"/>\n",
              "  </svg>\n",
              "    </button>\n",
              "\n",
              "  <style>\n",
              "    .colab-df-container {\n",
              "      display:flex;\n",
              "      gap: 12px;\n",
              "    }\n",
              "\n",
              "    .colab-df-convert {\n",
              "      background-color: #E8F0FE;\n",
              "      border: none;\n",
              "      border-radius: 50%;\n",
              "      cursor: pointer;\n",
              "      display: none;\n",
              "      fill: #1967D2;\n",
              "      height: 32px;\n",
              "      padding: 0 0 0 0;\n",
              "      width: 32px;\n",
              "    }\n",
              "\n",
              "    .colab-df-convert:hover {\n",
              "      background-color: #E2EBFA;\n",
              "      box-shadow: 0px 1px 2px rgba(60, 64, 67, 0.3), 0px 1px 3px 1px rgba(60, 64, 67, 0.15);\n",
              "      fill: #174EA6;\n",
              "    }\n",
              "\n",
              "    .colab-df-buttons div {\n",
              "      margin-bottom: 4px;\n",
              "    }\n",
              "\n",
              "    [theme=dark] .colab-df-convert {\n",
              "      background-color: #3B4455;\n",
              "      fill: #D2E3FC;\n",
              "    }\n",
              "\n",
              "    [theme=dark] .colab-df-convert:hover {\n",
              "      background-color: #434B5C;\n",
              "      box-shadow: 0px 1px 3px 1px rgba(0, 0, 0, 0.15);\n",
              "      filter: drop-shadow(0px 1px 2px rgba(0, 0, 0, 0.3));\n",
              "      fill: #FFFFFF;\n",
              "    }\n",
              "  </style>\n",
              "\n",
              "    <script>\n",
              "      const buttonEl =\n",
              "        document.querySelector('#df-61c91204-b65f-48fe-8c93-86cf7f7e3d9e button.colab-df-convert');\n",
              "      buttonEl.style.display =\n",
              "        google.colab.kernel.accessAllowed ? 'block' : 'none';\n",
              "\n",
              "      async function convertToInteractive(key) {\n",
              "        const element = document.querySelector('#df-61c91204-b65f-48fe-8c93-86cf7f7e3d9e');\n",
              "        const dataTable =\n",
              "          await google.colab.kernel.invokeFunction('convertToInteractive',\n",
              "                                                    [key], {});\n",
              "        if (!dataTable) return;\n",
              "\n",
              "        const docLinkHtml = 'Like what you see? Visit the ' +\n",
              "          '<a target=\"_blank\" href=https://colab.research.google.com/notebooks/data_table.ipynb>data table notebook</a>'\n",
              "          + ' to learn more about interactive tables.';\n",
              "        element.innerHTML = '';\n",
              "        dataTable['output_type'] = 'display_data';\n",
              "        await google.colab.output.renderOutput(dataTable, element);\n",
              "        const docLink = document.createElement('div');\n",
              "        docLink.innerHTML = docLinkHtml;\n",
              "        element.appendChild(docLink);\n",
              "      }\n",
              "    </script>\n",
              "  </div>\n",
              "\n",
              "\n",
              "    <div id=\"df-ec291153-eed7-4eb0-acbb-1989573981d5\">\n",
              "      <button class=\"colab-df-quickchart\" onclick=\"quickchart('df-ec291153-eed7-4eb0-acbb-1989573981d5')\"\n",
              "                title=\"Suggest charts\"\n",
              "                style=\"display:none;\">\n",
              "\n",
              "<svg xmlns=\"http://www.w3.org/2000/svg\" height=\"24px\"viewBox=\"0 0 24 24\"\n",
              "     width=\"24px\">\n",
              "    <g>\n",
              "        <path d=\"M19 3H5c-1.1 0-2 .9-2 2v14c0 1.1.9 2 2 2h14c1.1 0 2-.9 2-2V5c0-1.1-.9-2-2-2zM9 17H7v-7h2v7zm4 0h-2V7h2v10zm4 0h-2v-4h2v4z\"/>\n",
              "    </g>\n",
              "</svg>\n",
              "      </button>\n",
              "\n",
              "<style>\n",
              "  .colab-df-quickchart {\n",
              "      --bg-color: #E8F0FE;\n",
              "      --fill-color: #1967D2;\n",
              "      --hover-bg-color: #E2EBFA;\n",
              "      --hover-fill-color: #174EA6;\n",
              "      --disabled-fill-color: #AAA;\n",
              "      --disabled-bg-color: #DDD;\n",
              "  }\n",
              "\n",
              "  [theme=dark] .colab-df-quickchart {\n",
              "      --bg-color: #3B4455;\n",
              "      --fill-color: #D2E3FC;\n",
              "      --hover-bg-color: #434B5C;\n",
              "      --hover-fill-color: #FFFFFF;\n",
              "      --disabled-bg-color: #3B4455;\n",
              "      --disabled-fill-color: #666;\n",
              "  }\n",
              "\n",
              "  .colab-df-quickchart {\n",
              "    background-color: var(--bg-color);\n",
              "    border: none;\n",
              "    border-radius: 50%;\n",
              "    cursor: pointer;\n",
              "    display: none;\n",
              "    fill: var(--fill-color);\n",
              "    height: 32px;\n",
              "    padding: 0;\n",
              "    width: 32px;\n",
              "  }\n",
              "\n",
              "  .colab-df-quickchart:hover {\n",
              "    background-color: var(--hover-bg-color);\n",
              "    box-shadow: 0 1px 2px rgba(60, 64, 67, 0.3), 0 1px 3px 1px rgba(60, 64, 67, 0.15);\n",
              "    fill: var(--button-hover-fill-color);\n",
              "  }\n",
              "\n",
              "  .colab-df-quickchart-complete:disabled,\n",
              "  .colab-df-quickchart-complete:disabled:hover {\n",
              "    background-color: var(--disabled-bg-color);\n",
              "    fill: var(--disabled-fill-color);\n",
              "    box-shadow: none;\n",
              "  }\n",
              "\n",
              "  .colab-df-spinner {\n",
              "    border: 2px solid var(--fill-color);\n",
              "    border-color: transparent;\n",
              "    border-bottom-color: var(--fill-color);\n",
              "    animation:\n",
              "      spin 1s steps(1) infinite;\n",
              "  }\n",
              "\n",
              "  @keyframes spin {\n",
              "    0% {\n",
              "      border-color: transparent;\n",
              "      border-bottom-color: var(--fill-color);\n",
              "      border-left-color: var(--fill-color);\n",
              "    }\n",
              "    20% {\n",
              "      border-color: transparent;\n",
              "      border-left-color: var(--fill-color);\n",
              "      border-top-color: var(--fill-color);\n",
              "    }\n",
              "    30% {\n",
              "      border-color: transparent;\n",
              "      border-left-color: var(--fill-color);\n",
              "      border-top-color: var(--fill-color);\n",
              "      border-right-color: var(--fill-color);\n",
              "    }\n",
              "    40% {\n",
              "      border-color: transparent;\n",
              "      border-right-color: var(--fill-color);\n",
              "      border-top-color: var(--fill-color);\n",
              "    }\n",
              "    60% {\n",
              "      border-color: transparent;\n",
              "      border-right-color: var(--fill-color);\n",
              "    }\n",
              "    80% {\n",
              "      border-color: transparent;\n",
              "      border-right-color: var(--fill-color);\n",
              "      border-bottom-color: var(--fill-color);\n",
              "    }\n",
              "    90% {\n",
              "      border-color: transparent;\n",
              "      border-bottom-color: var(--fill-color);\n",
              "    }\n",
              "  }\n",
              "</style>\n",
              "\n",
              "      <script>\n",
              "        async function quickchart(key) {\n",
              "          const quickchartButtonEl =\n",
              "            document.querySelector('#' + key + ' button');\n",
              "          quickchartButtonEl.disabled = true;  // To prevent multiple clicks.\n",
              "          quickchartButtonEl.classList.add('colab-df-spinner');\n",
              "          try {\n",
              "            const charts = await google.colab.kernel.invokeFunction(\n",
              "                'suggestCharts', [key], {});\n",
              "          } catch (error) {\n",
              "            console.error('Error during call to suggestCharts:', error);\n",
              "          }\n",
              "          quickchartButtonEl.classList.remove('colab-df-spinner');\n",
              "          quickchartButtonEl.classList.add('colab-df-quickchart-complete');\n",
              "        }\n",
              "        (() => {\n",
              "          let quickchartButtonEl =\n",
              "            document.querySelector('#df-ec291153-eed7-4eb0-acbb-1989573981d5 button');\n",
              "          quickchartButtonEl.style.display =\n",
              "            google.colab.kernel.accessAllowed ? 'block' : 'none';\n",
              "        })();\n",
              "      </script>\n",
              "    </div>\n",
              "    </div>\n",
              "  </div>\n"
            ],
            "application/vnd.google.colaboratory.intrinsic+json": {
              "type": "dataframe",
              "variable_name": "df",
              "summary": "{\n  \"name\": \"df\",\n  \"rows\": 100,\n  \"fields\": [\n    {\n      \"column\": \"date\",\n      \"properties\": {\n        \"dtype\": \"object\",\n        \"num_unique_values\": 99,\n        \"samples\": [\n          \"2008-06-21\",\n          \"2008-03-23\",\n          \"2017-09-28\"\n        ],\n        \"semantic_type\": \"\",\n        \"description\": \"\"\n      }\n    },\n    {\n      \"column\": \"temp\",\n      \"properties\": {\n        \"dtype\": \"number\",\n        \"std\": 5.198053637291713,\n        \"min\": 8.8,\n        \"max\": 33.8,\n        \"num_unique_values\": 77,\n        \"samples\": [\n          23.8,\n          13.9,\n          21.5\n        ],\n        \"semantic_type\": \"\",\n        \"description\": \"\"\n      }\n    },\n    {\n      \"column\": \"rides\",\n      \"properties\": {\n        \"dtype\": \"number\",\n        \"std\": 59,\n        \"min\": 102,\n        \"max\": 299,\n        \"num_unique_values\": 81,\n        \"samples\": [\n          157,\n          292,\n          191\n        ],\n        \"semantic_type\": \"\",\n        \"description\": \"\"\n      }\n    },\n    {\n      \"column\": \"weekday\",\n      \"properties\": {\n        \"dtype\": \"category\",\n        \"num_unique_values\": 7,\n        \"samples\": [\n          \"Friday\",\n          \"Sunday\",\n          \"Monday\"\n        ],\n        \"semantic_type\": \"\",\n        \"description\": \"\"\n      }\n    }\n  ]\n}"
            }
          },
          "metadata": {},
          "execution_count": 33
        }
      ]
    },
    {
      "cell_type": "markdown",
      "source": [
        "### Task 4 — Weekday averages"
      ],
      "metadata": {
        "id": "byKd8SFK9w2y"
      }
    },
    {
      "cell_type": "code",
      "source": [
        "# 👉 # TODO: compute and print mean rides per weekday\n",
        "print(df.groupby('weekday')['rides'].mean())"
      ],
      "metadata": {
        "id": "4rLrxkPj90p3",
        "colab": {
          "base_uri": "https://localhost:8080/"
        },
        "outputId": "4bdefce4-532e-4e44-e5f0-6886e65b623d"
      },
      "execution_count": 37,
      "outputs": [
        {
          "output_type": "stream",
          "name": "stdout",
          "text": [
            "weekday\n",
            "Friday       209.200000\n",
            "Monday       215.666667\n",
            "Saturday     198.750000\n",
            "Sunday       202.434783\n",
            "Thursday     186.000000\n",
            "Tuesday      190.785714\n",
            "Wednesday    213.714286\n",
            "Name: rides, dtype: float64\n"
          ]
        }
      ]
    },
    {
      "cell_type": "markdown",
      "source": [
        "## 3 · Matplotlib 📈\n",
        "Quick-start notes\n",
        "Workhorse: pyplot interface (import matplotlib.pyplot as plt)\n",
        "\n",
        "Figure & axes: fig, ax = plt.subplots()\n",
        "\n",
        "Common plots: plot, scatter, hist, imshow\n",
        "\n",
        "Display inline in Jupyter with %matplotlib inline or %matplotlib notebook"
      ],
      "metadata": {
        "id": "gbGMbtLf94M4"
      }
    },
    {
      "cell_type": "markdown",
      "source": [
        "### Task 5 — Scatter plot"
      ],
      "metadata": {
        "id": "QOsToPh2-AnZ"
      }
    },
    {
      "cell_type": "code",
      "source": [
        "# 👉 # TODO: scatter-plot temperature (x) vs rides (y) from df\n",
        "import pandas as pd\n",
        "import matplotlib.pyplot as plt\n",
        "\n",
        "df = pd.read_csv(\"rides.csv\")\n",
        "\n",
        "plt.figure(figsize = (8, 6))\n",
        "plt.scatter(df['temp'], df['rides'], alpha = 0.7)\n",
        "plt.title('Tempreture vs Rides')\n",
        "plt.xlabel('Tempreture (Celcius)')\n",
        "plt.ylabel('Number of rides')\n",
        "plt.grid(True)\n",
        "plt.tight_layout()\n",
        "plt.show()"
      ],
      "metadata": {
        "id": "_pCU2mIH-DAi",
        "colab": {
          "base_uri": "https://localhost:8080/",
          "height": 607
        },
        "outputId": "e1f3b4c1-dc77-45db-8a90-16d3ccc09cdf"
      },
      "execution_count": 59,
      "outputs": [
        {
          "output_type": "display_data",
          "data": {
            "text/plain": [
              "<Figure size 800x600 with 1 Axes>"
            ],
            "image/png": "[encoded data removed]"
          },
          "metadata": {}
        }
      ]
    },
    {
      "cell_type": "markdown",
      "source": [
        "### Task 6 — Show the figure\n",
        "\n"
      ],
      "metadata": {
        "id": "TBGXIzVV-E5u"
      }
    },
    {
      "cell_type": "code",
      "source": [
        "# 👉 # TODO: call plt.show() so the plot appears\n",
        "\n",
        "#Summary from ChatGPT:\n",
        "#   In Colab, each cell’s output is independent.\n",
        "#   You can’t create a plot in one cell and call plt.show() in a separate cell to display it.\n",
        "#   Always create and show the plot in the same cell for plt.show() to work properly."
      ],
      "metadata": {
        "id": "ycvsNyqh-GRM"
      },
      "execution_count": 60,
      "outputs": []
    }
  ]
}