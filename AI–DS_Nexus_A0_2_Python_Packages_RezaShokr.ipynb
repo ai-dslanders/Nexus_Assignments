{
  "nbformat": 4,
  "nbformat_minor": 0,
  "metadata": {
    "colab": {
      "provenance": [],
      "include_colab_link": true
    },
    "kernelspec": {
      "name": "python3",
      "display_name": "Python 3"
    },
    "language_info": {
      "name": "python"
    }
  },
  "cells": [
    {
      "cell_type": "markdown",
      "metadata": {
        "id": "view-in-github",
        "colab_type": "text"
      },
      "source": [
        "<a href=\"https://colab.research.google.com/github/farzadmazaherian/Nexus_Assignments/blob/main/AI%E2%80%93DS_Nexus_%7C_A0_2_Python_Packages%7C_RezaShokr.ipynb\" target=\"_parent\"><img src=\"https://colab.research.google.com/assets/colab-badge.svg\" alt=\"Open In Colab\"/></a>"
      ]
    },
    {
      "cell_type": "markdown",
      "source": [
        "# 📚 Assignment 2 — NumPy, pandas & Matplotlib Essentials\n",
        "Welcome to your first data-science sprint! In this three-part mini-project you’ll touch the libraries every ML practitioner leans on daily:\n",
        "\n",
        "1. NumPy — fast n-dimensional arrays\n",
        "\n",
        "2. pandas — tabular data wrangling\n",
        "\n",
        "3. Matplotlib — quick, customizable plots\n",
        "\n",
        "Each part starts with “Quick-start notes”, then gives you two bite-sized tasks. Replace every # TODO with working Python in a notebook or script, run it, and check your results. Happy hacking! 😊\n"
      ],
      "metadata": {
        "id": "ZS5lje_18xC2"
      }
    },
    {
      "cell_type": "markdown",
      "source": [
        "## 1 · NumPy 🧮\n",
        "Quick-start notes\n",
        "Core object: ndarray (n-dimensional array)\n",
        "\n",
        "Create data: np.array, np.arange, np.random.*\n",
        "\n",
        "Summaries: mean, std, sum, max, …\n",
        "\n",
        "Vectorised math beats Python loops for speed\n",
        "\n"
      ],
      "metadata": {
        "id": "u5vvtK-6840I"
      }
    },
    {
      "cell_type": "markdown",
      "source": [
        "### Task 1 — Mock temperatures\n",
        "\n"
      ],
      "metadata": {
        "id": "UyNHtkGm9OgH"
      }
    },
    {
      "cell_type": "code",
      "execution_count": null,
      "metadata": {
        "id": "lmaiboJe8E15"
      },
      "outputs": [],
      "source": [
        "# 👉 # TODO: import numpy and create an array of 365\n",
        "# normally-distributed °C values (µ=20, σ=5) called temps\n"
      ]
    },
    {
      "cell_type": "code",
      "source": [
        "import numpy as np\n",
        "np.random.random(42)\n",
        "temps = np.random.normal(loc=20, scale=5, size=365)\n",
        "print(\"First 10 values:\", temps[:10])"
      ],
      "metadata": {
        "colab": {
          "base_uri": "https://localhost:8080/"
        },
        "id": "FkBATrXt6_NW",
        "outputId": "b03ae771-a390-40d9-c9d0-d5a8557ad8a4"
      },
      "execution_count": 4,
      "outputs": [
        {
          "output_type": "stream",
          "name": "stdout",
          "text": [
            "First 10 values: [17.99389764 13.39883396 29.15729383 25.8972006  17.65412174 11.43432735\n",
            " 26.76936187 19.42730077 26.18908156 12.02786171]\n"
          ]
        }
      ]
    },
    {
      "cell_type": "markdown",
      "source": [
        "### Task 2 — Average temperature\n"
      ],
      "metadata": {
        "id": "BtsB8QKM9Xs_"
      }
    },
    {
      "cell_type": "code",
      "source": [
        "# 👉 # TODO: print the mean of temps\n"
      ],
      "metadata": {
        "id": "DSR8aS-F9Z10"
      },
      "execution_count": null,
      "outputs": []
    },
    {
      "cell_type": "code",
      "source": [
        "print(\"Mean:\", np.mean(temps))"
      ],
      "metadata": {
        "colab": {
          "base_uri": "https://localhost:8080/"
        },
        "id": "4bbaiK2b8hjL",
        "outputId": "7f7773fe-62d2-495c-c8a0-902d7c96fbb9"
      },
      "execution_count": 5,
      "outputs": [
        {
          "output_type": "stream",
          "name": "stdout",
          "text": [
            "Mean: 19.707333669730282\n"
          ]
        }
      ]
    },
    {
      "cell_type": "markdown",
      "source": [
        "## 2 · pandas 📊\n",
        "Quick-start notes\n",
        "Main structures: DataFrame, Series\n",
        "\n",
        "Read data: pd.read_csv, pd.read_excel, …\n",
        "\n",
        "Selection: .loc[label], .iloc[pos]\n",
        "\n",
        "Group & summarise: .groupby(...).agg(...)\n",
        "\n"
      ],
      "metadata": {
        "id": "8JjHX4wy9dPz"
      }
    },
    {
      "cell_type": "markdown",
      "source": [
        "### Task 3 — Load ride log\n"
      ],
      "metadata": {
        "id": "wRyJyhbt9uUr"
      }
    },
    {
      "cell_type": "code",
      "source": [
        "# 👉 # TODO: read \"rides.csv\" into df\n",
        "# (columns: date,temp,rides,weekday)\n"
      ],
      "metadata": {
        "id": "1J4jcLct9yVO"
      },
      "execution_count": null,
      "outputs": []
    },
    {
      "cell_type": "code",
      "source": [
        "import pandas as pd\n",
        "df = pd.read_csv('rides.csv')\n"
      ],
      "metadata": {
        "id": "Fp6BOwQdFdvz"
      },
      "execution_count": null,
      "outputs": []
    },
    {
      "cell_type": "markdown",
      "source": [
        "### Task 4 — Weekday averages"
      ],
      "metadata": {
        "id": "byKd8SFK9w2y"
      }
    },
    {
      "cell_type": "code",
      "source": [
        "# 👉 # TODO: compute and print mean rides per weekday\n"
      ],
      "metadata": {
        "id": "4rLrxkPj90p3"
      },
      "execution_count": null,
      "outputs": []
    },
    {
      "cell_type": "markdown",
      "source": [
        "## 3 · Matplotlib 📈\n",
        "Quick-start notes\n",
        "Workhorse: pyplot interface (import matplotlib.pyplot as plt)\n",
        "\n",
        "Figure & axes: fig, ax = plt.subplots()\n",
        "\n",
        "Common plots: plot, scatter, hist, imshow\n",
        "\n",
        "Display inline in Jupyter with %matplotlib inline or %matplotlib notebook"
      ],
      "metadata": {
        "id": "gbGMbtLf94M4"
      }
    },
    {
      "cell_type": "markdown",
      "source": [
        "### Task 5 — Scatter plot"
      ],
      "metadata": {
        "id": "QOsToPh2-AnZ"
      }
    },
    {
      "cell_type": "code",
      "source": [
        "# 👉 # TODO: import matplotlib.pyplot as plt\n",
        "import seaborn as sns  # For enhanced visuals\n",
        "\n",
        "plt.figure(figsize=(10, 6))\n",
        "\n",
        "# Create scatter plot with customization\n",
        "sns.scatterplot(\n",
        "    data=df,\n",
        "    x='temp',\n",
        "    y='rides',\n",
        "    hue='weekday',  # Color by weekday\n",
        "    palette='viridis',  # Color scheme\n",
        "    alpha=0.7,  # Slight transparency\n",
        "    s=100  # Point size\n",
        ")\n",
        "\n",
        "# Add labels and title\n",
        "plt.title('🚲 Rides vs Temperature by Weekday', fontsize=14)\n",
        "plt.xlabel('Temperature (°C)', fontsize=12)\n",
        "plt.ylabel('Number of Rides', fontsize=12)\n",
        "\n",
        "# Add grid and adjust layout\n",
        "plt.grid(True, linestyle='--', alpha=0.3)\n",
        "plt.tight_layout()\n",
        "\n",
        "# Add trendline (optional)\n",
        "sns.regplot(\n",
        "    data=df,\n",
        "    x='temp',\n",
        "    y='rides',\n",
        "    scatter=False,\n",
        "    color='red',\n",
        "    line_kws={'linestyle':'--'}\n",
        ")\n",
        "\n",
        "# Show plot\n",
        "plt.show()\n",
        "\n"
      ],
      "metadata": {
        "id": "_pCU2mIH-DAi"
      },
      "execution_count": null,
      "outputs": []
    },
    {
      "cell_type": "markdown",
      "source": [
        "### Task 6 — Show the figure\n",
        "\n"
      ],
      "metadata": {
        "id": "TBGXIzVV-E5u"
      }
    },
    {
      "cell_type": "code",
      "source": [
        "# 👉 # TODO: call plt.show() so the plot appears\n",
        "\n"
      ],
      "metadata": {
        "id": "ycvsNyqh-GRM"
      },
      "execution_count": null,
      "outputs": []
    }
  ]
}
