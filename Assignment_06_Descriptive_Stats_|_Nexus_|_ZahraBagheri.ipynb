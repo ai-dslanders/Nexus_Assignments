{
  "nbformat": 4,
  "nbformat_minor": 0,
  "metadata": {
    "colab": {
      "provenance": [],
      "include_colab_link": true
    },
    "kernelspec": {
      "name": "python3",
      "display_name": "Python 3"
    },
    "language_info": {
      "name": "python"
    }
  },
  "cells": [
    {
      "cell_type": "markdown",
      "metadata": {
        "id": "view-in-github",
        "colab_type": "text"
      },
      "source": [
        "<a href=\"https://colab.research.google.com/github/zahra-bagheri97/Nexus_Assignments/blob/edit-a0-6-zahrabagheri/Assignment_06_Descriptive_Stats_%7C_Nexus_%7C_ZahraBagheri.ipynb\" target=\"_parent\"><img src=\"https://colab.research.google.com/assets/colab-badge.svg\" alt=\"Open In Colab\"/></a>"
      ]
    },
    {
      "cell_type": "markdown",
      "source": [
        "# 📚 Assignment 06 — Descriptive Statistics\n",
        "\n",
        "## 📘 Exploring Descriptive Statistics with NumPy & SciPy\n",
        "This assignment guides you through generating random data, analyzing its statistical properties, and visualizing it using plots.\n"
      ],
      "metadata": {
        "id": "Txr_tIDhHcu2"
      }
    },
    {
      "cell_type": "code",
      "execution_count": null,
      "metadata": {
        "id": "x1gatSKSHYTm"
      },
      "outputs": [],
      "source": [
        "# 📦 Import Required Libraries\n",
        "import numpy as ......\n",
        "from ........ import stats\n",
        "import matplotlib........ as plt\n",
        "\n",
        "# 🎲 Step 1: Generate Random Integer List\n",
        "np.random......(42)  # For reproducibility\n",
        "data = np.........randint(20, 40, size=30)\n",
        "print(\"Generated Data:\", data)\n"
      ]
    },
    {
      "cell_type": "code",
      "source": [
        "import numpy as np\n",
        "from scipy import stats\n",
        "import matplotlib.pyplot as plt\n",
        "\n",
        "np.random.seed(42)\n",
        "data = np.random.randint(20, 40, size=30)\n",
        "print('generated data', data)"
      ],
      "metadata": {
        "id": "LVEYel5i6EXE",
        "colab": {
          "base_uri": "https://localhost:8080/"
        },
        "outputId": "29f9e7c2-8f96-4c1d-bff7-dc76e886189d"
      },
      "execution_count": null,
      "outputs": [
        {
          "output_type": "stream",
          "name": "stdout",
          "text": [
            "generated data [26 39 34 30 27 26 38 30 30 23 27 22 21 31 25 21 20 31 31 36 29 35 34 34\n",
            " 38 31 39 22 24 38]\n"
          ]
        }
      ]
    },
    {
      "cell_type": "markdown",
      "source": [
        "### 📊 Step 2: Central Tendency and Quantiles\n",
        "Let's compute basic statistics — mean, median, mode, and quantiles."
      ],
      "metadata": {
        "id": "cUfGpmVCHvR5"
      }
    },
    {
      "cell_type": "code",
      "source": [
        "# 📐 Central Tendency\n",
        "# mean\n",
        "mean_val = np.......(data)\n",
        "# median\n",
        "median_val = np......(data)\n",
        "# mode\n",
        "mode_val = ........mode(data, keepdims=True).mode[0]\n",
        "\n",
        "# 📏 Quantiles\n",
        "q1 = np.......(data, 0.25)\n",
        "q3 = .......quantile(data, 0.75)\n",
        "\n",
        "print(f\"Mean: {mean_val}\")\n",
        "print(f\"Median: {median_val}\")\n",
        "print(f\"Mode: {mode_val}\")\n",
        "print(f\"Q1 (25%): {q1}\")\n",
        "print(f\"Q3 (75%): {q3}\")\n"
      ],
      "metadata": {
        "id": "FkmPc2r7Htaz"
      },
      "execution_count": null,
      "outputs": []
    },
    {
      "cell_type": "code",
      "source": [
        "mean_val = np.mean(data)\n",
        "median_val = np.median (data)\n",
        "mode_val = stats.mode(data)\n",
        "q1 = np.quantile(data, 0.25)\n",
        "q3 = np.quantile(data, 0.75)\n",
        "\n",
        "print(f'mean: {mean_val}')\n",
        "print(f'median: {median_val}')\n",
        "print(f'mode: {mode_val}')\n",
        "print(f'Q1: (25%): {q1}')\n",
        "print(f'Q3: (75%): {q3}')"
      ],
      "metadata": {
        "colab": {
          "base_uri": "https://localhost:8080/"
        },
        "id": "nXH1rvBlwRKc",
        "outputId": "88990d3f-942f-48f2-ead1-46b797710741"
      },
      "execution_count": null,
      "outputs": [
        {
          "output_type": "stream",
          "name": "stdout",
          "text": [
            "mean: 29.733333333333334\n",
            "median: 30.0\n",
            "mode: ModeResult(mode=np.int64(31), count=np.int64(4))\n",
            "Q1: (25%): 25.25\n",
            "Q3: (75%): 34.0\n"
          ]
        }
      ]
    },
    {
      "cell_type": "markdown",
      "source": [
        "### 🧪 Step 3: Skewness and Kurtosis\n",
        "Skewness shows asymmetry, and kurtosis indicates the \"tailedness\" of the distribution."
      ],
      "metadata": {
        "id": "EBZ2KixtHztl"
      }
    },
    {
      "cell_type": "code",
      "source": [
        "# 📉 Skewness and Kurtosis\n",
        "skew_val = .........skew(data)\n",
        "kurtosis_val = .........kurtosis(data)\n",
        "\n",
        "print(f\"Skewness: {skew_val:.2f}\")\n",
        "print(f\"Kurtosis: {kurtosis_val:.2f}\")\n"
      ],
      "metadata": {
        "id": "XDwmqc3-H05I"
      },
      "execution_count": null,
      "outputs": []
    },
    {
      "cell_type": "code",
      "source": [
        "skew_val = stats.skew(data)\n",
        "kurtosis_val = stats.kurtosis(data)\n",
        "\n",
        "print(f'skewness: {skew_val:.2f}')\n",
        "print(f'kurtosis: {kurtosis_val:.2f}')"
      ],
      "metadata": {
        "colab": {
          "base_uri": "https://localhost:8080/"
        },
        "id": "TLZgzluWyTMy",
        "outputId": "aadce755-3dd5-4dc0-958a-896225ba3435"
      },
      "execution_count": null,
      "outputs": [
        {
          "output_type": "stream",
          "name": "stdout",
          "text": [
            "skewness: -0.00\n",
            "kurtosis: -1.14\n"
          ]
        }
      ]
    },
    {
      "cell_type": "markdown",
      "source": [
        "### 📈 Step 4: Visualization - Bar Chart and Boxplot\n",
        "Visualize the data to better understand its distribution and spread."
      ],
      "metadata": {
        "id": "FOPw0-dSH250"
      }
    },
    {
      "cell_type": "code",
      "source": [
        "# 📊 Bar Plot\n",
        "plt.figure(figsize=(12, 4))\n",
        "\n",
        "plt.subplot(1, 2, 1)\n",
        "# make a bar chart\n",
        "plt.........(range(len(data)), data)\n",
        "plt.title(\"Bar Plot of Random Data\")\n",
        "plt.xlabel(\"Index\")\n",
        "plt.ylabel(\"Value\")\n",
        "\n",
        "# 📦 Boxplot\n",
        "plt.subplot(1, 2, 2)\n",
        "# make a box plot\n",
        "plt.........(data, vert=False)\n",
        "plt.title(\"Boxplot of Random Data\")\n",
        "plt.xlabel(\"Value\")\n",
        "\n",
        "plt.tight_layout()\n",
        "plt.show()\n"
      ],
      "metadata": {
        "id": "Zfx5s6xLH1y8"
      },
      "execution_count": null,
      "outputs": []
    },
    {
      "cell_type": "code",
      "source": [
        "plt.figure(figsize=(12, 4))\n",
        "\n",
        "plt.subplot(1, 2, 1)\n",
        "\n",
        "plt.bar(range(len(data)), data)\n",
        "plt.title('Bar Plot of Random  Data')\n",
        "plt.xlabel('Index')\n",
        "plt.ylabel('Value')\n",
        "\n",
        "plt.subplot(1, 2, 2)\n",
        "\n",
        "plt.boxplot(data, vert=False)\n",
        "plt.title('Boxplot of Random Data')\n",
        "plt.xlabel('Value')\n",
        "\n",
        "plt.tight_layout()\n",
        "plt.show()"
      ],
      "metadata": {
        "colab": {
          "base_uri": "https://localhost:8080/",
          "height": 407
        },
        "id": "EOojrP2AzXIi",
        "outputId": "71f33552-3633-4bef-a2ea-6c66171a8c42"
      },
      "execution_count": null,
      "outputs": [
        {
          "output_type": "display_data",
          "data": {
            "text/plain": [
              "<Figure size 1200x400 with 2 Axes>"
            ],
            "image/png": "[encoded data removed]"
          },
          "metadata": {}
        }
      ]
    },
    {
      "cell_type": "code",
      "source": [],
      "metadata": {
        "id": "71I95kpb1AeZ"
      },
      "execution_count": null,
      "outputs": []
    }
  ]
}