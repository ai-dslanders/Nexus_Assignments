{
  "nbformat": 4,
  "nbformat_minor": 0,
  "metadata": {
    "colab": {
      "provenance": []
    },
    "kernelspec": {
      "name": "python3",
      "display_name": "Python 3"
    },
    "language_info": {
      "name": "python"
    }
  },
  "cells": [
    {
      "cell_type": "markdown",
      "source": [
        "# 📚 Assignment 1 — Python Fundamentals\n",
        "Welcome to your first hands-on practice! This set of four mini-projects walks you through the basics every Python (and ML) developer leans on daily:\n",
        "\n",
        "1. Variable types\n",
        "\n",
        "2. Core containers\n",
        "\n",
        "3. Functions\n",
        "\n",
        "4. Classes\n",
        "\n",
        "Each part begins with quick pointers, then gives you two bite-sized tasks to code. Replace every # TODO with working Python and run your script or notebook to check the result. Happy hacking! 😊"
      ],
      "metadata": {
        "id": "ZS5lje_18xC2"
      }
    },
    {
      "cell_type": "markdown",
      "source": [
        "## 1. Variable Types 🧮\n",
        "**Quick-start notes**\n",
        "\n",
        "* Primitive types: `int`, `float`, `str`, `bool`\n",
        "\n",
        "* Use `type(obj)` to inspect an object’s type.\n",
        "\n",
        "* Casting ↔ converting: `int(\"3\")`, `str(3.14)`, `bool(0)`, etc."
      ],
      "metadata": {
        "id": "u5vvtK-6840I"
      }
    },
    {
      "cell_type": "markdown",
      "source": [
        "### Task 1 — Celsius → Fahrenheit\n",
        "\n"
      ],
      "metadata": {
        "id": "UyNHtkGm9OgH"
      }
    },
    {
      "cell_type": "code",
      "execution_count": 5,
      "metadata": {
        "id": "lmaiboJe8E15",
        "colab": {
          "base_uri": "https://localhost:8080/"
        },
        "outputId": "3d6de144-9e14-489a-850d-147af3649616"
      },
      "outputs": [
        {
          "output_type": "stream",
          "name": "stdout",
          "text": [
            "please inter temperature:25\n",
            "<class 'str'>\n",
            "temperature farenheit:  77.00°F\n"
          ]
        }
      ],
      "source": [
        "# 👉 a Celsius temperature (as text), convert it to float,\n",
        "#    compute Fahrenheit (°F = °C * 9/5 + 32) and print a nicely formatted line.\n",
        "# TODO: your code here\n",
        "temperature = input(\"please inter temperature:\")\n",
        "print(type(temperature))\n",
        "temperature = float(temperature)\n",
        "farenheit = (temperature * 9/5 +32)\n",
        "print(\"temperature farenheit:  %.2f°F\" % farenheit)"
      ]
    },
    {
      "cell_type": "markdown",
      "source": [
        "### Task 2 — Tiny Calculator\n"
      ],
      "metadata": {
        "id": "BtsB8QKM9Xs_"
      }
    },
    {
      "cell_type": "code",
      "source": [
        "# 👉 Store two numbers of **different types** (one int, one float),\n",
        "#    then print their sum, difference, product, true division, and floor division.\n",
        "# TODO: your code here\n",
        "\n",
        "# 👉 Store two numbers of different types\n",
        "a = 7       # int\n",
        "b = 2.5     # float\n",
        "\n",
        "sum_result = a + b\n",
        "diff_result = a - b\n",
        "product_result = a * b\n",
        "true_div_result = a / b\n",
        "floor_div_result = a // b\n",
        "\n",
        "print(\"Sum:\", sum_result)\n",
        "print(\"Difference:\", diff_result)\n",
        "print(\"Product:\", product_result)\n",
        "print(\"True Division:\", true_div_result)\n",
        "print(\"Floor Division:\", floor_div_result)\n",
        "\n"
      ],
      "metadata": {
        "id": "DSR8aS-F9Z10"
      },
      "execution_count": null,
      "outputs": []
    },
    {
      "cell_type": "markdown",
      "source": [
        "## 2. Containers 📦 (list, tuple, set, dict)\n",
        "**Quick-start notes**\n",
        "\n",
        "| Container | Mutable? | Ordered?                      | Typical use                       |\n",
        "| --------- | -------- | ----------------------------- | --------------------------------- |\n",
        "| `list`    | ✔        | ✔                             | Growth, indexing, slicing         |\n",
        "| `tuple`   | ✖        | ✔                             | Fixed-size records, hashable keys |\n",
        "| `set`     | ✔        | ✖                             | Deduplication, membership tests   |\n",
        "| `dict`    | ✔        | ✖ (3.7 + preserves insertion) | Key → value look-ups              |\n"
      ],
      "metadata": {
        "id": "8JjHX4wy9dPz"
      }
    },
    {
      "cell_type": "markdown",
      "source": [
        "### Task 1 — Grocery Basket\n",
        "\n"
      ],
      "metadata": {
        "id": "wRyJyhbt9uUr"
      }
    },
    {
      "cell_type": "code",
      "source": [
        "# Start with an empty shopping list (list).\n",
        "# 1. Append at least 4 items supplied in one line of user input (comma-separated).\n",
        "# 2. Convert the list to a *tuple* called immutable_basket.\n",
        "# 3. Print the third item using tuple indexing.\n",
        "# TODO: your code here\n",
        "\n",
        "shopping_list = []\n",
        "user_input = input(\"Enter at least 4 grocery items (comma-separated): \")\n",
        "shopping_list = user_input.split(\",\")\n",
        "shopping_list = [item.strip() for item in shopping_list]\n",
        "immutable_basket = tuple(shopping_list)\n",
        "print(\"The third item in your basket is:\", immutable_basket[2])"
      ],
      "metadata": {
        "id": "1J4jcLct9yVO",
        "colab": {
          "base_uri": "https://localhost:8080/"
        },
        "outputId": "5b40f06f-0504-4774-da08-f06c13ee3074"
      },
      "execution_count": 7,
      "outputs": [
        {
          "output_type": "stream",
          "name": "stdout",
          "text": [
            "Enter at least 4 grocery items (comma-separated): moble , apple , cat , dog\n",
            "The third item in your basket is: cat\n"
          ]
        }
      ]
    },
    {
      "cell_type": "markdown",
      "source": [
        "### Task 2 — Word Stats"
      ],
      "metadata": {
        "id": "byKd8SFK9w2y"
      }
    },
    {
      "cell_type": "code",
      "source": [
        "sample = \"to be or not to be that is the question\"\n",
        "\n",
        "# 1. Build a set `unique_words` containing every distinct word.\n",
        "# 2. Build a dict `word_counts` mapping each word to the number of times it appears.\n",
        "#    (Hint: .split() + a simple loop)\n",
        "# 3. Print the two structures and explain (in a comment) their main difference.\n",
        "# TODO: your code here\n",
        "\n",
        "unique_words = set(sample.split())\n",
        "word_counts = {}\n",
        "for word in sample.split():\n",
        "    if word in word_counts:\n",
        "        word_counts[word] += 1\n",
        "    else:\n",
        "        word_counts[word] = 1\n",
        "\n",
        "print(\"Unique words:\", unique_words)\n",
        "print(\"Word counts:\", word_counts)\n"
      ],
      "metadata": {
        "id": "4rLrxkPj90p3",
        "colab": {
          "base_uri": "https://localhost:8080/"
        },
        "outputId": "6b001b5b-2bd2-4cb6-b700-53320609a102"
      },
      "execution_count": 8,
      "outputs": [
        {
          "output_type": "stream",
          "name": "stdout",
          "text": [
            "Unique words: {'be', 'not', 'to', 'question', 'or', 'that', 'the', 'is'}\n",
            "Word counts: {'to': 2, 'be': 2, 'or': 1, 'not': 1, 'that': 1, 'is': 1, 'the': 1, 'question': 1}\n"
          ]
        }
      ]
    },
    {
      "cell_type": "markdown",
      "source": [
        "## 3. Functions 🔧\n",
        "**Quick-start notes**\n",
        "\n",
        "* Define with `def`, return with `return`.\n",
        "\n",
        "* Parameters can have default values.\n",
        "\n",
        "* Docstrings (`\"\"\" … \"\"\"`) document behaviour."
      ],
      "metadata": {
        "id": "gbGMbtLf94M4"
      }
    },
    {
      "cell_type": "markdown",
      "source": [
        "### Task 1 — Prime Tester"
      ],
      "metadata": {
        "id": "QOsToPh2-AnZ"
      }
    },
    {
      "cell_type": "code",
      "source": [
        "def is_prime(n: int) -> bool:\n",
        "    \"\"\"\n",
        "    Return True if n is a prime number, else False.\n",
        "    0 and 1 are *not* prime.\n",
        "    \"\"\"\n",
        "    if n < 2:\n",
        "        return False\n",
        "\n",
        "    for i in range(2, n):\n",
        "        if n % i == 0:\n",
        "            return False\n",
        "    return True\n",
        "\n",
        "\n",
        "# Quick self-check\n",
        "print([x for x in range(10) if is_prime(x)])   # Expected: [2, 3, 5, 7]\n"
      ],
      "metadata": {
        "id": "_pCU2mIH-DAi",
        "colab": {
          "base_uri": "https://localhost:8080/"
        },
        "outputId": "1828c5f2-7a83-40cd-e0f6-0068d002b369"
      },
      "execution_count": 10,
      "outputs": [
        {
          "output_type": "stream",
          "name": "stdout",
          "text": [
            "[0, 1, 2, 3, 5, 7]\n"
          ]
        }
      ]
    },
    {
      "cell_type": "markdown",
      "source": [
        "### Task 2 — Repeater Greeter"
      ],
      "metadata": {
        "id": "TBGXIzVV-E5u"
      }
    },
    {
      "cell_type": "code",
      "source": [
        "def greet(name: str, times: int = 1) -> None:\n",
        "    \"\"\"Print `name`, capitalised, exactly `times` times on one line.\"\"\"\n",
        "    capitalized_name = name.capitalize()\n",
        "    print((capitalized_name + \" \") * times)\n",
        "\n",
        "greet(\"alice\")          # Alice\n",
        "greet(\"bob\", times=3)   # Bob Bob Bob\n"
      ],
      "metadata": {
        "id": "ycvsNyqh-GRM",
        "colab": {
          "base_uri": "https://localhost:8080/"
        },
        "outputId": "d53a78f5-996a-4e81-a9f7-d845f7825a28"
      },
      "execution_count": 11,
      "outputs": [
        {
          "output_type": "stream",
          "name": "stdout",
          "text": [
            "Alice \n",
            "Bob Bob Bob \n"
          ]
        }
      ]
    },
    {
      "cell_type": "markdown",
      "source": [
        "## 4. Classes 🏗️\n",
        "**Quick-start notes**\n",
        "\n",
        "* Create with class Name:\n",
        "\n",
        "* Special method __init__ runs on construction.\n",
        "\n",
        "* self refers to the instance; attributes live on self."
      ],
      "metadata": {
        "id": "y7K-GaBC-ImE"
      }
    },
    {
      "cell_type": "markdown",
      "source": [
        "### Task 1 — Simple Counter"
      ],
      "metadata": {
        "id": "NgKjsy8A-N3l"
      }
    },
    {
      "cell_type": "code",
      "source": [
        "# TODO:\n",
        "# 1. In __init__, store an internal count variable starting at 0.\n",
        "# 2. Method increment(step: int = 1) adds `step` to the count.\n",
        "# 3. Method value() returns the current count.\n",
        "class Counter:\n",
        "    def __init__(self) -> None:\n",
        "        self.count = 0  # Internal variable for counting\n",
        "\n",
        "    def increment(self, step: int = 1):\n",
        "        self.count += step  # Increase the counter by 'step'\n",
        "\n",
        "    def value(self):\n",
        "        return self.count  # Return the current count\n",
        "\n",
        "\n",
        "c = Counter()\n",
        "for _ in range(5):\n",
        "    c.increment()  # Increment by 1 (default) five times\n",
        "\n",
        "print(c.value())  # Output should be 5\n"
      ],
      "metadata": {
        "colab": {
          "base_uri": "https://localhost:8080/"
        },
        "id": "S21KuMNMW4VT",
        "outputId": "bef9aa42-3ddf-4993-ebd0-9886aace7ef9"
      },
      "execution_count": 10,
      "outputs": [
        {
          "output_type": "stream",
          "name": "stdout",
          "text": [
            "5\n"
          ]
        }
      ]
    },
    {
      "cell_type": "markdown",
      "source": [
        "### Task 2 — 2-D Point with Distance"
      ],
      "metadata": {
        "id": "U99aupan-Q8u"
      }
    },
    {
      "cell_type": "code",
      "source": [
        "import math\n",
        "\n",
        "class Point:\n",
        "    \"\"\"\n",
        "    A 2-D point supporting distance calculation.\n",
        "    Usage:\n",
        "        p = Point(3, 4)\n",
        "        q = Point(0, 0)\n",
        "        print(p.distance_to(q))  # 5.0\n",
        "    \"\"\"\n",
        "    # TODO:\n",
        "    # 1. Store x and y as attributes.\n",
        "    # 2. Implement distance_to(other) using the Euclidean formula.\n",
        "    def __init__(self , a , b) -> None:\n",
        "        self.x = a\n",
        "        self.y = b\n",
        "\n",
        "    def distance_to(self, other):\n",
        "        dx = self.x - other.x\n",
        "        dy = self.y - other.y\n",
        "        return math.hypot(dx, dy)  # Same as sqrt(dx**2 + dy**2)\n",
        "\n",
        "\n",
        "\n",
        "# Smoke test\n",
        "p, q = Point(3, 4), Point(0, 0)\n",
        "assert round(p.distance_to(q), 1) == 5.0\n"
      ],
      "metadata": {
        "id": "OVh3GEzH-T0w"
      },
      "execution_count": 11,
      "outputs": []
    }
  ]
}