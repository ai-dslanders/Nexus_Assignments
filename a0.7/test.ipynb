{
 "cells": [
  {
   "cell_type": "markdown",
   "id": "a66ada93",
   "metadata": {},
   "source": [
    "# 1️⃣ Setup and Basics\n",
    "Task:\n",
    "\n",
    "Install PyTorch and check its version.\n",
    "\n",
    "Create a 2D tensor and print it."
   ]
  },
  {
   "cell_type": "code",
   "execution_count": 6,
   "id": "cf0cab8e",
   "metadata": {},
   "outputs": [
    {
     "name": "stdout",
     "output_type": "stream",
     "text": [
      "2.7.1+cu128\n",
      "x : tensor([[1., 2.],\n",
      "        [3., 4.]])\n"
     ]
    }
   ],
   "source": [
    "import torch\n",
    "\n",
    "print(torch.__version__)\n",
    "x = torch.tensor([[1. , 2.] , [3. , 4.]])\n",
    "print(f\"x : {x}\")"
   ]
  },
  {
   "cell_type": "code",
   "execution_count": 7,
   "id": "9fe4206e",
   "metadata": {},
   "outputs": [
    {
     "name": "stdout",
     "output_type": "stream",
     "text": [
      "y : tensor([[5., 6.],\n",
      "        [7., 8.]])\n"
     ]
    }
   ],
   "source": [
    "y = torch.tensor([[5. , 6.] , [7. , 8.]])\n",
    "print(f\"y : {y}\")"
   ]
  },
  {
   "cell_type": "markdown",
   "id": "fcc88da3",
   "metadata": {},
   "source": [
    "# 2️⃣ Tensor Operations 🧮\n",
    "Task: Perform addition and matrix multiplication."
   ]
  },
  {
   "cell_type": "code",
   "execution_count": 8,
   "id": "805cf28e",
   "metadata": {},
   "outputs": [
    {
     "name": "stdout",
     "output_type": "stream",
     "text": [
      "Addition:\n",
      " tensor([[ 6.,  8.],\n",
      "        [10., 12.]])\n",
      "Matrix Multiplication:\n",
      " tensor([[19., 22.],\n",
      "        [43., 50.]])\n"
     ]
    }
   ],
   "source": [
    "z = x + y\n",
    "print(\"Addition:\\n\", z)\n",
    "\n",
    "mat_mul = x @ y\n",
    "print(\"Matrix Multiplication:\\n\", mat_mul)\n"
   ]
  },
  {
   "cell_type": "code",
   "execution_count": 9,
   "id": "19850244",
   "metadata": {},
   "outputs": [
    {
     "name": "stdout",
     "output_type": "stream",
     "text": [
      "multiplication : tensor([[ 5., 12.],\n",
      "        [21., 32.]])\n"
     ]
    }
   ],
   "source": [
    "multiplication = x * y\n",
    "print(f\"multiplication : {multiplication}\")"
   ]
  },
  {
   "cell_type": "markdown",
   "id": "f6e6f810",
   "metadata": {},
   "source": [
    "# 3️⃣ Autograd and Gradients ⚙️\n",
    "Task: Enable gradient tracking and compute derivatives."
   ]
  },
  {
   "cell_type": "code",
   "execution_count": 11,
   "id": "99f63329",
   "metadata": {},
   "outputs": [
    {
     "name": "stdout",
     "output_type": "stream",
     "text": [
      "Gradient of b wrt a: tensor(8.)\n"
     ]
    }
   ],
   "source": [
    "a = torch.tensor(3.0, requires_grad=True)\n",
    "b = (a ** 2) + 2 * a + 1\n",
    "b.backward()\n",
    "print(\"Gradient of b wrt a:\", a.grad)"
   ]
  },
  {
   "cell_type": "code",
   "execution_count": 12,
   "id": "fa92b71a",
   "metadata": {},
   "outputs": [
    {
     "name": "stdout",
     "output_type": "stream",
     "text": [
      "Gradient of q wrt p: tensor(16.)\n"
     ]
    }
   ],
   "source": [
    "p = torch.tensor(2.0 , requires_grad=True)\n",
    "q = p **3 + 4 * p\n",
    "q.backward()\n",
    "print(\"Gradient of q wrt p:\", p.grad)"
   ]
  },
  {
   "cell_type": "markdown",
   "id": "eb3f11fb",
   "metadata": {},
   "source": [
    "# 4️⃣ Random Tensors 🎲\n",
    "Task: Generate a random tensor of shape (2, 3) and find its max and min."
   ]
  },
  {
   "cell_type": "code",
   "execution_count": 14,
   "id": "1e555ce1",
   "metadata": {},
   "outputs": [
    {
     "name": "stdout",
     "output_type": "stream",
     "text": [
      "Random Tensor:\n",
      " tensor([[0.2083, 0.9351, 0.5560],\n",
      "        [0.5134, 0.2621, 0.7436]])\n",
      "Max: tensor(0.9351)\n",
      "Min: tensor(0.2083)\n"
     ]
    }
   ],
   "source": [
    "rand_tensor = torch.rand((2, 3))\n",
    "print(\"Random Tensor:\\n\", rand_tensor)\n",
    "print(\"Max:\", torch.max(rand_tensor))\n",
    "print(\"Min:\", torch.min(rand_tensor))\n"
   ]
  },
  {
   "cell_type": "markdown",
   "id": "0dae2a7f",
   "metadata": {},
   "source": [
    "# 5️⃣ Mini Training Loop 🤖\n",
    "Task: Train a simple linear model y = wx + b using gradient descent."
   ]
  },
  {
   "cell_type": "code",
   "execution_count": 15,
   "id": "a2577826",
   "metadata": {},
   "outputs": [
    {
     "name": "stdout",
     "output_type": "stream",
     "text": [
      "Trained weight: 1.9651366472244263\n",
      "Trained bias: 0.07924753427505493\n"
     ]
    }
   ],
   "source": [
    "# Data\n",
    "x_train = torch.tensor([[1.0], [2.0], [3.0]])\n",
    "y_train = torch.tensor([[2.0], [4.0], [6.0]])\n",
    "\n",
    "# Model\n",
    "w = torch.randn(1, requires_grad=True)\n",
    "b = torch.zeros(1, requires_grad=True)\n",
    "\n",
    "# Training\n",
    "learning_rate = 0.01\n",
    "for epoch in range(100):\n",
    "    y_pred = w * x_train + b\n",
    "    loss = torch.mean((y_pred - y_train) ** 2)\n",
    "    loss.backward()\n",
    "\n",
    "    # Update\n",
    "    with torch.no_grad():\n",
    "        w -= learning_rate * w.grad\n",
    "        b -= learning_rate * b.grad\n",
    "        w.grad.zero_()\n",
    "        b.grad.zero_()\n",
    "\n",
    "print(\"Trained weight:\", w.item())\n",
    "print(\"Trained bias:\", b.item())\n"
   ]
  },
  {
   "cell_type": "markdown",
   "id": "323ea272",
   "metadata": {},
   "source": [
    "# 6️⃣ Bonus ⚡\n",
    "Convert a PyTorch tensor to a NumPy array.\n",
    "\n",
    "Convert it back to a PyTorch tensor."
   ]
  },
  {
   "cell_type": "code",
   "execution_count": 20,
   "id": "1d75298b",
   "metadata": {},
   "outputs": [
    {
     "name": "stdout",
     "output_type": "stream",
     "text": [
      "Sample 1 : tensor([1., 2., 3.])\n",
      "---------------\n",
      "numpy_arr : [1. 2. 3.]\n",
      "Type of numpy_arr ===> <class 'numpy.ndarray'>\n",
      "---------------\n",
      "pytorch_tensor : tensor([1., 2., 3.])\n",
      "Type of pytorch_tensor ===> <class 'torch.Tensor'>\n"
     ]
    }
   ],
   "source": [
    "sample_1 = torch.tensor([1. , 2. , 3.])\n",
    "numpy_arr = sample_1.numpy()\n",
    "pytorch_tensor = torch.from_numpy(numpy_arr)\n",
    "\n",
    "print(f\"Sample 1 : {sample_1}\")\n",
    "print(\"---------------\")\n",
    "print(f\"numpy_arr : {numpy_arr}\")\n",
    "print(f\"Type of numpy_arr ===> {type(numpy_arr)}\")\n",
    "print(\"---------------\")\n",
    "print(f\"pytorch_tensor : {pytorch_tensor}\")\n",
    "print(f\"Type of pytorch_tensor ===> {type(pytorch_tensor)}\")"
   ]
  }
 ],
 "metadata": {
  "kernelspec": {
   "display_name": ".venv",
   "language": "python",
   "name": "python3"
  },
  "language_info": {
   "codemirror_mode": {
    "name": "ipython",
    "version": 3
   },
   "file_extension": ".py",
   "mimetype": "text/x-python",
   "name": "python",
   "nbconvert_exporter": "python",
   "pygments_lexer": "ipython3",
   "version": "3.12.4"
  }
 },
 "nbformat": 4,
 "nbformat_minor": 5
}
