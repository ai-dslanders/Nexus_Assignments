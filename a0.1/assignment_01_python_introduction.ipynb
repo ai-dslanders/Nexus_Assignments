{
 "nbformat": 4,
 "nbformat_minor": 0,
 "metadata": {
  "colab": {
   "provenance": []
  },
  "kernelspec": {
   "name": "python3",
   "display_name": "Python 3"
  },
  "language_info": {
   "name": "python"
  }
 },
 "cells": [
  {
   "metadata": {},
   "cell_type": "markdown",
   "source": ""
  },
  {
   "metadata": {},
   "cell_type": "markdown",
   "source": [
    "# 📚 Assignment 1 — Python Fundamentals\n",
    "Welcome to your first hands-on practice! This set of four mini-projects walks you through the basics every Python (and ML) developer leans on daily:\n",
    "\n",
    "1. Variable types\n",
    "\n",
    "2. Core containers\n",
    "\n",
    "3. Functions\n",
    "\n",
    "4. Classes\n",
    "\n",
    "Each part begins with quick pointers, then gives you two bite-sized tasks to code. Replace every # TODO with working Python and run your script or notebook to check the result. Happy hacking! 😊"
   ]
  },
  {
   "metadata": {},
   "cell_type": "markdown",
   "source": [
    "## 1. Variable Types 🧮\n",
    "**Quick-start notes**\n",
    "\n",
    "* Primitive types: `int`, `float`, `str`, `bool`\n",
    "\n",
    "* Use `type(obj)` to inspect an object’s type.\n",
    "\n",
    "* Casting ↔ converting: `int(\"3\")`, `str(3.14)`, `bool(0)`, etc."
   ]
  },
  {
   "metadata": {},
   "cell_type": "markdown",
   "source": [
    "### Task 1 — Celsius → Fahrenheit\n",
    "\n"
   ]
  },
  {
   "metadata": {
    "id": "lmaiboJe8E15",
    "ExecuteTime": {
     "end_time": "2025-06-05T00:18:40.031717Z",
     "start_time": "2025-06-05T00:18:36.812882Z"
    }
   },
   "cell_type": "code",
   "outputs": [
    {
     "name": "stdout",
     "output_type": "stream",
     "text": [
      "\n",
      "Final Temperature:\n",
      "Celsius    | Fahrenheit  \n",
      "-------------------------\n",
      "567.00     | 1052.60     \n"
     ]
    }
   ],
   "execution_count": 40,
   "source": [
    "# 👉 a Celsius temperature (as text), convert it to float,\n",
    "#    compute Fahrenheit (°F = °C * 9/5 + 32) and print a nicely formatted line.\n",
    "# TODO: your code here\n",
    "\n",
    "c_temperature = None\n",
    "\n",
    "try:\n",
    "    while True:\n",
    "        user_input = input('Please enter temperature (Celsius): ')\n",
    "        c_temperature = float(user_input)\n",
    "\n",
    "        if c_temperature is not None:\n",
    "            break\n",
    "\n",
    "except ValueError:\n",
    "    print('❌ Please enter a valid number.')\n",
    "except (KeyboardInterrupt, EOFError):\n",
    "    print('\\n⚠️ Input cancelled by user.')\n",
    "\n",
    "\n",
    "if c_temperature is not None:\n",
    "    f_temperature = c_temperature * 9 / 5 + 32\n",
    "    print(\"\\nFinal Temperature:\")\n",
    "    print(f\"{'Celsius':<10} | {'Fahrenheit':<12}\")\n",
    "    print(\"-\" * 25)\n",
    "    print(f\"{c_temperature:<10.2f} | {f_temperature:<12.2f}\")"
   ]
  },
  {
   "metadata": {},
   "cell_type": "markdown",
   "source": "### Task 2 — Tiny Calculator\n"
  },
  {
   "metadata": {
    "id": "DSR8aS-F9Z10",
    "ExecuteTime": {
     "end_time": "2025-06-04T23:26:59.014357Z",
     "start_time": "2025-06-04T23:26:46.976787Z"
    }
   },
   "cell_type": "code",
   "outputs": [
    {
     "name": "stdout",
     "output_type": "stream",
     "text": [
      "\n",
      "Arithmetic Operations:\n",
      "Operation            | Result    \n",
      "-----------------------------------\n",
      "Sum                  | 12.50     \n",
      "Difference           | 7.50      \n",
      "Product              | 25.00     \n",
      "True Division        | 4.00      \n",
      "Floor Division       | 4.00      \n"
     ]
    }
   ],
   "execution_count": 16,
   "source": [
    "# 👉 Store two numbers of **different types** (one int, one float),\n",
    "#    then print their sum, difference, product, true division, and floor division.\n",
    "# TODO: your code here\n",
    "num_int = None\n",
    "num_float = None\n",
    "\n",
    "try:\n",
    "    while True:\n",
    "        int_input = None\n",
    "        if num_int is None:\n",
    "            try:\n",
    "                int_input = input('Please enter integer number: ')\n",
    "                num_int = int(int_input)\n",
    "            except ValueError:\n",
    "                print(f\"❌ '{int_input}' is not a valid integer number.\")\n",
    "                int_input = None\n",
    "\n",
    "        float_input = None\n",
    "        if num_float is None:\n",
    "            try:\n",
    "                float_input = input('Please enter float number: ')\n",
    "                num_float = float(float_input)\n",
    "            except ValueError:\n",
    "                print(f\"❌ '{float_input}' is not a valid float number.\")\n",
    "                int_input = None\n",
    "\n",
    "        if num_float is not None and num_int is not None:\n",
    "            break\n",
    "\n",
    "except (KeyboardInterrupt, EOFError):\n",
    "    print('\\n⚠️ Input cancelled by user.')\n",
    "\n",
    "if num_float is not None and num_int is not None:\n",
    "    sum_result = num_int + num_float\n",
    "    diff_result = num_int - num_float\n",
    "    prod_result = num_int * num_float\n",
    "    true_div_result = num_int / num_float\n",
    "    floor_div_result = num_int // num_float\n",
    "\n",
    "    print(\"\\nArithmetic Operations:\")\n",
    "    print(f\"{'Operation':<20} | {'Result':<10}\")\n",
    "    print(\"-\" * 35)\n",
    "    print(f\"{'Sum':<20} | {sum_result:<10.2f}\")\n",
    "    print(f\"{'Difference':<20} | {diff_result:<10.2f}\")\n",
    "    print(f\"{'Product':<20} | {prod_result:<10.2f}\")\n",
    "    print(f\"{'True Division':<20} | {true_div_result:<10.2f}\")\n",
    "    print(f\"{'Floor Division':<20} | {floor_div_result:<10.2f}\")\n"
   ]
  },
  {
   "metadata": {},
   "cell_type": "markdown",
   "source": [
    "## 2. Containers 📦 (list, tuple, set, dict)\n",
    "**Quick-start notes**\n",
    "\n",
    "| Container | Mutable? | Ordered?                      | Typical use                       |\n",
    "| --------- | -------- | ----------------------------- | --------------------------------- |\n",
    "| `list`    | ✔        | ✔                             | Growth, indexing, slicing         |\n",
    "| `tuple`   | ✖        | ✔                             | Fixed-size records, hashable keys |\n",
    "| `set`     | ✔        | ✖                             | Deduplication, membership tests   |\n",
    "| `dict`    | ✔        | ✖ (3.7 + preserves insertion) | Key → value look-ups              |\n"
   ]
  },
  {
   "metadata": {},
   "cell_type": "markdown",
   "source": [
    "### Task 1 — Grocery Basket\n",
    "\n"
   ]
  },
  {
   "metadata": {
    "id": "1J4jcLct9yVO",
    "ExecuteTime": {
     "end_time": "2025-06-04T23:50:33.677641Z",
     "start_time": "2025-06-04T23:50:32.253503Z"
    }
   },
   "cell_type": "code",
   "outputs": [
    {
     "name": "stdout",
     "output_type": "stream",
     "text": [
      "❌ Shopping list is empty.\n"
     ]
    }
   ],
   "execution_count": 27,
   "source": [
    "# Start with an empty shopping list (list).\n",
    "# 1. Append at least 4 items supplied in one line of user input (comma-separated).\n",
    "# 2. Convert the list to a *tuple* called immutable_basket.\n",
    "# 3. Print the third item using tuple indexing.\n",
    "# TODO: your code here\n",
    "\n",
    "# Step 1: Start with an empty shopping list\n",
    "user_shopping_list = []\n",
    "\n",
    "try:\n",
    "    # Get comma-separated input from the user\n",
    "    user_input = input('Enter at least 4 shopping items: (separated by commas): ')\n",
    "    # Split input into items, strip spaces, and append to the shopping list\n",
    "    items = [item.strip() for item in user_input.split(',') if item.strip()]\n",
    "    user_shopping_list.extend(items)\n",
    "\n",
    "    # Check user shopping list len\n",
    "    if len(user_shopping_list) == 0:\n",
    "        print('❌ Shopping list is empty.')\n",
    "    elif len(user_shopping_list) < 4:\n",
    "        print(\"❌ You need to enter at least 3 items.\")\n",
    "\n",
    "\n",
    "except (KeyboardInterrupt, EOFError):\n",
    "    print('\\n⚠️ Input cancelled by user.')\n",
    "\n",
    "if len(user_shopping_list) >= 4:\n",
    "    # Step 2: Convert the list to a tuple\n",
    "    immutable_basket = tuple(user_shopping_list)\n",
    "    # Step 3: Print the third item using tuple indexing\n",
    "    print(f\"The third item in your basket is: {immutable_basket[2]}\")\n"
   ]
  },
  {
   "metadata": {},
   "cell_type": "markdown",
   "source": "### Task 2 — Word Stats"
  },
  {
   "metadata": {
    "id": "4rLrxkPj90p3",
    "ExecuteTime": {
     "end_time": "2025-06-04T23:55:02.484586Z",
     "start_time": "2025-06-04T23:55:02.477602Z"
    }
   },
   "cell_type": "code",
   "outputs": [
    {
     "name": "stdout",
     "output_type": "stream",
     "text": [
      "Unique words (set):\n",
      "{'that', 'question', 'the', 'or', 'not', 'is', 'be', 'to'}\n",
      "\n",
      "Word counts (dict):\n",
      "{'to': 2, 'be': 2, 'or': 1, 'not': 1, 'that': 1, 'is': 1, 'the': 1, 'question': 1}\n"
     ]
    }
   ],
   "execution_count": 28,
   "source": [
    "sample = \"to be or not to be that is the question\"\n",
    "\n",
    "# 1. Build a set `unique_words` containing every distinct word.\n",
    "# 2. Build a dict `word_counts` mapping each word to the number of times it appears.\n",
    "#    (Hint: .split() + a simple loop)\n",
    "# 3. Print the two structures and explain (in a comment) their main difference.\n",
    "# TODO: your code here\n",
    "\n",
    "# 1. Build a set of unique words\n",
    "unique_words = set(sample.split())\n",
    "\n",
    "# 2. Build a dictionary with word counts\n",
    "word_counts = {}\n",
    "for word in sample.split():\n",
    "    word_counts[word] = word_counts.get(word, 0) + 1\n",
    "\n",
    "# 3. Print both structures\n",
    "print(\"Unique words (set):\")\n",
    "print(unique_words)\n",
    "\n",
    "print(\"\\nWord counts (dict):\")\n",
    "print(word_counts)\n",
    "\n",
    "# Explanation:\n",
    "# A set stores each distinct word only once and is unordered.\n",
    "# A dictionary maps each word to the number of times it appears — it keeps key-value pairs."
   ]
  },
  {
   "metadata": {},
   "cell_type": "markdown",
   "source": [
    "## 3. Functions 🔧\n",
    "**Quick-start notes**\n",
    "\n",
    "* Define with `def`, return with `return`.\n",
    "\n",
    "* Parameters can have default values.\n",
    "\n",
    "* Docstrings (`\"\"\" … \"\"\"`) document behaviour."
   ]
  },
  {
   "metadata": {},
   "cell_type": "markdown",
   "source": "### Task 1 — Prime Tester"
  },
  {
   "metadata": {
    "id": "_pCU2mIH-DAi",
    "ExecuteTime": {
     "end_time": "2025-06-04T23:58:26.933041Z",
     "start_time": "2025-06-04T23:58:26.926241Z"
    }
   },
   "cell_type": "code",
   "outputs": [
    {
     "name": "stdout",
     "output_type": "stream",
     "text": [
      "[2, 3, 5, 7]\n"
     ]
    }
   ],
   "execution_count": 30,
   "source": [
    "def is_prime(n: int) -> bool:\n",
    "    \"\"\"\n",
    "    Return True if n is a prime number, else False.\n",
    "    0 and 1 are *not* prime.\n",
    "    \"\"\"\n",
    "    # TODO: replace pass with your implementation\n",
    "    if n < 2:\n",
    "        return False\n",
    "    if n == 2:\n",
    "        return True\n",
    "    if n % 2 == 0:\n",
    "        return False\n",
    "    for i in range(3, int(n ** 0.5) + 1, 2):\n",
    "        if n % i == 0:\n",
    "            return False\n",
    "    return True\n",
    "\n",
    "\n",
    "# Quick self-check\n",
    "print([x for x in range(10) if is_prime(x)])   # Expected: [2, 3, 5, 7]\n"
   ]
  },
  {
   "metadata": {},
   "cell_type": "markdown",
   "source": "### Task 2 — Repeater Greeter"
  },
  {
   "metadata": {
    "id": "ycvsNyqh-GRM",
    "ExecuteTime": {
     "end_time": "2025-06-05T00:01:19.337944Z",
     "start_time": "2025-06-05T00:01:19.331045Z"
    }
   },
   "cell_type": "code",
   "outputs": [
    {
     "name": "stdout",
     "output_type": "stream",
     "text": [
      "Alice \n",
      "Bob Bob Bob \n"
     ]
    }
   ],
   "execution_count": 31,
   "source": [
    "def greet(name: str, times: int = 1) -> None:\n",
    "    \"\"\"Print `name`, capitalised, exactly `times` times on one line.\"\"\"\n",
    "    # TODO: your code here\n",
    "    print(f\"{name.capitalize()} \" * times)\n",
    "\n",
    "greet(\"alice\")          # Alice\n",
    "greet(\"bob\", times=3)   # Bob Bob Bob\n"
   ]
  },
  {
   "metadata": {},
   "cell_type": "markdown",
   "source": [
    "## 4. Classes 🏗️\n",
    "**Quick-start notes**\n",
    "\n",
    "* Create with class Name:\n",
    "\n",
    "* Special method __init__ runs on construction.\n",
    "\n",
    "* self refers to the instance; attributes live on self."
   ]
  },
  {
   "metadata": {},
   "cell_type": "markdown",
   "source": "### Task 1 — Simple Counter"
  },
  {
   "metadata": {
    "id": "dPFvr_fe-OPR",
    "ExecuteTime": {
     "end_time": "2025-06-05T00:05:08.635083Z",
     "start_time": "2025-06-05T00:05:08.627492Z"
    }
   },
   "cell_type": "code",
   "outputs": [
    {
     "name": "stdout",
     "output_type": "stream",
     "text": [
      "5\n"
     ]
    }
   ],
   "execution_count": 32,
   "source": [
    "class Counter:\n",
    "    \"\"\"Counts how many times `increment` is called.\"\"\"\n",
    "    # TODO:\n",
    "    # 1. In __init__, store an internal count variable starting at 0.\n",
    "    # 2. Method increment(step: int = 1) adds `step` to the count.\n",
    "    # 3. Method value() returns the current count.\n",
    "    def __init__(self,) -> None:\n",
    "        self.count = 0\n",
    "\n",
    "    def increment(self) -> None:\n",
    "        self.count += 1\n",
    "\n",
    "    def value(self) -> int:\n",
    "        return self.count\n",
    "\n",
    "\n",
    "\n",
    "c = Counter()\n",
    "for _ in range(5):\n",
    "    c.increment()\n",
    "print(c.value())   # Expected: 5\n"
   ]
  },
  {
   "metadata": {},
   "cell_type": "markdown",
   "source": "### Task 2 — 2-D Point with Distance"
  },
  {
   "metadata": {
    "id": "OVh3GEzH-T0w",
    "ExecuteTime": {
     "end_time": "2025-06-05T00:17:16.088107Z",
     "start_time": "2025-06-05T00:17:16.081492Z"
    }
   },
   "cell_type": "code",
   "outputs": [
    {
     "name": "stdout",
     "output_type": "stream",
     "text": [
      "5.0\n"
     ]
    }
   ],
   "execution_count": 38,
   "source": [
    "import math\n",
    "\n",
    "class Point:\n",
    "    \"\"\"\n",
    "    A 2-D point supporting distance calculation.\n",
    "    Usage:\n",
    "        p = Point(3, 4)\n",
    "        q = Point(0, 0)\n",
    "        print(p.distance_to(q))  # 5.0\n",
    "    \"\"\"\n",
    "    # TODO:\n",
    "    # 1. Store x and y as attributes.\n",
    "    # 2. Implement distance_to(other) using the Euclidean formula.\n",
    "    def __init__(self,x: int, y: int) -> None:\n",
    "        self.x = x\n",
    "        self.y = y\n",
    "\n",
    "    def distance_to(self, other: Point) -> float:\n",
    "        return math.dist((self.x, self.y), (other.x, other.y))\n",
    "\n",
    "# Smoke test\n",
    "p, q = Point(3, 4), Point(0, 0)\n",
    "assert round(p.distance_to(q), 1) == 5.0\n",
    "print(p.distance_to(q))  # 5.0"
   ]
  }
 ]
}
