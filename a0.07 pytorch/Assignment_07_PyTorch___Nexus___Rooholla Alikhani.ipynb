{
  "cells": [
    {
      "cell_type": "markdown",
      "metadata": {
        "id": "dbICYwLGo5Av"
      },
      "source": [
        "# 🔥 Assignment: Exploring PyTorch\n"
      ]
    },
    {
      "cell_type": "markdown",
      "metadata": {
        "id": "b8h5DExTo6K5"
      },
      "source": [
        "## 🎯 Goal\n",
        "This assignment evaluates your basic skills in using PyTorch, focusing on tensors, autograd, and a small training loop.\n",
        "\n"
      ]
    },
    {
      "cell_type": "markdown",
      "metadata": {
        "id": "euolCT3oo8dR"
      },
      "source": [
        "### 1️⃣ Setup and Basics\n",
        "**Task:**\n",
        "\n",
        "* Install PyTorch and check its version.\n",
        "\n",
        "* Create a 2D tensor and print it."
      ]
    },
    {
      "cell_type": "code",
      "execution_count": 1,
      "metadata": {
        "id": "9AADPzP6o1iY"
      },
      "outputs": [
        {
          "name": "stdout",
          "output_type": "stream",
          "text": [
            "PyTorch version: 2.7.1+cpu\n",
            "Tensor x:\n",
            " tensor([[1., 2.],\n",
            "        [3., 4.]])\n"
          ]
        }
      ],
      "source": [
        "import torch\n",
        "\n",
        "print(\"PyTorch version:\", torch.__version__)\n",
        "x = torch.tensor([[1., 2.], [3., 4.]])\n",
        "print(\"Tensor x:\\n\", x)"
      ]
    },
    {
      "cell_type": "code",
      "execution_count": 2,
      "metadata": {
        "id": "T5mCQMYFpBJm"
      },
      "outputs": [
        {
          "name": "stdout",
          "output_type": "stream",
          "text": [
            "Tensor x:\n",
            " tensor([[5., 6.],\n",
            "        [7., 8.]])\n"
          ]
        }
      ],
      "source": [
        "# Your turn:\n",
        "# Create another tensor y of the same shape with values [[5, 6], [7, 8]].\n",
        "\n",
        "y = torch.tensor([[5., 6.], [7., 8.]])\n",
        "print(\"Tensor x:\\n\", y)\n"
      ]
    },
    {
      "cell_type": "markdown",
      "metadata": {
        "id": "7yRBms7npEUe"
      },
      "source": [
        "### 2️⃣ Tensor Operations 🧮\n",
        "**Task:** Perform addition and matrix multiplication."
      ]
    },
    {
      "cell_type": "code",
      "execution_count": null,
      "metadata": {
        "id": "nGRNryC4pDv2"
      },
      "outputs": [],
      "source": [
        "z = x + y\n",
        "print(\"Addition:\\n\", z)\n",
        "\n",
        "mat_mul = x @ y\n",
        "print(\"Matrix Multiplication:\\n\", mat_mul)\n"
      ]
    },
    {
      "cell_type": "code",
      "execution_count": 3,
      "metadata": {
        "id": "tf64nP2dpIod"
      },
      "outputs": [
        {
          "name": "stdout",
          "output_type": "stream",
          "text": [
            "tensor([[ 5., 12.],\n",
            "        [21., 32.]])\n"
          ]
        }
      ],
      "source": [
        "# Your turn:\n",
        "# Perform element-wise multiplication (x * y) and print the result.\n",
        "x = torch.tensor([[1., 2.], [3., 4.]])\n",
        "y = torch.tensor([[5., 6.], [7., 8.]])\n",
        "\n",
        "result = x * y \n",
        "print(result)"
      ]
    },
    {
      "cell_type": "markdown",
      "metadata": {},
      "source": [
        "torch.mul >> ضرب درایه به درایه با استفاده از متد های پای تورچ"
      ]
    },
    {
      "cell_type": "code",
      "execution_count": null,
      "metadata": {},
      "outputs": [],
      "source": [
        "x = torch.tensor([[1., 2.], [3., 4.]])\n",
        "y = torch.tensor([[5., 6.], [7., 8.]])\n",
        "\n",
        "result = torch.mul(x, y)\n",
        "print(result)"
      ]
    },
    {
      "cell_type": "markdown",
      "metadata": {
        "id": "h3dABundpMYU"
      },
      "source": [
        "### 3️⃣ Autograd and Gradients ⚙️\n",
        "**Task:** Enable gradient tracking and compute derivatives."
      ]
    },
    {
      "cell_type": "code",
      "execution_count": null,
      "metadata": {
        "id": "igtPKY90pLGt"
      },
      "outputs": [
        {
          "name": "stdout",
          "output_type": "stream",
          "text": [
            "Gradient of b wrt a: tensor(8.)\n"
          ]
        }
      ],
      "source": [
        "a = torch.tensor(3.0, requires_grad=True)\n",
        "b = (a ** 2) + 2 * a + 1\n",
        "b.backward()  # این دستور مشتق یا گرادیان رو محاسبه میکنه\n",
        "\n",
        "print(\"Gradient of b wrt a:\", a.grad)"
      ]
    },
    {
      "cell_type": "code",
      "execution_count": 7,
      "metadata": {
        "id": "bLceqHHvpOwt"
      },
      "outputs": [
        {
          "name": "stdout",
          "output_type": "stream",
          "text": [
            "Gradient of b wrt a: tensor(16.)\n"
          ]
        }
      ],
      "source": [
        "# Your turn:\n",
        "# Create a tensor p with value 2.0 (requires_grad=True) and compute the gradient of q = p^3 + 4p.\n",
        "\n",
        "p = torch.tensor(2.0 , requires_grad=True )\n",
        "q = (p**3) + 4*p\n",
        "q.backward()\n",
        "\n",
        "print(\"Gradient of b wrt a:\", p.grad)"
      ]
    },
    {
      "cell_type": "markdown",
      "metadata": {
        "id": "jytRN17EpVbM"
      },
      "source": [
        "### 4️⃣ Random Tensors 🎲\n",
        "**Task:** Generate a random tensor of shape (2, 3) and find its max and min."
      ]
    },
    {
      "cell_type": "code",
      "execution_count": 8,
      "metadata": {
        "id": "fb7fv-E_pS6e"
      },
      "outputs": [
        {
          "name": "stdout",
          "output_type": "stream",
          "text": [
            "Random Tensor:\n",
            " tensor([[0.4863, 0.3921, 0.9604],\n",
            "        [0.9888, 0.0973, 0.7078]])\n",
            "Max: tensor(0.9888)\n",
            "Min: tensor(0.0973)\n"
          ]
        }
      ],
      "source": [
        "rand_tensor = torch.rand((2, 3))\n",
        "print(\"Random Tensor:\\n\", rand_tensor)\n",
        "print(\"Max:\", torch.max(rand_tensor))\n",
        "print(\"Min:\", torch.min(rand_tensor))\n"
      ]
    },
    {
      "cell_type": "markdown",
      "metadata": {
        "id": "bhSClXespjvT"
      },
      "source": [
        "### 5️⃣ Mini Training Loop 🤖\n",
        "**Task:** Train a simple linear model y = wx + b using gradient descent."
      ]
    },
    {
      "cell_type": "code",
      "execution_count": 11,
      "metadata": {
        "id": "o7s2KMJVpZ5M"
      },
      "outputs": [
        {
          "name": "stdout",
          "output_type": "stream",
          "text": [
            "Trained weight: 1.7766615152359009\n",
            "Trained bias: 0.5076693296432495\n"
          ]
        }
      ],
      "source": [
        "# Data\n",
        "x_train = torch.tensor([[1.0], [2.0], [3.0]])\n",
        "y_train = torch.tensor([[2.0], [4.0], [6.0]])\n",
        "\n",
        "# Model\n",
        "w = torch.randn(1, requires_grad=True)\n",
        "b = torch.tensor(0.0, requires_grad=True)\n",
        "\n",
        "# Training\n",
        "learning_rate = 0.01\n",
        "for epoch in range(100):\n",
        "    y_pred = w * x_train + b\n",
        "    loss = torch.mean((y_pred - y_train) ** 2)\n",
        "    loss.backward()\n",
        "\n",
        "    # Update\n",
        "    with torch.no_grad():\n",
        "        w -= learning_rate * w.grad\n",
        "        b -= learning_rate * b.grad\n",
        "        w.grad.zero_()\n",
        "        b.grad.zero_()\n",
        "\n",
        "print(\"Trained weight:\", w.item())\n",
        "print(\"Trained bias:\", b.item())\n"
      ]
    },
    {
      "cell_type": "code",
      "execution_count": 10,
      "metadata": {},
      "outputs": [
        {
          "name": "stdout",
          "output_type": "stream",
          "text": [
            "Trained weight: 1.7009762525558472\n",
            "Trained bias: 0.6797095537185669\n"
          ]
        }
      ],
      "source": [
        "import torch\n",
        "\n",
        "# داده‌ها\n",
        "x_train = torch.tensor([[1.0], [2.0], [3.0]])\n",
        "y_train = torch.tensor([[2.0], [4.0], [6.0]])\n",
        "\n",
        "# مدل: وزن و بایاس با قابلیت گرادیان\n",
        "w = torch.randn(1, requires_grad=True)\n",
        "b = torch.tensor(0.0, requires_grad=True)\n",
        "\n",
        "# آموزش\n",
        "learning_rate = 0.01\n",
        "for epoch in range(100):\n",
        "    y_pred = w * x_train + b\n",
        "    loss = torch.mean((y_pred - y_train) ** 2)\n",
        "    loss.backward()\n",
        "\n",
        "    # به‌روزرسانی وزن و بایاس بدون پیگیری گرادیان\n",
        "    with torch.no_grad():\n",
        "        w -= learning_rate * w.grad\n",
        "        b -= learning_rate * b.grad\n",
        "        w.grad.zero_()\n",
        "        b.grad.zero_()\n",
        "\n",
        "# نمایش مقادیر آموزش‌دیده\n",
        "print(\"Trained weight:\", w.item())\n",
        "print(\"Trained bias:\", b.item())"
      ]
    },
    {
      "cell_type": "markdown",
      "metadata": {
        "id": "rGhFqtrVpv8_"
      },
      "source": [
        "### 6️⃣ Bonus ⚡\n",
        "* Convert a PyTorch tensor to a NumPy array.\n",
        "\n",
        "* Convert it back to a PyTorch tensor."
      ]
    },
    {
      "cell_type": "markdown",
      "metadata": {},
      "source": [
        "🔁 Convert PyTorch tensor → NumPy array"
      ]
    },
    {
      "cell_type": "code",
      "execution_count": 13,
      "metadata": {
        "id": "AF4t92eDpq0j"
      },
      "outputs": [
        {
          "name": "stdout",
          "output_type": "stream",
          "text": [
            "NumPy Array: [1. 2. 3.]\n"
          ]
        }
      ],
      "source": [
        "# To do\n",
        "import torch\n",
        "\n",
        "tensor = torch.tensor([1.0, 2.0, 3.0])  \n",
        "numpy_array = tensor.numpy()\n",
        "\n",
        "print(\"NumPy Array:\", numpy_array)"
      ]
    },
    {
      "cell_type": "markdown",
      "metadata": {},
      "source": [
        "🔄 Convert NumPy array → PyTorch tensor"
      ]
    },
    {
      "cell_type": "code",
      "execution_count": 15,
      "metadata": {},
      "outputs": [
        {
          "name": "stdout",
          "output_type": "stream",
          "text": [
            "pytorch tensor :  tensor([1, 5, 6])\n"
          ]
        }
      ],
      "source": [
        "import numpy as np \n",
        "num_arr = np.array([1 , 5 , 6 ])\n",
        "tensor = torch.from_numpy(num_arr)\n",
        "print(\"pytorch tensor : \" , tensor)"
      ]
    },
    {
      "cell_type": "code",
      "execution_count": null,
      "metadata": {},
      "outputs": [],
      "source": []
    }
  ],
  "metadata": {
    "colab": {
      "provenance": []
    },
    "kernelspec": {
      "display_name": "DsAi",
      "language": "python",
      "name": "python3"
    },
    "language_info": {
      "codemirror_mode": {
        "name": "ipython",
        "version": 3
      },
      "file_extension": ".py",
      "mimetype": "text/x-python",
      "name": "python",
      "nbconvert_exporter": "python",
      "pygments_lexer": "ipython3",
      "version": "3.12.11"
    }
  },
  "nbformat": 4,
  "nbformat_minor": 0
}
