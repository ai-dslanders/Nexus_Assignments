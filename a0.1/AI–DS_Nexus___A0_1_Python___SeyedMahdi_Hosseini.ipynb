{
  "nbformat": 4,
  "nbformat_minor": 0,
  "metadata": {
    "colab": {
      "provenance": []
    },
    "kernelspec": {
      "name": "python3",
      "display_name": "Python 3"
    },
    "language_info": {
      "name": "python"
    }
  },
  "cells": [
    {
      "cell_type": "markdown",
      "source": [
        "# 📚 Assignment 1 — Python Fundamentals\n",
        "Welcome to your first hands-on practice! This set of four mini-projects walks you through the basics every Python (and ML) developer leans on daily:\n",
        "\n",
        "1. Variable types\n",
        "\n",
        "2. Core containers\n",
        "\n",
        "3. Functions\n",
        "\n",
        "4. Classes\n",
        "\n",
        "Each part begins with quick pointers, then gives you two bite-sized tasks to code. Replace every # TODO with working Python and run your script or notebook to check the result. Happy hacking! 😊"
      ],
      "metadata": {
        "id": "ZS5lje_18xC2"
      }
    },
    {
      "cell_type": "markdown",
      "source": [
        "## 1. Variable Types 🧮\n",
        "**Quick-start notes**\n",
        "\n",
        "* Primitive types: `int`, `float`, `str`, `bool`\n",
        "\n",
        "* Use `type(obj)` to inspect an object’s type.\n",
        "\n",
        "* Casting ↔ converting: `int(\"3\")`, `str(3.14)`, `bool(0)`, etc."
      ],
      "metadata": {
        "id": "u5vvtK-6840I"
      }
    },
    {
      "cell_type": "markdown",
      "source": [
        "### Task 1 — Celsius → Fahrenheit\n",
        "\n"
      ],
      "metadata": {
        "id": "UyNHtkGm9OgH"
      }
    },
    {
      "cell_type": "code",
      "execution_count": 6,
      "metadata": {
        "id": "lmaiboJe8E15",
        "colab": {
          "base_uri": "https://localhost:8080/"
        },
        "outputId": "ec8319dc-fb27-48ce-bc8f-946dac3d8bdc"
      },
      "outputs": [
        {
          "output_type": "stream",
          "name": "stdout",
          "text": [
            "Enter Temperature in Celsius:  25\n",
            "25.00 Celsius is equal to 77.00 Farenheit.\n"
          ]
        }
      ],
      "source": [
        "# 👉 a Celsius temperature (as text), convert it to float,\n",
        "#    compute Fahrenheit (°F = °C * 9/5 + 32) and print a nicely formatted line.\n",
        "\n",
        "celsius_text = input(\"Enter Temperature in Celsius:  \")\n",
        "celsius = float(celsius_text)\n",
        "fahrenheit = celsius * 9 / 5 + 32\n",
        "print(f\"{celsius:.2f} Celsius is equal to {fahrenheit:.2f} Farenheit.\")\n",
        "\n"
      ]
    },
    {
      "cell_type": "markdown",
      "source": [
        "### Task 2 — Tiny Calculator\n"
      ],
      "metadata": {
        "id": "BtsB8QKM9Xs_"
      }
    },
    {
      "cell_type": "code",
      "source": [
        "# 👉 Store two numbers of **different types** (one int, one float),\n",
        "#    then print their sum, difference, product, true division, and floor division.\n",
        "\n",
        "a = 8             # int\n",
        "b = 3.5           # float\n",
        "\n",
        "print(\"Sum:\", a + b)\n",
        "print(\"Difference:\", a - b)\n",
        "print(\"Product:\", a * b)\n",
        "print(\"True Division:\", a / b)\n",
        "print(\"Floor Division:\", a // b)\n"
      ],
      "metadata": {
        "id": "DSR8aS-F9Z10",
        "colab": {
          "base_uri": "https://localhost:8080/"
        },
        "outputId": "53610d67-b1d6-4530-8d41-4284b93939ae"
      },
      "execution_count": 9,
      "outputs": [
        {
          "output_type": "stream",
          "name": "stdout",
          "text": [
            "Sum: 11.5\n",
            "Difference: 4.5\n",
            "Product: 28.0\n",
            "True Division: 2.2857142857142856\n",
            "Floor Division: 2.0\n"
          ]
        }
      ]
    },
    {
      "cell_type": "markdown",
      "source": [
        "## 2. Containers 📦 (list, tuple, set, dict)\n",
        "**Quick-start notes**\n",
        "\n",
        "| Container | Mutable? | Ordered?                      | Typical use                       |\n",
        "| --------- | -------- | ----------------------------- | --------------------------------- |\n",
        "| `list`    | ✔        | ✔                             | Growth, indexing, slicing         |\n",
        "| `tuple`   | ✖        | ✔                             | Fixed-size records, hashable keys |\n",
        "| `set`     | ✔        | ✖                             | Deduplication, membership tests   |\n",
        "| `dict`    | ✔        | ✖ (3.7 + preserves insertion) | Key → value look-ups              |\n"
      ],
      "metadata": {
        "id": "8JjHX4wy9dPz"
      }
    },
    {
      "cell_type": "markdown",
      "source": [
        "### Task 1 — Grocery Basket\n",
        "\n"
      ],
      "metadata": {
        "id": "wRyJyhbt9uUr"
      }
    },
    {
      "cell_type": "code",
      "source": [
        "# Start with an empty shopping list (list).\n",
        "# 1. Append at least 4 items supplied in one line of user input (comma-separated).\n",
        "# 2. Convert the list to a *tuple* called immutable_basket.\n",
        "# 3. Print the third item using tuple indexing.\n",
        "\n",
        "# 1. Append at least 4 items from user input\n",
        "items = input(\"Enter at least 4 grocery items (comma-separated): \")\n",
        "shopping_list = items.split(',')\n",
        "\n",
        "# 2. Convert to tuple\n",
        "immutable_basket = tuple(shopping_list)\n",
        "\n",
        "# 3. Print third item\n",
        "print(\"Third item:\", immutable_basket[2])\n"
      ],
      "metadata": {
        "id": "1J4jcLct9yVO",
        "colab": {
          "base_uri": "https://localhost:8080/"
        },
        "outputId": "a503745e-46c2-4954-a957-843b2d7a1e5c"
      },
      "execution_count": 13,
      "outputs": [
        {
          "output_type": "stream",
          "name": "stdout",
          "text": [
            "Enter at least 4 grocery items (comma-separated): G1, G2, G3, G4\n",
            "Third item:  G3\n"
          ]
        }
      ]
    },
    {
      "cell_type": "markdown",
      "source": [
        "### Task 2 — Word Stats"
      ],
      "metadata": {
        "id": "byKd8SFK9w2y"
      }
    },
    {
      "cell_type": "code",
      "source": [
        "sample = \"to be or not to be that is the question\"\n",
        "\n",
        "# 1. Build a set `unique_words` containing every distinct word.\n",
        "# 2. Build a dict `word_counts` mapping each word to the number of times it appears.\n",
        "#    (Hint: .split() + a simple loop)\n",
        "# 3. Print the two structures and explain (in a comment) their main difference.\n",
        "\n",
        "\n",
        "# 1. Set of unique words\n",
        "unique_words = set(sample.split())\n",
        "\n",
        "# 2. Dictionary of word counts\n",
        "word_counts = {}\n",
        "for word in sample.split():\n",
        "    word_counts[word] = word_counts.get(word, 0) + 1\n",
        "\n",
        "# 3. Print both structures\n",
        "print(\"Unique words (set):\", unique_words)\n",
        "print(\"Word counts (dict):\", word_counts)\n",
        "\n",
        "# Difference:\n",
        "# Set stores unique elements with no duplicates.\n",
        "# Dict stores each word along with its frequency.\n"
      ],
      "metadata": {
        "id": "4rLrxkPj90p3",
        "colab": {
          "base_uri": "https://localhost:8080/"
        },
        "outputId": "b600a823-c175-446b-d91c-b249bc7c473f"
      },
      "execution_count": 29,
      "outputs": [
        {
          "output_type": "stream",
          "name": "stdout",
          "text": [
            "Unique words (set): {'or', 'be', 'is', 'question', 'to', 'not', 'the', 'that'}\n",
            "Word counts (dict): {'to': 2, 'be': 2, 'or': 1, 'not': 1, 'that': 1, 'is': 1, 'the': 1, 'question': 1}\n"
          ]
        }
      ]
    },
    {
      "cell_type": "markdown",
      "source": [
        "## 3. Functions 🔧\n",
        "**Quick-start notes**\n",
        "\n",
        "* Define with `def`, return with `return`.\n",
        "\n",
        "* Parameters can have default values.\n",
        "\n",
        "* Docstrings (`\"\"\" … \"\"\"`) document behaviour."
      ],
      "metadata": {
        "id": "gbGMbtLf94M4"
      }
    },
    {
      "cell_type": "markdown",
      "source": [
        "### Task 1 — Prime Tester"
      ],
      "metadata": {
        "id": "QOsToPh2-AnZ"
      }
    },
    {
      "cell_type": "code",
      "source": [
        "def is_prime(n: int) -> bool:\n",
        "    \"\"\"\n",
        "    Return True if n is a prime number, else False.\n",
        "    0 and 1 are *not* prime.\n",
        "    \"\"\"\n",
        "    # TODO: replace pass with your implementation\n",
        "\n",
        "    if n < 2:\n",
        "        return False\n",
        "    for i in range(2, int(n**0.5)+1):\n",
        "        if n % i == 0:\n",
        "            return False\n",
        "    return True\n",
        "\n",
        "\n",
        "# Quick self-check\n",
        "print([x for x in range(10) if is_prime(x)])   # Expected: [2, 3, 5, 7]\n",
        "\n",
        "\n",
        "\n",
        "\n",
        "\n",
        "\n"
      ],
      "metadata": {
        "id": "_pCU2mIH-DAi",
        "colab": {
          "base_uri": "https://localhost:8080/"
        },
        "outputId": "8ca88ddb-549e-426e-c6df-27a4850fcf1c"
      },
      "execution_count": 33,
      "outputs": [
        {
          "output_type": "stream",
          "name": "stdout",
          "text": [
            "[2, 3, 5, 7]\n"
          ]
        }
      ]
    },
    {
      "cell_type": "markdown",
      "source": [
        "### Task 2 — Repeater Greeter"
      ],
      "metadata": {
        "id": "TBGXIzVV-E5u"
      }
    },
    {
      "cell_type": "code",
      "source": [
        "def greet(name: str, times: int = 1) -> None:\n",
        "    \"\"\"Print `name`, capitalised, exactly `times` times on one line.\"\"\"\n",
        "\n",
        "    # TODO: your code here\n",
        "\n",
        "    print((name.capitalize() + ' ') * times)\n",
        "\n",
        "\n",
        "\n",
        "greet(\"alice\")          # Alice\n",
        "greet(\"bob\", times=3)   # Bob Bob Bob\n"
      ],
      "metadata": {
        "id": "ycvsNyqh-GRM",
        "colab": {
          "base_uri": "https://localhost:8080/"
        },
        "outputId": "e5f55d2e-d6cd-4e8f-a970-d490c55a14de"
      },
      "execution_count": 37,
      "outputs": [
        {
          "output_type": "stream",
          "name": "stdout",
          "text": [
            "Alice \n",
            "Bob Bob Bob \n"
          ]
        }
      ]
    },
    {
      "cell_type": "markdown",
      "source": [
        "## 4. Classes 🏗️\n",
        "**Quick-start notes**\n",
        "\n",
        "* Create with class Name:\n",
        "\n",
        "* Special method __init__ runs on construction.\n",
        "\n",
        "* self refers to the instance; attributes live on self."
      ],
      "metadata": {
        "id": "y7K-GaBC-ImE"
      }
    },
    {
      "cell_type": "markdown",
      "source": [
        "Task 1 — Simple Counter"
      ],
      "metadata": {
        "id": "NgKjsy8A-N3l"
      }
    },
    {
      "cell_type": "code",
      "source": [
        "class Counter:\n",
        "    \"\"\"Counts how many times `increment` is called.\"\"\"\n",
        "    # TODO:\n",
        "    # 1. In __init__, store an internal count variable starting at 0.\n",
        "    # 2. Method increment(step: int = 1) adds `step` to the count.\n",
        "    # 3. Method value() returns the current count.\n",
        "\n",
        "    def __init__(self):\n",
        "        self._count = 0\n",
        "\n",
        "    def increment(self, step: int = 1):\n",
        "        self._count += step\n",
        "\n",
        "    def value(self):\n",
        "        return self._count\n",
        "\n",
        "c = Counter()\n",
        "for _ in range(5):\n",
        "    c.increment()\n",
        "print(c.value())   # Expected: 5\n"
      ],
      "metadata": {
        "id": "dPFvr_fe-OPR",
        "colab": {
          "base_uri": "https://localhost:8080/"
        },
        "outputId": "272d3350-f813-43e0-caa9-11d78f8c6074"
      },
      "execution_count": 40,
      "outputs": [
        {
          "output_type": "stream",
          "name": "stdout",
          "text": [
            "5\n"
          ]
        }
      ]
    },
    {
      "cell_type": "markdown",
      "source": [
        "### Task 2 — 2-D Point with Distance"
      ],
      "metadata": {
        "id": "U99aupan-Q8u"
      }
    },
    {
      "cell_type": "code",
      "source": [
        "import math\n",
        "\n",
        "class Point:\n",
        "    \"\"\"\n",
        "    A 2-D point supporting distance calculation.\n",
        "    Usage:\n",
        "        p = Point(3, 4)\n",
        "        q = Point(0, 0)\n",
        "        print(p.distance_to(q))  # 5.0\n",
        "    \"\"\"\n",
        "    # TODO:\n",
        "    # 1. Store x and y as attributes.\n",
        "    # 2. Implement distance_to(other) using the Euclidean formula.\n",
        "\n",
        "\n",
        "    def __init__(self, x, y):\n",
        "        self.x = x\n",
        "        self.y = y\n",
        "\n",
        "    def distance_to(self, other):\n",
        "        dx = self.x - other.x\n",
        "        dy = self.y - other.y\n",
        "        return math.sqrt(dx**2 + dy**2)\n",
        "\n",
        "\n",
        "# Smoke test\n",
        "p, q = Point(3, 4), Point(0, 0)\n",
        "assert round(p.distance_to(q), 1) == 5.0\n"
      ],
      "metadata": {
        "id": "OVh3GEzH-T0w"
      },
      "execution_count": 42,
      "outputs": []
    }
  ]
}