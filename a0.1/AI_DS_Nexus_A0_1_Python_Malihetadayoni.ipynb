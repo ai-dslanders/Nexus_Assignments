{
  "cells": [
    {
      "cell_type": "markdown",
      "metadata": {
        "id": "ZS5lje_18xC2"
      },
      "source": [
        "# 📚 Assignment 1 — Python Fundamentals\n",
        "Welcome to your first hands-on practice! This set of four mini-projects walks you through the basics every Python (and ML) developer leans on daily:\n",
        "\n",
        "1. Variable types\n",
        "\n",
        "2. Core containers\n",
        "\n",
        "3. Functions\n",
        "\n",
        "4. Classes\n",
        "\n",
        "Each part begins with quick pointers, then gives you two bite-sized tasks to code. Replace every # TODO with working Python and run your script or notebook to check the result. Happy hacking! 😊"
      ]
    },
    {
      "cell_type": "markdown",
      "metadata": {
        "id": "u5vvtK-6840I"
      },
      "source": [
        "## 1. Variable Types 🧮\n",
        "**Quick-start notes**\n",
        "\n",
        "* Primitive types: `int`, `float`, `str`, `bool`\n",
        "\n",
        "* Use `type(obj)` to inspect an object’s type.\n",
        "\n",
        "* Casting ↔ converting: `int(\"3\")`, `str(3.14)`, `bool(0)`, etc."
      ]
    },
    {
      "cell_type": "markdown",
      "metadata": {
        "id": "UyNHtkGm9OgH"
      },
      "source": [
        "### Task 1 — Celsius → Fahrenheit\n",
        "\n"
      ]
    },
    {
      "cell_type": "code",
      "execution_count": 1,
      "metadata": {
        "colab": {
          "base_uri": "https://localhost:8080/"
        },
        "id": "lmaiboJe8E15",
        "outputId": "a5ed2e67-1507-4384-c8a0-7664a864deb3"
      },
      "outputs": [
        {
          "name": "stdout",
          "output_type": "stream",
          "text": [
            "the temperature in celsius : 25.00°c\n",
            "~~~~~~~~~~~~~~~~~~~~~~~~~~~~~~~~~~~\n",
            "the temperature in Farenhiet : 77.00°F\n"
          ]
        }
      ],
      "source": [
        "# 👉 a Celsius temperature (as text), convert it to float,\n",
        "#    compute Fahrenheit (°F = °C * 9/5 + 32) and print a nicely formatted line.\n",
        "temperature = input(\"Enter a temperature in celsius:\")\n",
        "c_temperature = float(temperature)\n",
        "f_temperature = c_temperature*9/5+32\n",
        "print(f\"the temperature in celsius : {c_temperature:.2f}°c\")\n",
        "print('~'*35)\n",
        "print(f\"the temperature in Farenhiet : {f_temperature:.2f}°F\")\n",
        "      "
      ]
    },
    {
      "cell_type": "markdown",
      "metadata": {
        "id": "BtsB8QKM9Xs_"
      },
      "source": [
        "### Task 2 — Tiny Calculator\n"
      ]
    },
    {
      "cell_type": "code",
      "execution_count": 4,
      "metadata": {
        "colab": {
          "base_uri": "https://localhost:8080/"
        },
        "id": "DSR8aS-F9Z10",
        "outputId": "6b78c549-991e-4463-f839-62cc8625fd00"
      },
      "outputs": [
        {
          "name": "stdout",
          "output_type": "stream",
          "text": [
            "Sum: 7.5\n",
            "Difference: -1.5\n",
            "Product: 13.5\n",
            "True division: 0.6666666666666666\n",
            "Floor division: 0.0\n"
          ]
        }
      ],
      "source": [
        "# 👉 Store two numbers of **different types** (one int, one float),\n",
        "#    then print their sum, difference, product, true division, and floor division.\n",
        "num1 = input(\"Enter an integer: \")\n",
        "num2 = input(\"Enter a floating-point number: \")\n",
        "num1 = int(num1)\n",
        "num2 = float(num2)\n",
        "print(f\"Sum: {num1 + num2}\")\n",
        "print(f\"Difference: {num1 - num2}\")\n",
        "print(f\"Product: {num1 * num2}\")\n",
        "print(f\"True division: {num1 / num2}\")\n",
        "print(f\"Floor division: {num1 // num2}\")\n"
      ]
    },
    {
      "cell_type": "markdown",
      "metadata": {
        "id": "8JjHX4wy9dPz"
      },
      "source": [
        "## 2. Containers 📦 (list, tuple, set, dict)\n",
        "**Quick-start notes**\n",
        "\n",
        "| Container | Mutable? | Ordered?                      | Typical use                       |\n",
        "| --------- | -------- | ----------------------------- | --------------------------------- |\n",
        "| `list`    | ✔        | ✔                             | Growth, indexing, slicing         |\n",
        "| `tuple`   | ✖        | ✔                             | Fixed-size records, hashable keys |\n",
        "| `set`     | ✔        | ✖                             | Deduplication, membership tests   |\n",
        "| `dict`    | ✔        | ✖ (3.7 + preserves insertion) | Key → value look-ups              |\n"
      ]
    },
    {
      "cell_type": "markdown",
      "metadata": {
        "id": "wRyJyhbt9uUr"
      },
      "source": [
        "### Task 1 — Grocery Basket\n",
        "\n"
      ]
    },
    {
      "cell_type": "code",
      "execution_count": 5,
      "metadata": {
        "colab": {
          "base_uri": "https://localhost:8080/"
        },
        "id": "1J4jcLct9yVO",
        "outputId": "1a26f6b8-90c7-435f-c7f6-3f290e38eef8"
      },
      "outputs": [
        {
          "name": "stdout",
          "output_type": "stream",
          "text": [
            " the third item is :  milk\n"
          ]
        }
      ],
      "source": [
        "# Start with an empty shopping list (list).\n",
        "# 1. Append at least 4 items supplied in one line of user input (comma-separated).\n",
        "# 2. Convert the list to a *tuple* called immutable_basket.\n",
        "# 3. Print the third item using tuple indexing.\n",
        "# TODO: your code here\n",
        "shopping_list = []\n",
        "user_input = input(\"Enter at least 4 items separated by commas: \")\n",
        "items = [item.strip() for item in user_input.split(',')]\n",
        "shopping_list.extend(items)\n",
        "immutable_basket = tuple(shopping_list)\n",
        "print(\" the third item is : \" ,immutable_basket[2])\n",
        "\n"
      ]
    },
    {
      "cell_type": "markdown",
      "metadata": {
        "id": "byKd8SFK9w2y"
      },
      "source": [
        "### Task 2 — Word Stats"
      ]
    },
    {
      "cell_type": "code",
      "execution_count": null,
      "metadata": {
        "colab": {
          "base_uri": "https://localhost:8080/"
        },
        "id": "4rLrxkPj90p3",
        "outputId": "4295d56c-aa55-453e-bf0c-4ddafc367a9c"
      },
      "outputs": [
        {
          "name": "stdout",
          "output_type": "stream",
          "text": [
            "{'or', 'to', 'the', 'not', 'that', 'be', 'question', 'is'}\n",
            "{'to': 2, 'be': 2, 'or': 1, 'not': 1, 'that': 1, 'is': 1, 'the': 1, 'question': 1}\n"
          ]
        }
      ],
      "source": [
        "sample = \"to be or not to be that is the question\"\n",
        "\n",
        "# 1. Build a set `unique_words` containing every distinct word.\n",
        "# 2. Build a dict `word_counts` mapping each word to the number of times it appears.\n",
        "#    (Hint: .split() + a simple loop)\n",
        "# 3. Print the two structures and explain (in a comment) their main difference.\n",
        "\n",
        "unique_words = set(sample.split())\n",
        "\n",
        "#2\n",
        "word_counts = {}\n",
        "for word in sample.split():\n",
        "    if word in word_counts:\n",
        "        word_counts[word] += 1\n",
        "    else:\n",
        "        word_counts[word] = 1\n",
        "\n",
        "print(\"Unique words (set):\", unique_words)\n",
        "print(\"Word counts (dict):\", word_counts)\n",
        "\n",
        "#  Explanation:\n",
        "# `unique_words` is a set — it only stores distinct words (no duplicates) and has no specific order.\n",
        "# `word_counts` is a dictionary — it stores each word along with how many times it appears in the text.\n",
        "\n"
      ]
    },
    {
      "cell_type": "markdown",
      "metadata": {
        "id": "gbGMbtLf94M4"
      },
      "source": [
        "## 3. Functions 🔧\n",
        "**Quick-start notes**\n",
        "\n",
        "* Define with `def`, return with `return`.\n",
        "\n",
        "* Parameters can have default values.\n",
        "\n",
        "* Docstrings (`\"\"\" … \"\"\"`) document behaviour."
      ]
    },
    {
      "cell_type": "markdown",
      "metadata": {
        "id": "QOsToPh2-AnZ"
      },
      "source": [
        "### Task 1 — Prime Tester"
      ]
    },
    {
      "cell_type": "code",
      "execution_count": 3,
      "metadata": {},
      "outputs": [
        {
          "name": "stdout",
          "output_type": "stream",
          "text": [
            "[2, 3, 5, 7]\n"
          ]
        }
      ],
      "source": [
        "def is_prime(n: int) -> bool:\n",
        "    \"\"\"\n",
        "    Return True if n is a prime number, else False.\n",
        "    0 and 1 are *not* prime.\n",
        "    \"\"\"\n",
        "    if n < 2:\n",
        "        return False\n",
        "    for i in range(2, int(n ** 0.5) + 1):\n",
        "        if n % i == 0:\n",
        "            return False\n",
        "    return True\n",
        "\n",
        "\n",
        "# Quick self-check\n",
        "print([x for x in range(10) if is_prime(x)])   # Expected: [2, 3, 5, 7]"
      ]
    },
    {
      "cell_type": "markdown",
      "metadata": {
        "id": "TBGXIzVV-E5u"
      },
      "source": [
        "### Task 2 — Repeater Greeter"
      ]
    },
    {
      "cell_type": "code",
      "execution_count": 1,
      "metadata": {
        "colab": {
          "base_uri": "https://localhost:8080/"
        },
        "id": "ycvsNyqh-GRM",
        "outputId": "9229d6d6-1b0b-4287-8287-068d844d4e09"
      },
      "outputs": [
        {
          "name": "stdout",
          "output_type": "stream",
          "text": [
            "Alice\n",
            "Malihe Malihe\n"
          ]
        }
      ],
      "source": [
        "def greet(name: str, times: int = 1) -> None:\n",
        "    \"\"\"Print `name`, capitalised, exactly `times` times on one line.\"\"\"\n",
        "    print(' '.join([name.capitalize()]* times))\n",
        "\n",
        "greet(\"alice\")          # Alice\n",
        "greet(\"malihe\", times=2)   \n"
      ]
    },
    {
      "cell_type": "markdown",
      "metadata": {
        "id": "y7K-GaBC-ImE"
      },
      "source": [
        "## 4. Classes 🏗️\n",
        "**Quick-start notes**\n",
        "\n",
        "* Create with class Name:\n",
        "\n",
        "* Special method __init__ runs on construction.\n",
        "\n",
        "* self refers to the instance; attributes live on self."
      ]
    },
    {
      "cell_type": "markdown",
      "metadata": {
        "id": "NgKjsy8A-N3l"
      },
      "source": [
        "### Task 1 — Simple Counter"
      ]
    },
    {
      "cell_type": "code",
      "execution_count": 21,
      "metadata": {
        "colab": {
          "base_uri": "https://localhost:8080/"
        },
        "id": "dPFvr_fe-OPR",
        "outputId": "69db37a3-05ce-48f7-f03b-2c3f1a0e1e26"
      },
      "outputs": [
        {
          "name": "stdout",
          "output_type": "stream",
          "text": [
            "5\n"
          ]
        }
      ],
      "source": [
        "class Counter:\n",
        "  def __init__(self):\n",
        "    self.count = 0\n",
        "  def increment(self, step =1):\n",
        "    self.count += step\n",
        "\n",
        "  def value(self):\n",
        "    return self.count\n",
        "\n",
        "    \"\"\"Counts how many times `increment` is called.\"\"\"\n",
        "    # TODO:\n",
        "    # 1. In __init__, store an internal count variable starting at 0.\n",
        "    # 2. Method increment(step: int = 1) adds `step` to the count.\n",
        "    # 3. Method value() returns the current count.\n",
        "\n",
        "\n",
        "c = Counter()\n",
        "for _ in range(5):\n",
        "    c.increment()\n",
        "print(c.value())   # Expected: 5\n"
      ]
    },
    {
      "cell_type": "markdown",
      "metadata": {
        "id": "U99aupan-Q8u"
      },
      "source": [
        "### Task 2 — 2-D Point with Distance"
      ]
    },
    {
      "cell_type": "code",
      "execution_count": 24,
      "metadata": {
        "id": "OVh3GEzH-T0w"
      },
      "outputs": [],
      "source": [
        "import math\n",
        "\n",
        "class Point:\n",
        "  def __init__(self,x,y):\n",
        "    self.x = x\n",
        "    self.y = y\n",
        "  def distance_to(self,other_point):\n",
        "    dx = self.x - other_point.x\n",
        "    dy = self.y - other_point.y\n",
        "    return math.sqrt(dx**2 + dy**2)\n",
        "    \"\"\"\n",
        "    A 2-D point supporting distance calculation.\n",
        "    Usage:\n",
        "        p = Point(3, 4)\n",
        "        q = Point(0, 0)\n",
        "        print(p.distance_to(q))  # 5.0\n",
        "    \"\"\"\n",
        "    # TODO:\n",
        "    # 1. Store x and y as attributes.\n",
        "    # 2. Implement distance_to(other) using the Euclidean formula.\n",
        "\n",
        "\n",
        "# Smoke test\n",
        "p, q = Point(3, 4), Point(0, 0)\n",
        "assert round(p.distance_to(q), 1) == 5.0"
      ]
    }
  ],
  "metadata": {
    "colab": {
      "provenance": []
    },
    "kernelspec": {
      "display_name": "Python 3",
      "name": "python3"
    },
    "language_info": {
      "codemirror_mode": {
        "name": "ipython",
        "version": 3
      },
      "file_extension": ".py",
      "mimetype": "text/x-python",
      "name": "python",
      "nbconvert_exporter": "python",
      "pygments_lexer": "ipython3",
      "version": "3.13.0"
    }
  },
  "nbformat": 4,
  "nbformat_minor": 0
}
