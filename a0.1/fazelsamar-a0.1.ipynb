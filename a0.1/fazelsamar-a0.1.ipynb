{
  "nbformat": 4,
  "nbformat_minor": 0,
  "metadata": {
    "colab": {
      "provenance": []
    },
    "kernelspec": {
      "name": "python3",
      "display_name": "Python 3"
    },
    "language_info": {
      "name": "python"
    }
  },
  "cells": [
    {
      "cell_type": "markdown",
      "source": [
        "# 📚 Assignment 1 — Python Fundamentals\n",
        "Welcome to your first hands-on practice! This set of four mini-projects walks you through the basics every Python (and ML) developer leans on daily:\n",
        "\n",
        "1. Variable types\n",
        "\n",
        "2. Core containers\n",
        "\n",
        "3. Functions\n",
        "\n",
        "4. Classes\n",
        "\n",
        "Each part begins with quick pointers, then gives you two bite-sized tasks to code. Replace every # TODO with working Python and run your script or notebook to check the result. Happy hacking! 😊"
      ],
      "metadata": {
        "id": "ZS5lje_18xC2"
      }
    },
    {
      "cell_type": "markdown",
      "source": [
        "## 1. Variable Types 🧮\n",
        "**Quick-start notes**\n",
        "\n",
        "* Primitive types: `int`, `float`, `str`, `bool`\n",
        "\n",
        "* Use `type(obj)` to inspect an object’s type.\n",
        "\n",
        "* Casting ↔ converting: `int(\"3\")`, `str(3.14)`, `bool(0)`, etc."
      ],
      "metadata": {
        "id": "u5vvtK-6840I"
      }
    },
    {
      "cell_type": "markdown",
      "source": [
        "### Task 1 — Celsius → Fahrenheit\n",
        "\n"
      ],
      "metadata": {
        "id": "UyNHtkGm9OgH"
      }
    },
    {
      "cell_type": "code",
      "execution_count": 14,
      "metadata": {
        "id": "lmaiboJe8E15",
        "colab": {
          "base_uri": "https://localhost:8080/"
        },
        "outputId": "4edf1951-392a-4683-ff98-15d969582380"
      },
      "outputs": [
        {
          "output_type": "stream",
          "name": "stdout",
          "text": [
            "77.0\n"
          ]
        }
      ],
      "source": [
        "# 👉 a Celsius temperature (as text), convert it to float,\n",
        "#    compute Fahrenheit (°F = °C * 9/5 + 32) and print a nicely formatted line.\n",
        "# TODO: your code here\n",
        "def celsius_to_fahrenheit(c: str) -> float:\n",
        "  return float(c) * 9/5 + 32\n",
        "\n",
        "print(celsius_to_fahrenheit(\"25\")) # 77.0"
      ]
    },
    {
      "cell_type": "markdown",
      "source": [
        "### Task 2 — Tiny Calculator\n"
      ],
      "metadata": {
        "id": "BtsB8QKM9Xs_"
      }
    },
    {
      "cell_type": "code",
      "source": [
        "# 👉 Store two numbers of **different types** (one int, one float),\n",
        "#    then print their sum, difference, product, true division, and floor division.\n",
        "# TODO: your code here\n",
        "from math import prod\n",
        "\n",
        "a, b = 15, 12.5\n",
        "print(f\"Sum: {sum([a, b])}\") # Sum: 27.5\n",
        "print(f\"Difference: {a - b}\") # Difference: 2.5\n",
        "print(f\"Product: {prod([a, b])}\") # Product: 187.5\n",
        "print(f\"True division: {a/b}\") # True division: 1.2\n",
        "print(f\"Floor division: {a//b}\") # Floor division: 1.0"
      ],
      "metadata": {
        "id": "DSR8aS-F9Z10",
        "colab": {
          "base_uri": "https://localhost:8080/"
        },
        "outputId": "ecb759b8-d4ad-4490-df77-1930db1155a4"
      },
      "execution_count": 15,
      "outputs": [
        {
          "output_type": "stream",
          "name": "stdout",
          "text": [
            "Sum: 27.5\n",
            "Difference: 2.5\n",
            "Product: 187.5\n",
            "True division: 1.2\n",
            "Floor division: 1.0\n"
          ]
        }
      ]
    },
    {
      "cell_type": "markdown",
      "source": [
        "## 2. Containers 📦 (list, tuple, set, dict)\n",
        "**Quick-start notes**\n",
        "\n",
        "| Container | Mutable? | Ordered?                      | Typical use                       |\n",
        "| --------- | -------- | ----------------------------- | --------------------------------- |\n",
        "| `list`    | ✔        | ✔                             | Growth, indexing, slicing         |\n",
        "| `tuple`   | ✖        | ✔                             | Fixed-size records, hashable keys |\n",
        "| `set`     | ✔        | ✖                             | Deduplication, membership tests   |\n",
        "| `dict`    | ✔        | ✖ (3.7 + preserves insertion) | Key → value look-ups              |\n"
      ],
      "metadata": {
        "id": "8JjHX4wy9dPz"
      }
    },
    {
      "cell_type": "markdown",
      "source": [
        "### Task 1 — Grocery Basket\n",
        "\n"
      ],
      "metadata": {
        "id": "wRyJyhbt9uUr"
      }
    },
    {
      "cell_type": "code",
      "source": [
        "# Start with an empty shopping list (list).\n",
        "# 1. Append at least 4 items supplied in one line of user input (comma-separated).\n",
        "# 2. Convert the list to a *tuple* called immutable_basket.\n",
        "# 3. Print the third item using tuple indexing.\n",
        "# TODO: your code here\n",
        "shopping_list = []\n",
        "shopping_list += [f\"item_{i}\" for i in range(1, 5)] # ['item_1', 'item_2', 'item_3', 'item_4']\n",
        "immutable_basket = tuple(shopping_list)\n",
        "print(immutable_basket[2]) # item_3"
      ],
      "metadata": {
        "id": "1J4jcLct9yVO",
        "colab": {
          "base_uri": "https://localhost:8080/"
        },
        "outputId": "38695159-62cb-4c92-b7d7-2d43a310ea4b"
      },
      "execution_count": 16,
      "outputs": [
        {
          "output_type": "stream",
          "name": "stdout",
          "text": [
            "item_3\n"
          ]
        }
      ]
    },
    {
      "cell_type": "markdown",
      "source": [
        "### Task 2 — Word Stats"
      ],
      "metadata": {
        "id": "byKd8SFK9w2y"
      }
    },
    {
      "cell_type": "code",
      "source": [
        "sample = \"to be or not to be that is the question\"\n",
        "\n",
        "# 1. Build a set `unique_words` containing every distinct word.\n",
        "# 2. Build a dict `word_counts` mapping each word to the number of times it appears.\n",
        "#    (Hint: .split() + a simple loop)\n",
        "# 3. Print the two structures and explain (in a comment) their main difference.\n",
        "# TODO: your code here\n",
        "words = sample.split()\n",
        "unique_words = set(words)\n",
        "word_counts = {word: words.count(word) for word in unique_words}\n",
        "print(unique_words)\n",
        "print(word_counts)\n",
        "# Explanation:\n",
        "# - The set `unique_words` holds each unique word (no duplicates).\n",
        "# - The dictionary `word_counts` maps each unique word to how many times it appears in the list.\n",
        "# - This uses dictionary comprehension: {key: value for key in iterable}"
      ],
      "metadata": {
        "id": "4rLrxkPj90p3",
        "colab": {
          "base_uri": "https://localhost:8080/"
        },
        "outputId": "69cceb7e-f301-4e2a-a7b4-30c4189b0a48"
      },
      "execution_count": 17,
      "outputs": [
        {
          "output_type": "stream",
          "name": "stdout",
          "text": [
            "{'the', 'that', 'question', 'is', 'or', 'be', 'not', 'to'}\n",
            "{'the': 1, 'that': 1, 'question': 1, 'is': 1, 'or': 1, 'be': 2, 'not': 1, 'to': 2}\n"
          ]
        }
      ]
    },
    {
      "cell_type": "markdown",
      "source": [
        "## 3. Functions 🔧\n",
        "**Quick-start notes**\n",
        "\n",
        "* Define with `def`, return with `return`.\n",
        "\n",
        "* Parameters can have default values.\n",
        "\n",
        "* Docstrings (`\"\"\" … \"\"\"`) document behaviour."
      ],
      "metadata": {
        "id": "gbGMbtLf94M4"
      }
    },
    {
      "cell_type": "markdown",
      "source": [
        "### Task 1 — Prime Tester"
      ],
      "metadata": {
        "id": "QOsToPh2-AnZ"
      }
    },
    {
      "cell_type": "code",
      "source": [
        "def is_prime(n: int) -> bool:\n",
        "    \"\"\"\n",
        "    Return True if n is a prime number, else False.\n",
        "    0 and 1 are *not* prime.\n",
        "    \"\"\"\n",
        "    # TODO: replace pass with your implementation\n",
        "    if n <= 1:\n",
        "        return False\n",
        "    if n == 2:\n",
        "        return True\n",
        "    if n % 2 == 0:\n",
        "        return False\n",
        "    for i in range(3, int(n**0.5) + 1, 2):\n",
        "        if n % i == 0:\n",
        "            return False\n",
        "    return True\n",
        "\n",
        "\n",
        "# Quick self-check\n",
        "print([x for x in range(10) if is_prime(x)])   # Expected: [2, 3, 5, 7]\n"
      ],
      "metadata": {
        "id": "_pCU2mIH-DAi",
        "colab": {
          "base_uri": "https://localhost:8080/"
        },
        "outputId": "12b1f9e7-dddb-47cf-c854-abe71bcf55c3"
      },
      "execution_count": 18,
      "outputs": [
        {
          "output_type": "stream",
          "name": "stdout",
          "text": [
            "[2, 3, 5, 7]\n"
          ]
        }
      ]
    },
    {
      "cell_type": "markdown",
      "source": [
        "### Task 2 — Repeater Greeter"
      ],
      "metadata": {
        "id": "TBGXIzVV-E5u"
      }
    },
    {
      "cell_type": "code",
      "source": [
        "def greet(name: str, times: int = 1) -> None:\n",
        "    \"\"\"Print `name`, capitalised, exactly `times` times on one line.\"\"\"\n",
        "    # TODO: your code here\n",
        "    print((name.capitalize() + \" \") * times)\n",
        "    # print(' '.join([name.capitalize() for _ in range(times)]))\n",
        "\n",
        "\n",
        "greet(\"alice\")          # Alice\n",
        "greet(\"bob\", times=3)   # Bob Bob Bob\n"
      ],
      "metadata": {
        "id": "ycvsNyqh-GRM",
        "colab": {
          "base_uri": "https://localhost:8080/"
        },
        "outputId": "2620d122-6bb4-4df8-8816-897806522586"
      },
      "execution_count": 19,
      "outputs": [
        {
          "output_type": "stream",
          "name": "stdout",
          "text": [
            "Alice \n",
            "Bob Bob Bob \n"
          ]
        }
      ]
    },
    {
      "cell_type": "markdown",
      "source": [
        "## 4. Classes 🏗️\n",
        "**Quick-start notes**\n",
        "\n",
        "* Create with class Name:\n",
        "\n",
        "* Special method __init__ runs on construction.\n",
        "\n",
        "* self refers to the instance; attributes live on self."
      ],
      "metadata": {
        "id": "y7K-GaBC-ImE"
      }
    },
    {
      "cell_type": "markdown",
      "source": [
        "### Task 1 — Simple Counter"
      ],
      "metadata": {
        "id": "NgKjsy8A-N3l"
      }
    },
    {
      "cell_type": "code",
      "source": [
        "class Counter:\n",
        "    \"\"\"Counts how many times `increment` is called.\"\"\"\n",
        "    # TODO:\n",
        "    # 1. In __init__, store an internal count variable starting at 0.\n",
        "    # 2. Method increment(step: int = 1) adds `step` to the count.\n",
        "    # 3. Method value() returns the current count.\n",
        "    def __init__(self) -> None:\n",
        "        self._value = 0\n",
        "\n",
        "    def increment(self, step: int = 1):\n",
        "        self._value += step\n",
        "\n",
        "    def value(self):\n",
        "        return self._value\n",
        "\n",
        "\n",
        "c = Counter()\n",
        "for _ in range(5):\n",
        "    c.increment()\n",
        "print(c.value())   # Expected: 5\n"
      ],
      "metadata": {
        "id": "dPFvr_fe-OPR",
        "colab": {
          "base_uri": "https://localhost:8080/"
        },
        "outputId": "443a7e48-013a-4e15-be81-9db09fb3e8e5"
      },
      "execution_count": 20,
      "outputs": [
        {
          "output_type": "stream",
          "name": "stdout",
          "text": [
            "5\n"
          ]
        }
      ]
    },
    {
      "cell_type": "markdown",
      "source": [
        "### Task 2 — 2-D Point with Distance"
      ],
      "metadata": {
        "id": "U99aupan-Q8u"
      }
    },
    {
      "cell_type": "code",
      "source": [
        "import math\n",
        "\n",
        "class Point:\n",
        "    \"\"\"\n",
        "    A 2-D point supporting distance calculation.\n",
        "    Usage:\n",
        "        p = Point(3, 4)\n",
        "        q = Point(0, 0)\n",
        "        print(p.distance_to(q))  # 5.0\n",
        "    \"\"\"\n",
        "    # TODO:\n",
        "    # 1. Store x and y as attributes.\n",
        "    # 2. Implement distance_to(other) using the Euclidean formula.\n",
        "    def __init__(self, x: int, y: int) -> None:\n",
        "        self.x = x\n",
        "        self.y = y\n",
        "\n",
        "    def distance_to(self, q):\n",
        "        return math.dist([self.x, self.y], [q.x, q.y])\n",
        "\n",
        "\n",
        "# Smoke test\n",
        "p, q = Point(3, 4), Point(0, 0)\n",
        "assert round(p.distance_to(q), 1) == 5.0\n"
      ],
      "metadata": {
        "id": "OVh3GEzH-T0w"
      },
      "execution_count": 21,
      "outputs": []
    }
  ]
}